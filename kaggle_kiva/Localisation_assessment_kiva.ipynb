{
  "cells": [
    {
      "metadata": {
        "_cell_guid": "976c9025-27ff-42b2-be87-715f5689af65",
        "_uuid": "f6b5ff30592b7ac904b9324dfda21c4dd6bcbdb3",
        "collapsed": true,
        "trusted": false
      },
      "cell_type": "code",
      "source": "%matplotlib inline\nfrom IPython.display import HTML",
      "execution_count": null,
      "outputs": []
    },
    {
      "metadata": {
        "_cell_guid": "935326b6-5dc9-4717-94f8-aed55b408dfc",
        "_uuid": "5a91128c14be3d88ef1bc5e665bb39177d1e7f1c",
        "collapsed": true,
        "trusted": false
      },
      "cell_type": "code",
      "source": "import warnings\nwarnings.filterwarnings(\"ignore\", category=DeprecationWarning) ",
      "execution_count": null,
      "outputs": []
    },
    {
      "metadata": {
        "scrolled": true,
        "_cell_guid": "31a2d96b-0c3c-4379-ae65-6d0e6545a48c",
        "_uuid": "a8fdec0d7686de1e758454ed5cf7edca1ff8bfe1",
        "collapsed": true,
        "trusted": false
      },
      "cell_type": "code",
      "source": "HTML('''<script>\ncode_show=true; \nfunction code_toggle() {\n if (code_show){\n $('div.input').hide();\n } else {\n $('div.input').show();\n }\n code_show = !code_show\n} \n$( document ).ready(code_toggle);\n</script>\nThe raw code for this IPython notebook is by default hidden for easier reading.\nTo toggle on/off the raw code, click <a href=\"javascript:code_toggle()\">here</a>.''')",
      "execution_count": null,
      "outputs": []
    },
    {
      "metadata": {
        "_cell_guid": "9b55a260-1637-454e-87a5-9bc533ad0e2b",
        "_uuid": "4ef0446828265f36333ba7d9c2ea0ccd1b15d9c7"
      },
      "cell_type": "markdown",
      "source": "# Table of content <a class=\"anchor\" id=\"tablecontent\"></a>\n## [1. Introduction](#intro)\n## [2. Method](#method)\n## [3. Additional data](#add-data)\n## [4. Localisation of borrowers](#localisation)\n### [4.1 Localisation of borrowers by country](#localisation-country)\n#### [4.1.1 Annual mean number of loans](#country-annual-mean)\n#### [4.1.2 Country's population](#country-population)\n#### [4.1.3 Number of loans per 10000 inhabitants](#country-loans-vs-pop)\n#### [4.1.4 Annual mean loan amount](#country-mean-loan)\n#### [4.1.5 Annual mean loan amount / GDP per capita](#country-mean-loan-vs-gdp)\n#### [4.1.6 Correlation analysis](#country-correlation)\n### [4.2 Localisation of borrowers by sector](#localisation-sector)\n#### [4.2.1 Loans distribution by sector on the global scale](#sector-wordwide)\n#### [4.2.2 Loans distribution by sector and country ](#sector-country)\n### [4.3 Localisation of borrowers by gender](#gender)\n#### [4.3.1 Loans distribution by gender on the global scale](#gender-ww)\n#### [4.3.2 Loans distribution by gender and country ](#gender-nat)\n## [5. Welfare assessment](#welfare-assessment)\n### [5.1 Worldwide assessment](#ww-assessment)\n#### [5.1.1 Categorical variables](#ww-assessment-cat)\n#### [5.1.2 Loan activity clustering](#ww-assessment-loan-uses-clustering)\n#### [5.1.3 Loan activity cluster prediction for new borrowers](#ww-assessment-loan-uses-prediction)\n#### [5.1.4 Welfare assessment of borrowers in the database](#ww-assessment-borrowers)\n#### [5.1.5 Welfare assessment of new borrowers](#ww-assessment-new-borrowers)\n### [5.2 Nationwide assessment](#nw-assessment)\n### [5.3 Welfare assessment by country and sector](#ns-assessment)\n## [6. Conclustions](#conclusions)"
    },
    {
      "metadata": {
        "_cell_guid": "2a83e9e3-5154-438b-95b1-83e1509b32d1",
        "_uuid": "09d193c90599bca927a33a88883ad1e8f042b510"
      },
      "cell_type": "markdown",
      "source": "# 1. Introduction <a class=\"anchor\" id=\"intro\"></a>"
    },
    {
      "metadata": {
        "_cell_guid": "f13533a6-fe83-49f3-8b71-e998d25bb28a",
        "_uuid": "3c44fbd89bbbda21a90b94e02838df15adb7df4a"
      },
      "cell_type": "markdown",
      "source": "Kiva has provided a dataset of loans issued over the last two years, and participants are invited to use this data as well as source external public datasets to help Kiva build models for assessing borrower welfare levels.  With a stronger understanding of their borrowers and their poverty levels, Kiva will be able to better assess and maximize the impact of their work.\n\nThe present submission aims at responding to the queries regarding the following criteria:\n\n1. __Localization__ - The highly localized borrower situation will be highlighted\n\n2. __Execution__ - Python functions will be built so that Kiva’s team can readily employ them in their impact calculations.\n\n3. __Ingenuity__ -  The submission aims at providing a model for assessing welfare levels of borrowers, both on a global scale and nation-, sector-wise."
    },
    {
      "metadata": {
        "_cell_guid": "38d793f0-ec64-45ae-83bd-5a668f1745cd",
        "_uuid": "cf6d802981c94b3fb656d75d3b0a093a725c566c"
      },
      "cell_type": "markdown",
      "source": "# 2. Method <a class=\"anchor\" id=\"method\"></a>\n\nTo assess the welfare levels of borrowers,  quantitative statistical methods will be applied to data from Kiva coupled with worldwilde data on economic development and poverty levels provided by World Bank.\n\nIt is worth emphasizing that to ensure a meaningful interpretation of the data, in particular for the purpose of inter-countries comparaison, we will consider the different measures by their:\n-  absolute values\n\nand\n-  __relative values__\n\nThe absolute and relative values are both important, but in different ways and to different people. \n\nFor those who work at Kiva and worldwide lenders, the absolute values tend to be the most important measures to monitor. These measures allow one to know, for instance, how many loans and what is total the amount of loans in a particular country or globally.\n\nHowever, to evaluate the potential effects of loans to borrowers or assess welfare levels of borrowers from different countries, the relative values represent more meaningful measures. For instance, a  200 USD (absolute value) loan means significantly differently to an Afghan and an American, which is due to the different living standard (income and expense levels) in the respective countries. The ratio of the loan amount to the mean income level (a relative measure) might help revealing the different effects of loans to borrowers. Similarly, there are many loans in Philippines, of which the country's population is also important. In order to compare numbers of loans in countries, a relative measure (e.g. #loans/population size) might be used.\n\nTherefore, in the submission, we are considering both absolute and relative measures. The reader will see that for investigating the __localisation of loans__, the absolute and relative measures sometimes reveal different facts. \n"
    },
    {
      "metadata": {
        "_cell_guid": "4581896d-ca20-419d-bc5d-16bd1a16ebef",
        "_uuid": "d49ee603d6295aab66f9c38fa2d69646fd129a07",
        "collapsed": true
      },
      "cell_type": "markdown",
      "source": "To __assess the welfare levels of borrowers__, it is of utmost importance to find out the most important features of borrowers, then associate these features to determined welfare classes. This is indeed a problem of __clustering__ (divide the inial borrowers sample into distinctive clusters), then __classification__ (given new borrowers with loan details, determine which welfare class they belong to). \n\nFor this purpose, the features of borrowers need to be identified. For numerical features (e.g. loan amount), no further pre-processing is required. Otherwise, categorical variables are used to describe the features (e.g. gender, sector). To this end, the function LabelEncoder of sklean was utilized. In particular, for the columns loan use and borrower activity, __natural language processing__ techniques were used to detect the most important features (package __nltk__). The raw text was numericalized in the form of a tf_idf (term frequency-inverse document frequency) matrix. tf_idf matrix is used to weigh how important a word of a document in a document collection. tf-idf weight for a term is the product of its tf weight and idf weight. The most relevant terms will be retrieved by using __k-means__ clustering technique on the tf_idf matrix.\n\nOnce the loans have been clustered, new loans can be easily assigned to an existing cluster (nltk object is used again to convert raw text to numerical values (e.g. Section 5.1.3), then k-means object is utilized to classify the loans (e.g. Section 5.1.5) )"
    },
    {
      "metadata": {
        "_cell_guid": "71ad8575-a785-41cc-8b41-32522d09edfd",
        "_uuid": "9e276db6b2174e41596a3990f63eca0b1ccfa58e"
      },
      "cell_type": "markdown",
      "source": "# 3. Additional data <a class=\"anchor\" id=\"add-data\"></a>\n\nData provided by Kiva will be coupled with external data. More precisely, we collected from the __World Bank__ data on:\n- national demographic data (e.g. population size), \n- economic situations (e.g. annual GDP, annual income), \n- poverty levels (e.g. MPI, rate of population living in poverty) \n\nThe data from __World Bank__ was collected using the package __pandas_datareader__ [documentation](https://pandas-datareader.readthedocs.io/en/latest/remote_data.html#remote-data-wb). This package allows easy search for interested measures. For instance,  the following commands:\n\nfrom pandas_datareader import wb\nwb.search(string = 'Development', field = 'name')\n\nwill return the measures containing the term Development in their name field. In deed, use of pandas_datareader on kaggle platform failed due to certain connection problems. For the sake of simplicity, we collected the data then uploaded them as a data source on kaggle."
    },
    {
      "metadata": {
        "_cell_guid": "04dba350-42da-4748-8727-ba06211bc043",
        "_uuid": "6b9edb13c3db88b259034316a20af72acf92c1fa",
        "collapsed": true,
        "trusted": false
      },
      "cell_type": "code",
      "source": "import sys  \n#reload(sys)  \n#sys.setdefaultencoding('utf8')\n\nimport pandas as pd\n#from pandas_datareader import wb\npd.set_option(\"display.max_colwidth\",200)\n\nimport matplotlib.pyplot as plt\nimport seaborn as sns\n\nimport plotly.offline as py\npy.init_notebook_mode(connected=True)\nimport plotly.graph_objs as go\nimport plotly.tools as tls\nimport plotly.figure_factory as ff\n\nimport numpy as np\n\nimport nltk\n#nltk.download('popular')\nimport pandas as pd\n\nimport pickle\n\nfrom bs4 import BeautifulSoup\nimport re\n#import os\n#import codecs\nfrom sklearn import feature_extraction\n#import mpld3\nfrom nltk.stem.snowball import SnowballStemmer\n\nfrom sklearn import preprocessing\n\nfrom sklearn.cluster import KMeans\n\nfrom sklearn.feature_extraction.text import TfidfVectorizer",
      "execution_count": null,
      "outputs": []
    },
    {
      "metadata": {
        "_cell_guid": "59a3ea35-c8c9-4764-a712-118c4c918b9d",
        "_uuid": "6c790c1cc2f34945a6ee43c1322bf766ed63cdf7",
        "collapsed": true,
        "trusted": false
      },
      "cell_type": "code",
      "source": "#%% define function to plot world maps from series\n\ndef plot_world_map_from_series(df, filename = None):\n    \n    df = df.reset_index()\n    # by default, first columns is country, second columns is value\n    \n    data = [ dict(\n        type = 'choropleth',\n        locations = df.ix[:,0],\n        locationmode = 'country names',\n        z = df.ix[:,1].astype('float'),\n#        text = df.ix[:,0].str.cat( df.ix[:,1].astype('str'), sep = ' '),\n        text = df.ix[:,0], \n#        colorscale = 'Blues',\n        autocolorscale = True,\n        reversescale = False,\n        marker = dict(\n            line = dict (\n                color = 'rgb(180,180,180)',\n                width = 0.5\n            ) ),\n        colorbar = dict(\n            tickprefix = '',\n            #title = df.columns[1]\n        )\n      ) ]\n\n    layout = dict(\n        title = df.columns[1],\n        geo = dict(\n            showframe = False,\n            showcoastlines = False,\n            projection = dict(\n                type = 'Mercator'\n            )\n        )\n    )\n\n    if filename == None:\n        filename = df.columns[1]\n\n    fig = dict( data=data, layout=layout )\n    return py.iplot( fig, validate = True, filename = filename)\n    \n#%% plot horizontal bars from series\ndef plot_barh_from_series(df, filename = None):\n    \n    df = df.reset_index()\n    # by default, first columns is country, second columns is value\n    \n    trace = go.Bar(\n        y= df.ix[:,0],\n        x=df.ix[:,1],\n        orientation = 'h',\n        marker=dict(\n            color=df.ix[:,1],\n            autocolorscale = True,\n            reversescale = False\n        ),\n    )\n    \n    layout = go.Layout(\n        title= df.columns[1],\n        width=800,\n        height=1200,\n        )\n    data = [trace]\n    \n    fig = go.Figure(data=data, layout=layout)\n    \n    if filename == None:\n        filename = df.columns[1]\n    \n    return py.iplot(fig, filename= filename)\n\n#%% plot correlation matrix from pandas frame\ndef plot_correlation_matrix(corr, xcols = None, ycols = None, filename = None, title = None):\n    # corr is the correlation matrix obtained from a dataframe using pandas\n    \n    if xcols == None:\n        xcols = corr.columns.tolist()\n    if ycols == None:\n        ycols = corr.columns.tolist()\n    \n    layout = dict(\n        title = title,\n        width = 800,\n        height = 800,\n#        margin=go.Margin(l=100, r=10, b=50, t=50, pad=5),\n        margin=go.Margin(l=250, r=50, b=50, t=250, pad=4),\n        yaxis= dict(tickangle=-30,\n                    side = 'left',\n                    ),\n        xaxis= dict(tickangle=-30,\n                    side = 'top',\n                    ),\n    )\n    fig = ff.create_annotated_heatmap(\n        z=corr.values,\n        x= xcols,\n        y= ycols,\n        colorscale='Portland',\n        reversescale=True,\n        showscale=True,\n        font_colors = ['#efecee', '#3c3636'])\n    fig['layout'].update(layout)\n    \n    if filename == None:\n        filename = 'correlation matrix'\n    return py.iplot(fig, filename= filename)",
      "execution_count": null,
      "outputs": []
    },
    {
      "metadata": {
        "hide_input": true,
        "_cell_guid": "b714b1a0-4718-4421-9c68-3f3046aeda1c",
        "_uuid": "1c104d332c138ba528b1266a63377062534f9321",
        "collapsed": true,
        "trusted": false
      },
      "cell_type": "code",
      "source": "#%% load data from kiva\ndata_kvloans = pd.read_csv(\"../input/data-science-for-good-kiva-crowdfunding/kiva_loans.csv\")",
      "execution_count": null,
      "outputs": []
    },
    {
      "metadata": {
        "_cell_guid": "d237dd8b-4167-4e23-892a-cc81a02dacfe",
        "_uuid": "9454de2a7a2a02673c2cfd6bac543c990bc36682",
        "collapsed": true,
        "trusted": false
      },
      "cell_type": "code",
      "source": "# using mpi from OPHI. it has been shown that mpi data from kiva is prone to inaccuracy, in particular in GPS locations\n# https://www.kaggle.com/marcomarchetti/ophi-subnat-decomp-headcount-mpi-201718/data\ndata_mpi = pd.read_csv('../input/ophi-subnat-decomp-headcount-mpi-201718/OPHI_SubNational_Decomposition_HeadCount_MPI_2017-18.csv', index_col = None, nrows =993, encoding = 'latin1', usecols = ['ISO_Country_Code', 'Country', 'Sub_national_region', 'World_region', 'Survey', 'Year', 'Population_Share', 'Country_MPI', 'Region_MPI', 'Schooling', 'Child_school_attendance', 'Child_mortality ', 'Nutrition', 'Electricity', 'Improved_sanitation', 'Drinking_water', 'Floor', 'Cooking _fuel', 'Asset_ownership', 'Num_of_indic', 'Indic_missing'])",
      "execution_count": null,
      "outputs": []
    },
    {
      "metadata": {
        "_cell_guid": "8b1b69e3-1e8f-442c-8bc0-8bac7932305d",
        "_uuid": "0fef499ec3d5f2d7f6b8f5e1b1f260a7d59c607b",
        "collapsed": true,
        "trusted": false
      },
      "cell_type": "code",
      "source": "data_kvmpi = pd.read_csv(\"../input/data-science-for-good-kiva-crowdfunding/kiva_mpi_region_locations.csv\")\ndata_kvmpi.dropna(axis= 0, thresh = 2, inplace = True)",
      "execution_count": null,
      "outputs": []
    },
    {
      "metadata": {
        "_cell_guid": "94e5849c-6818-4c82-a376-62b4e6e9986e",
        "_uuid": "58d777a68eab3a11a1b9f456ff7458f3ec8f0086",
        "collapsed": true,
        "trusted": false
      },
      "cell_type": "code",
      "source": "# column of year when loan funded\ndata_kvloans['year']  = pd.to_datetime(data_kvloans['date']).dt.year.astype(str)\n\n# change name of Cote d'Ivoire\ndata_kvloans['country'] = data_kvloans['country'].str.replace(\"Cote D'Ivoire\",\"Cote d'Ivoire\")",
      "execution_count": null,
      "outputs": []
    },
    {
      "metadata": {
        "_cell_guid": "6f51141a-3c1e-4996-8e2d-1e3b8fa20105",
        "_uuid": "a14f8e304a4f49f1a6fbfe0b4e1dd9a6a6514d40",
        "collapsed": true,
        "trusted": false
      },
      "cell_type": "code",
      "source": "data_wb = pd.read_csv('../input/datawb/data_wb.csv')\ndata_wb['year'] = data_wb['year'].astype(str)\ndata_wb.set_index(['country','year'], inplace = True)",
      "execution_count": null,
      "outputs": []
    },
    {
      "metadata": {
        "_cell_guid": "d21d5be7-eb69-490c-97fe-c684517c186c",
        "_uuid": "056730ba7ecc5a0046c5a7c9b3e033065c84baac",
        "collapsed": true,
        "trusted": false
      },
      "cell_type": "code",
      "source": "# data poverty\ndata_poverty = pd.read_csv('../input/datawb/data_poverty.csv')\ndata_poverty['year'] = data_poverty['year'].astype(str)\ndata_poverty.set_index(['country','year'], inplace = True)",
      "execution_count": null,
      "outputs": []
    },
    {
      "metadata": {
        "_cell_guid": "9adc1a30-5476-4daa-a50c-a708e6098359",
        "_uuid": "6495bb172ec80a469fd3612a577ee7f162a28856",
        "collapsed": true,
        "trusted": false
      },
      "cell_type": "code",
      "source": "HTML('''<script>\ncode_show=true; \nfunction code_toggle() {\n if (code_show){\n $('div.input').hide();\n } else {\n $('div.input').show();\n }\n code_show = !code_show\n} \n$( document ).ready(code_toggle);\n</script>\nThe raw code for this IPython notebook is by default hidden for easier reading.\nTo toggle on/off the raw code, click <a href=\"javascript:code_toggle()\">here</a>.''')",
      "execution_count": null,
      "outputs": []
    },
    {
      "metadata": {
        "_cell_guid": "a0f7e582-8d13-45c5-a61d-a6722412aba3",
        "_uuid": "4c169660673f877971f3e7e2a1adb7cc263a040d"
      },
      "cell_type": "markdown",
      "source": "# 4. Localisation of borrowers <a class=\"anchor\" id=\"localisation\"></a>\n[Click here to go to Table of contents](#tablecontent)"
    },
    {
      "metadata": {
        "_cell_guid": "fe3f0d49-3cb6-4cfb-98b7-33e8aff79449",
        "_uuid": "19179479f15f7c200478a59f2433a3bf55a6a850"
      },
      "cell_type": "markdown",
      "source": "As proposed, we compute relative measures when data is available. For instance, knowing the annual total number of loans and the total population of each country, one can calculate the number of Kiva loans per 10000 inhabitants in the country. Similarly, the annual mean loan amount as percentage of annual GDP per capita is obtained."
    },
    {
      "metadata": {
        "_cell_guid": "7c5195bd-f4e0-432b-b3f6-d7fff4c6b467",
        "_uuid": "cbf384ef247675e5f59a15c46fcc000f5951cdd2",
        "collapsed": true,
        "trusted": false
      },
      "cell_type": "code",
      "source": "#%% put all necessary data into a single frame\ndf1 = data_kvloans.groupby(by = ['country', 'year'])['loan_amount'].mean()\ndf1.name = 'Mean loan amount'\n\ndf2 = data_kvloans.groupby(by = ['country', 'year'])['loan_amount'].sum()\ndf2.name = 'Total loan amount'\n\n# number of loans in each country in each years\ndf3 = data_kvloans.groupby(by = ['country', 'year'])['loan_amount'].size()\ndf3.name = '# loans'\n\ndf = pd.concat( [data_wb, df1, df2, df3 ], axis = 1, join = 'outer' )\n\ndf['# loans in 10000 inhabitants'] = 10000.*df['# loans'] /df['Total population']\n\ndf['Mean loan amount / GDP per capita (current US$) (%)'] = 100.* df['Mean loan amount'] / df['GDP per capita (current US$)']\n",
      "execution_count": null,
      "outputs": []
    },
    {
      "metadata": {
        "_cell_guid": "b5ca3823-b12f-4a91-8b6b-1512aa42cd4f",
        "_uuid": "27c3ee7f5967a9beaf2ffd1d25cf6861c3fcda7e"
      },
      "cell_type": "markdown",
      "source": "First, we depict in the following figure the Pearson correlation coefficients calculated for each couple of investigated measures. \n\nThe annual mean loan amount increases with increasing GDP per capita (corr. coeef. = +0.26), which means that people in countries with higher GDP per capita obtain loans at higher average amount. Meanwhile, the ratio mean loan amount/GDP per capita decreases with increasing GDP per capita, which means the loan amount represents a smaller portion.\n\nIt is also worth emphasizing the slight decrease of the number of loans (both #loans and #loans in 10000 inhabitants) when the following measures increase:\n- GDP/capita, \n- mean loan amount,\n- mean loan amount/GDP per capita.\n"
    },
    {
      "metadata": {
        "scrolled": false,
        "_cell_guid": "c5f7bce3-10c8-47cc-84cf-f812ed6825c0",
        "_uuid": "2b1a384fb40ad52e0e07c00e69c35305b1f48e29",
        "collapsed": true,
        "trusted": false
      },
      "cell_type": "code",
      "source": "plot_correlation_matrix( df.corr().round(2))",
      "execution_count": null,
      "outputs": []
    },
    {
      "metadata": {
        "_cell_guid": "c121081b-08cf-4746-83f9-a65ff4d89aa3",
        "_uuid": "6cb3b228b055255b8cca38499c6efc0922784f80",
        "collapsed": true,
        "trusted": false
      },
      "cell_type": "code",
      "source": "HTML('''<script>\ncode_show=true; \nfunction code_toggle() {\n if (code_show){\n $('div.input').hide();\n } else {\n $('div.input').show();\n }\n code_show = !code_show\n} \n$( document ).ready(code_toggle);\n</script>\nThe raw code for this IPython notebook is by default hidden for easier reading.\nTo toggle on/off the raw code, click <a href=\"javascript:code_toggle()\">here</a>.''')",
      "execution_count": null,
      "outputs": []
    },
    {
      "metadata": {
        "_cell_guid": "45f78233-f908-4a5f-b2e9-3546182fedf6",
        "_uuid": "a616c6c0cdc2ed6aaac35b7341cff48fd2f1cb7a"
      },
      "cell_type": "markdown",
      "source": "# 4.1 Localisation of borrowers by country <a class=\"anchor\" id=\"localisation-country\"></a>\n[Click here to go to Table of contents](#tablecontent)"
    },
    {
      "metadata": {
        "_cell_guid": "87337297-3a7a-4d9a-b5ee-8107b95d8506",
        "_uuid": "1b5e2a574a9cc77ba5fe40a22f9107ceb86a4120"
      },
      "cell_type": "markdown",
      "source": "## 4.1.1 Annual mean number of loans <a class=\"anchor\" id=\"country-annual-mean\"></a>\n[Click here to go to Table of contents](#tablecontent)"
    },
    {
      "metadata": {
        "_cell_guid": "faa83fcd-b8e5-406b-97d2-e8ed86c23f90",
        "_uuid": "1bd7fb575d6f55dff1b683090de4b9609a4a0e65"
      },
      "cell_type": "markdown",
      "source": "One first considers the annual mean number of loans in each country."
    },
    {
      "metadata": {
        "_cell_guid": "1b88c693-962f-4694-a5eb-c3c03bf5d98c",
        "_uuid": "3aa54492ae41cf78ecc83c4e837dadceebc96cb6",
        "collapsed": true,
        "trusted": false
      },
      "cell_type": "code",
      "source": "dfaux = df.reset_index().groupby('country')['# loans'].mean()\ndfaux = dfaux.fillna(value = 0)\nplot_barh_from_series( dfaux.sort_values(ascending = False).head(40) )\n\nl1 = dfaux.sort_values(ascending = False).index.tolist()",
      "execution_count": null,
      "outputs": []
    },
    {
      "metadata": {
        "_cell_guid": "bfef3f36-1770-4865-9007-240ca2533360",
        "_uuid": "2d66ffbc3d12d542167cf8c733ca55aa7b891285"
      },
      "cell_type": "markdown",
      "source": "Hereafter one finds the list of 5 countries with the highest annual number of loans in the descending order"
    },
    {
      "metadata": {
        "_cell_guid": "f0709ff8-0eb4-4ce6-b46a-73ad032026b9",
        "_uuid": "4825db3765428fa3ffb22d1b3940386c707081ca",
        "collapsed": true,
        "trusted": false
      },
      "cell_type": "code",
      "source": "df.ix[ l1[:5]]",
      "execution_count": null,
      "outputs": []
    },
    {
      "metadata": {
        "_cell_guid": "83414d1b-8645-4315-a506-0f5c4ceb4cb9",
        "_uuid": "c16fdf129d48157291513651710cf22c58e8fd52"
      },
      "cell_type": "markdown",
      "source": "And the number of loans per year represented on a world map. Philippines and Kenya are two countries with outstanding annual mean number of loans."
    },
    {
      "metadata": {
        "_cell_guid": "8e47c5ee-201c-4d08-9e15-091ee5cd9fc5",
        "_uuid": "c64de1feafb84aa661638f1ac131822f83208da2",
        "collapsed": true,
        "trusted": false
      },
      "cell_type": "code",
      "source": "plot_world_map_from_series( dfaux )",
      "execution_count": null,
      "outputs": []
    },
    {
      "metadata": {
        "_cell_guid": "065ea66e-ab32-4076-a9e4-9944838b0dd6",
        "_uuid": "9e209c010efc6302b7dc6a9b522f7c09c924cac3",
        "collapsed": true,
        "trusted": false
      },
      "cell_type": "code",
      "source": "HTML('''<script>\ncode_show=true; \nfunction code_toggle() {\n if (code_show){\n $('div.input').hide();\n } else {\n $('div.input').show();\n }\n code_show = !code_show\n} \n$( document ).ready(code_toggle);\n</script>\nThe raw code for this IPython notebook is by default hidden for easier reading.\nTo toggle on/off the raw code, click <a href=\"javascript:code_toggle()\">here</a>.''')",
      "execution_count": null,
      "outputs": []
    },
    {
      "metadata": {
        "_cell_guid": "d9ef1746-8a00-476c-b96d-3b85e19b63ca",
        "_uuid": "8d4f2876db37149b590a6b651177c4a629ff729c"
      },
      "cell_type": "markdown",
      "source": "## 4.1.2 Total population <a class=\"anchor\" id=\"country-population\"></a>\n[Click here to go to Table of contents](#tablecontent)"
    },
    {
      "metadata": {
        "_cell_guid": "15f5714e-8eb7-4e58-b855-9a079c989b36",
        "_uuid": "e470abb6f7d4849d365438dacb6b6499eff55bf4"
      },
      "cell_type": "markdown",
      "source": "However, it is worth noting the differences in countries populations. One finds below the population size in the ascending order of annual mean number of loans."
    },
    {
      "metadata": {
        "_cell_guid": "cba2b8f1-039b-4ea5-87e2-ff98202213c6",
        "_uuid": "8a930ee02f76c258dd91cb9bacf686c9e4db3bd6",
        "collapsed": true,
        "trusted": false
      },
      "cell_type": "code",
      "source": "dfaux = df.reset_index().groupby('country')['Total population'].mean().loc[l1]\n\nplot_barh_from_series( dfaux.head(30) )",
      "execution_count": null,
      "outputs": []
    },
    {
      "metadata": {
        "_cell_guid": "77e4e60d-e860-4952-8953-9d59bcd998d9",
        "_uuid": "87045c2cb6fa7e517041d9a52f2d12db7dabceae"
      },
      "cell_type": "markdown",
      "source": "## 4.1.3 Number of loans per 10000 inhabitants<a class=\"anchor\" id=\"country-loans-vs-pop\"></a>\n[Click here to go to Table of contents](#tablecontent)"
    },
    {
      "metadata": {
        "_cell_guid": "aa9804e5-1b3b-4145-85f4-7ea632f8a52a",
        "_uuid": "99d50eed246df41fb8a923bac5a9b3ad62ed8c71"
      },
      "cell_type": "markdown",
      "source": "Herein we consider the number of loans per 10000 inhabitants, which allow to take into account the effect of countries populations on the absolute number of loans. The following figure depicts this measure in the ascending order of absolute number of loans."
    },
    {
      "metadata": {
        "_cell_guid": "a5f1a555-9d5a-405c-82d0-0231c7e4d29c",
        "_uuid": "e2773eebe3589136916093d4c864d02156249e2e",
        "collapsed": true,
        "trusted": false
      },
      "cell_type": "code",
      "source": "dfaux = df.reset_index().groupby('country')['# loans in 10000 inhabitants'].mean().loc[l1]\n\nplot_barh_from_series( dfaux.head(30) )",
      "execution_count": null,
      "outputs": []
    },
    {
      "metadata": {
        "_cell_guid": "f24be3a9-3fe0-4840-aa97-12f4d627ca15",
        "_uuid": "4f3165084e0db6baba3d76a1dd75c9f89565122b"
      },
      "cell_type": "markdown",
      "source": "The fact is that when considering the number of loans per 10000 inhabitants, it is neither Philippines nor Kenya which takes the first positions. It is Samoa, then El Salvador, then Tajikistan, Cambodia, Nicaragua."
    },
    {
      "metadata": {
        "_cell_guid": "7c141611-f9a7-40be-9d73-c2267cd2d439",
        "_uuid": "f8abe8fe31e5d8111681cd64b341c699d7458807"
      },
      "cell_type": "markdown",
      "source": "We are plotting the number of loans per 10000 inhabitants on a world map without Samoa (which is an outlier in the middle of the Pacific ocean) and El Salvador.\n\nA localisation of loans is observed in South America, South East Asia and certain parts of Africa"
    },
    {
      "metadata": {
        "_cell_guid": "fd0e4b2d-42a6-4097-a96f-f3ebbc587866",
        "_uuid": "e10f904fb6afdb69110516fd2ffec76ee3164a53",
        "collapsed": true,
        "trusted": false
      },
      "cell_type": "code",
      "source": "dfaux = df.reset_index().groupby('country')['# loans in 10000 inhabitants'].mean()\n# remove Samoa (too different)\ndfaux = dfaux[ ~dfaux.index.isin([ 'Samoa', 'El Salvador'] ) ]\n# replace nan with 0 (no loan)\ndfaux = dfaux.fillna(value = 0)\nplot_world_map_from_series( dfaux )",
      "execution_count": null,
      "outputs": []
    },
    {
      "metadata": {
        "_cell_guid": "6f095fd9-3a30-4446-ac12-4f18036d189b",
        "_uuid": "0088f040e10cc0ba1fe539c0c06a0c4e652d8f62"
      },
      "cell_type": "markdown",
      "source": "The following table contains details about the Samoa and El Salvador"
    },
    {
      "metadata": {
        "_cell_guid": "7c1f5e2e-953b-48c9-a630-567a5ad25763",
        "_uuid": "d0b8527a05918f80ff8e92cf363c5d59fd8f9669",
        "collapsed": true,
        "trusted": false
      },
      "cell_type": "code",
      "source": "df.ix[ ['Samoa', 'El Salvador']]",
      "execution_count": null,
      "outputs": []
    },
    {
      "metadata": {
        "_cell_guid": "6bcf78c9-814d-4b13-acc3-96479bc3ffe5",
        "_uuid": "63cf48d59df3d916a9dd212491e9b38dc98b3893"
      },
      "cell_type": "markdown",
      "source": "## 4.1.4 Number of loans per 10000 poor inhabitants<a class=\"anchor\" id=\"country-loans-vs-poor-pop\"></a>\n[Click here to go to Table of contents](#tablecontent)"
    },
    {
      "metadata": {
        "_cell_guid": "da520cfd-4026-4159-bdff-e06e94afbec7",
        "_uuid": "bd63a84b0fd28cba5ad6f49b08c7830d0f4cdadc"
      },
      "cell_type": "markdown",
      "source": "We considered the ratio between the number of loans and population size. However, it is even more appealing to investigate the number of loans over the size of poor population in each country."
    },
    {
      "metadata": {
        "_cell_guid": "8c4ca083-e2fe-47da-8649-9dc61d778332",
        "_uuid": "3a3493a4231382cecee696359cebd329efad99db",
        "collapsed": true,
        "trusted": false
      },
      "cell_type": "code",
      "source": "# join mean values of two dataframes (over different periods, assumption that the trend stays the same for poverty data)\ndf_pov = pd.concat([df.reset_index().groupby('country').mean(), data_poverty.reset_index().groupby('country').mean(), data_kvmpi.groupby('country')['MPI'].mean() ], axis = 1, join = 'outer')",
      "execution_count": null,
      "outputs": []
    },
    {
      "metadata": {
        "_cell_guid": "235e3cc7-0898-479e-b96c-5b485641c4c5",
        "_uuid": "5c71801081e7bce7c8d14877c83ebc34965298a2",
        "collapsed": true,
        "trusted": false
      },
      "cell_type": "code",
      "source": "df_pov[u'# loans in 10000  poor inhabitants'] = 10000. * df_pov[u'# loans'] / (df_pov[u'Total population'] * df_pov[u'Poverty headcount ratio at national poverty lines (% of population)'] / 100.)",
      "execution_count": null,
      "outputs": []
    },
    {
      "metadata": {
        "_cell_guid": "a99fb072-4fc9-4600-b052-8005d1c93831",
        "_uuid": "94526eea1d5ece11780e9c858a31b1577c0eb691",
        "collapsed": true,
        "trusted": false
      },
      "cell_type": "code",
      "source": "plot_barh_from_series( df_pov.loc[l1[:30],u'# loans in 10000  poor inhabitants'])",
      "execution_count": null,
      "outputs": []
    },
    {
      "metadata": {
        "_cell_guid": "cf1e17e0-c9f8-4e33-9f66-a5d53c38e083",
        "_uuid": "50da6e957c03ce62dc01e3a7d317f7fd17fd017d"
      },
      "cell_type": "markdown",
      "source": "There was no major difference compared to the number of loans per 10000 inhabitants in the previous figure, except the fact that for some countries, no data was available regarding the size of poor population (e.g. Kenya)"
    },
    {
      "metadata": {
        "_cell_guid": "e656cde3-7877-4d6d-b10d-2b62ba4894bf",
        "_uuid": "c5e9d5f68dc463af655cb49f316b33705054702e",
        "collapsed": true,
        "trusted": false
      },
      "cell_type": "code",
      "source": "HTML('''<script>\ncode_show=true; \nfunction code_toggle() {\n if (code_show){\n $('div.input').hide();\n } else {\n $('div.input').show();\n }\n code_show = !code_show\n} \n$( document ).ready(code_toggle);\n</script>\nThe raw code for this IPython notebook is by default hidden for easier reading.\nTo toggle on/off the raw code, click <a href=\"javascript:code_toggle()\">here</a>.''')",
      "execution_count": null,
      "outputs": []
    },
    {
      "metadata": {
        "_cell_guid": "31f9e317-b256-4f37-aa92-2477f6c9c9ab",
        "_uuid": "29ff5d29ee0e01193727bc58dc83d065d054ab3b"
      },
      "cell_type": "markdown",
      "source": "## 4.1.5 Annual mean loan mount <a class=\"anchor\" id=\"country-mean-loan\"></a>\n[Click here to go to Table of contents](#tablecontent)"
    },
    {
      "metadata": {
        "_cell_guid": "1bffff50-bbf1-4515-9345-d910d90f6d7d",
        "_uuid": "aaa1199c01219ab6c990ddf172626ec1c1b1f2a7"
      },
      "cell_type": "markdown",
      "source": "We considered the question: how many people in each country received the loans? The next question to answer is: how much did the receive?"
    },
    {
      "metadata": {
        "_cell_guid": "03719b90-4203-410d-9084-d7d3cffffde2",
        "_uuid": "a6cf7ec3870f3813d236b6d700768461ef877ab5"
      },
      "cell_type": "markdown",
      "source": "We first calculate the annual mean loan amount in each country, the plot this quantity in the ascending order of annual mean number of loans"
    },
    {
      "metadata": {
        "_cell_guid": "41da8649-31d3-4732-893a-08a1181ae137",
        "_uuid": "4d1d67246447c81930d5b3f0daf13c4b0a89bbc5",
        "collapsed": true,
        "trusted": false
      },
      "cell_type": "code",
      "source": "dfaux = df.reset_index().groupby('country')['Mean loan amount'].mean()\ndfaux = dfaux.fillna(value = 0.)\ndfaux.drop(['Virgin Islands (U.S.)'], inplace = True)",
      "execution_count": null,
      "outputs": []
    },
    {
      "metadata": {
        "_cell_guid": "c82e137b-2301-4f1f-a66d-3db724f3674a",
        "_uuid": "62b13bad130ff3644f9010e7b838142013bcef26",
        "collapsed": true,
        "trusted": false
      },
      "cell_type": "code",
      "source": "plot_barh_from_series( dfaux.ix[l1[:30] ] )",
      "execution_count": null,
      "outputs": []
    },
    {
      "metadata": {
        "_cell_guid": "59874367-f3dd-46e5-98ef-100fdfd21db0",
        "_uuid": "a9d844960cd18184cc149683af19b71337e1575d"
      },
      "cell_type": "markdown",
      "source": "The figure illustrates the fact that the number of loans and annual mean loan amount is negatively correlated. In terms of mean loan amount, it is neither Philippines nor Kenya, El Salvador that is at the top of the list. It is the USA. The mean loan amount is plotted on a world map (without Cote d'Ivoire, which is an exceptionnal outlier)"
    },
    {
      "metadata": {
        "_cell_guid": "520e94e3-7d06-4ecd-97cb-67893ec43d90",
        "_uuid": "6c80f4cf0a4e3e0b141d8f4da11fd8b6ac0b9b3e",
        "collapsed": true,
        "trusted": false
      },
      "cell_type": "code",
      "source": "plot_world_map_from_series( dfaux.loc[ ~(dfaux.index == \"Cote d'Ivoire\")]) # remove Cote d'Ivoire",
      "execution_count": null,
      "outputs": []
    },
    {
      "metadata": {
        "_cell_guid": "c29949ed-7c8f-436b-beef-d3f06cfb58b9",
        "_uuid": "22d38bc3295c05500b7979f5950a1b6d084d6e6a"
      },
      "cell_type": "markdown",
      "source": "Indeed, there was only one loan in Cote d'Ivoire worth 50000 USD, which allowed the creation of new jobs for 200 workers."
    },
    {
      "metadata": {
        "_cell_guid": "0147741d-551b-4248-ba4f-a2f66863f14a",
        "_uuid": "f1dac8b811ec09e92fe2c01aaa28ba1ab8f5392b",
        "collapsed": true,
        "trusted": false
      },
      "cell_type": "code",
      "source": "data_kvloans.loc[  data_kvloans['country'] == \"Cote d'Ivoire\"]",
      "execution_count": null,
      "outputs": []
    },
    {
      "metadata": {
        "_cell_guid": "5070a4b3-b3b8-4079-bb63-f2268e503148",
        "_uuid": "53837770ba79ffaa3fb6940c875d67708c206877",
        "collapsed": true,
        "trusted": false
      },
      "cell_type": "code",
      "source": "HTML('''<script>\ncode_show=true; \nfunction code_toggle() {\n if (code_show){\n $('div.input').hide();\n } else {\n $('div.input').show();\n }\n code_show = !code_show\n} \n$( document ).ready(code_toggle);\n</script>\nThe raw code for this IPython notebook is by default hidden for easier reading.\nTo toggle on/off the raw code, click <a href=\"javascript:code_toggle()\">here</a>.''')",
      "execution_count": null,
      "outputs": []
    },
    {
      "metadata": {
        "_cell_guid": "c487a93c-dce5-43b9-a5af-288e221ac8f3",
        "_uuid": "ec5ff17b99eaab1038440ad07fe0c2be95af514e"
      },
      "cell_type": "markdown",
      "source": "## 4.1.6 Annual mean loan mount / GDP per capita <a class=\"anchor\" id=\"country-mean-loan-vs-gdp\"></a>\n[Click here to go to Table of contents](#tablecontent)"
    },
    {
      "metadata": {
        "_cell_guid": "b722300d-dbb6-428a-b21e-941bbaee57f9",
        "_uuid": "963148fee9247c1e71216076429957d5d12be291"
      },
      "cell_type": "markdown",
      "source": "It is however important to emphasize that the same loan amount does not mean the same thing to borrowers in different countries. For instance, a 500$ loan might be a forturne for a poor Afghan, whereas the same amount does not represent a huge amount for an American. The income varies from one country to another, from one region to another. Therefore, we propose the use of the ratio (in %): annual mean loan amount / annual GDP per capita. This measure takes into account the national wealth (in terms of GDP per capita), thus allows a more reasonable comparaison between countries."
    },
    {
      "metadata": {
        "_cell_guid": "e4963fd9-415f-4130-80cc-58e7273f0eff",
        "_uuid": "70381747931a2b74839e5d52c3022ab7da3a8d39",
        "collapsed": true,
        "trusted": false
      },
      "cell_type": "code",
      "source": "dfaux = df.reset_index().groupby('country')['Mean loan amount / GDP per capita (current US$) (%)'].mean().loc[l1]\ndfaux = dfaux.fillna(value = 0)\n\nplot_barh_from_series( dfaux.ix[l1[:70]] , filename = 'mean loan vs. gdp per capita barh')",
      "execution_count": null,
      "outputs": []
    },
    {
      "metadata": {
        "_cell_guid": "c328354c-cd65-4cca-8826-58e8328b6f95",
        "_uuid": "e13f7fd087decb8a44bc72266a5cc4dce2cf0f59"
      },
      "cell_type": "markdown",
      "source": "A world map plot of the ratio mean loan amount / GDP per capita. "
    },
    {
      "metadata": {
        "_cell_guid": "5597c7f0-d10f-4e1c-9541-2f70370894e9",
        "_uuid": "35198f206feb23ea258ccc5835986ef1deb5c972",
        "collapsed": true,
        "trusted": false
      },
      "cell_type": "code",
      "source": "plot_world_map_from_series( dfaux, filename = 'mean loan vs. gdp per capita map')",
      "execution_count": null,
      "outputs": []
    },
    {
      "metadata": {
        "_cell_guid": "76f18767-b90a-4cdf-b3f4-4fa2ae525440",
        "_uuid": "727a4646754df760a396d58f275ce0536555e505"
      },
      "cell_type": "markdown",
      "source": "This allows to identify a strong localisation in Africa when considering the ratio mean loan amount vs. GDP per capita. It happens that even a small loan amount (in absolute values) in those countries (Burundi, Somalia, Afganistan, Malawi, etc.) represents a 1000% of the country's annual GDP per capita."
    },
    {
      "metadata": {
        "_cell_guid": "73adcb68-bca0-40f3-8033-e62def53b9db",
        "_uuid": "2b24a162d13f76eb9dc856c62dc943ed1fb80427"
      },
      "cell_type": "markdown",
      "source": "## 4.1.7 Correlation analysis <a class=\"anchor\" id=\"country-correlation\"></a>\n[Click here to go to Table of contents](#tablecontent)"
    },
    {
      "metadata": {
        "_cell_guid": "89e79624-63c2-4ebd-b147-68f1b28d6938",
        "_uuid": "a54c17d303860a6def80609265d1138310393bd5"
      },
      "cell_type": "markdown",
      "source": "We enrich our analysis with data indicating the poverty levels of countries, namely the poverty gaps at different levels, the MPI, income share held by the poorest population."
    },
    {
      "metadata": {
        "scrolled": false,
        "_cell_guid": "5e632fcc-6732-4156-b388-b7fe6b5f334a",
        "_uuid": "606c519b3470fc96abdc329fa344da872b743a60",
        "collapsed": true,
        "trusted": false
      },
      "cell_type": "code",
      "source": "xcols = ['Total population','GDP per capita (current US$)',u'Income share held by lowest 10%',u'Income share held by lowest 20%',u'Poverty gap at $1.90 a day (2011 PPP) (%)',u'Poverty gap at national poverty lines (%)',u'Poverty gap at $5.50 a day (2011 PPP) (% of population)',u'Poverty headcount ratio at $1.90 a day (2011 PPP) (% of population)',u'Poverty headcount ratio at $3.20 a day (2011 PPP) (% of population)',u'Poverty headcount ratio at $5.50 a day (2011 PPP) (% of population)',u'Poverty headcount ratio at national poverty lines (% of population)','MPI']\nycols = ['Total loan amount', '# loans','# loans in 10000 inhabitants', '# loans in 10000  poor inhabitants', 'Mean loan amount', 'Mean loan amount / GDP per capita (current US$) (%)']\nplot_correlation_matrix( df_pov.corr().loc[ycols, xcols].round(2), xcols = xcols, ycols = ycols, filename = 'correlation matrix poverty' )",
      "execution_count": null,
      "outputs": []
    },
    {
      "metadata": {
        "_cell_guid": "dc628526-48db-42ab-b841-7d7ea26a930a",
        "_uuid": "90c60f9f053b499aa1f5c171ab0f5b99754017f4"
      },
      "cell_type": "markdown",
      "source": "The above analysis of correlation allows to enrich the previous obsevations. The above figure depicts the linear correlation coefficient between all measures considered previously (including those derived from given data, and those combined with external sources). The following facts are observed:\n\nThe poorer the population is, the smaller the total number (as well as its ratio in 10000 poor inhabitants) and total amount of KIVA loans  become. \n\nHowever, for those in poor countries who receive KIVA loans, the mean values of loans is positively correlated with the poverty level, thus these loans represent a higher percentage with respect to the country GDP per capita.\n\nAs a summary, people at lower welfare levels get less KIVA loans (in total number of loans, in total amount of loans). These loans represent an important ratio with respect to their average income."
    },
    {
      "metadata": {
        "_cell_guid": "8285978a-600a-4018-9c5b-10c2d656d413",
        "_uuid": "d2b26fcb9161479acbbb27a5e5f28955175bd8b2",
        "collapsed": true,
        "trusted": false
      },
      "cell_type": "code",
      "source": "HTML('''<script>\ncode_show=true; \nfunction code_toggle() {\n if (code_show){\n $('div.input').hide();\n } else {\n $('div.input').show();\n }\n code_show = !code_show\n} \n$( document ).ready(code_toggle);\n</script>\nThe raw code for this IPython notebook is by default hidden for easier reading.\nTo toggle on/off the raw code, click <a href=\"javascript:code_toggle()\">here</a>.''')",
      "execution_count": null,
      "outputs": []
    },
    {
      "metadata": {
        "_cell_guid": "02b78957-5d14-4e57-a43c-06b62fe1023a",
        "_uuid": "7d97c72087c598be79060a6b72b230bc2200fb0b"
      },
      "cell_type": "markdown",
      "source": "# 4.2 Localisation of borrowers by sector <a class=\"anchor\" id=\"localisation-sector\"></a>\n[Click here to go to Table of contents](#tablecontent)"
    },
    {
      "metadata": {
        "_cell_guid": "1a6eeeaf-f90b-443b-b49e-1c0ed3e8f3ee",
        "_uuid": "0350ac60543c66af3bf119ff6403a5680edb9305",
        "collapsed": true,
        "trusted": false
      },
      "cell_type": "code",
      "source": "dfkv = data_kvloans[ [u'country', u'year', u'activity', u'sector', u'loan_amount']]",
      "execution_count": null,
      "outputs": []
    },
    {
      "metadata": {
        "_cell_guid": "f6da0d98-ee1e-42a5-8268-3b8039ef30d8",
        "_uuid": "652000af9219b8f81a4739585080bd0f1387ad15"
      },
      "cell_type": "markdown",
      "source": "## 4.2.1 Loans distribution by sector on the global scale <a class=\"anchor\" id=\"sector-wordwide\"></a>"
    },
    {
      "metadata": {
        "_cell_guid": "de152bfa-232a-4625-96ba-ab1696c3e037",
        "_uuid": "bb4a72ef2beba1b47410e4af8168b28f4d57c00d"
      },
      "cell_type": "markdown",
      "source": "We now investigate the distribution of loans by sector on the worlwide level.\n\nFirst, the number of loans by sector is depicted in the following pie chart. Hover over the figure to see the absolute annual number of loans."
    },
    {
      "metadata": {
        "_cell_guid": "bee83529-cc0b-4785-a283-81313ed6be61",
        "_uuid": "b405ba5887032a70f38c235155204e53e38865fe",
        "collapsed": true,
        "trusted": false
      },
      "cell_type": "code",
      "source": "trace = go.Pie(sort = False,labels=dfkv.groupby('sector').size().index.tolist(), values=list(dfkv.groupby('sector').size().values))\nfig = {\n    'data': [trace],\n    'layout': {'title': '# loans by sector'}\n     }\n\npy.iplot(fig)",
      "execution_count": null,
      "outputs": []
    },
    {
      "metadata": {
        "_cell_guid": "e0bba6a5-804d-46a2-aadb-cd161e119c5c",
        "_uuid": "61213b1e6a6fb1acd02241374631e868192fdb18"
      },
      "cell_type": "markdown",
      "source": "Below we find the total loan amount by sector:"
    },
    {
      "metadata": {
        "_cell_guid": "8472bbf9-b55a-43a0-94a4-d52692625a1a",
        "_uuid": "d7d18dd4f6bc51808551536731cc31c09fbeff94",
        "collapsed": true,
        "trusted": false
      },
      "cell_type": "code",
      "source": "trace = go.Pie(sort = False,labels=dfkv.groupby('sector')['loan_amount'].sum().index.tolist(), values=list(dfkv.groupby('sector')['loan_amount'].sum().values))\nfig = {\n    'data': [trace],\n    'layout': {'title': 'Total loan amount by sector'}\n     }\n\npy.iplot(fig)",
      "execution_count": null,
      "outputs": []
    },
    {
      "metadata": {
        "_cell_guid": "1f395496-cb4d-4f62-a7b5-b9ba1d4819a3",
        "_uuid": "91986fd9de801b8eb35d04b7d98c09a18ecf4f02"
      },
      "cell_type": "markdown",
      "source": "The mean loan amount by sector is distributed as follows:"
    },
    {
      "metadata": {
        "_cell_guid": "41e21da3-7bc2-4ec5-8a7a-52da67ce9b16",
        "_uuid": "3862a449e741e09b63b1f2783d6bddcccb0707d6",
        "collapsed": true,
        "trusted": false
      },
      "cell_type": "code",
      "source": "trace = go.Pie(sort = False, labels=dfkv.groupby('sector')['loan_amount'].mean().index.tolist(), values=list(dfkv.groupby('sector')['loan_amount'].mean().values))\nfig = {\n    'data': [trace],\n    'layout': {'title': 'Mean loan amount by sector'}\n     }\n\npy.iplot(fig)",
      "execution_count": null,
      "outputs": []
    },
    {
      "metadata": {
        "_cell_guid": "c44ae3ce-158c-49b0-8c5a-c6837952b1bb",
        "_uuid": "74306b6c7c4a277de7edd50f0f553642bf51cd9d",
        "collapsed": true
      },
      "cell_type": "markdown",
      "source": "We can draw the following observations: \n\n- The total loan amount in sectors of agriculture, food and retail is significantly higher than in other sectors.\n- However, the mean loan amounts by sector are close whether for entertainment, agriculture, food, retail, clothing, health or other stuffs. The differences in total loan amount is due to the total number of loans. \n\nThe conclusion is that: when considering the distribution of loans by sector on a global scale (loans from all countries combined), mean loan amount does not strongly depends on sector of activities. But there are significantly more loans in agriculture, food and retail than in other sectors.\n"
    },
    {
      "metadata": {
        "_cell_guid": "dae50024-046a-48b5-b1f6-cce70e4c4486",
        "_uuid": "05b6b9c8f1cf5432ff9c6584d7203179ccaba1ee"
      },
      "cell_type": "markdown",
      "source": "In the following, we are depicting the distribution of loan amount by sector and country."
    },
    {
      "metadata": {
        "_cell_guid": "7dbb2372-dc1c-4709-8779-f7f2a3e5a615",
        "_uuid": "a415855160db369fedee27f5231bce40ffb7eda2",
        "collapsed": true,
        "trusted": false
      },
      "cell_type": "code",
      "source": "HTML('''<script>\ncode_show=true; \nfunction code_toggle() {\n if (code_show){\n $('div.input').hide();\n } else {\n $('div.input').show();\n }\n code_show = !code_show\n} \n$( document ).ready(code_toggle);\n</script>\nThe raw code for this IPython notebook is by default hidden for easier reading.\nTo toggle on/off the raw code, click <a href=\"javascript:code_toggle()\">here</a>.''')",
      "execution_count": null,
      "outputs": []
    },
    {
      "metadata": {
        "_cell_guid": "8e707576-ca93-4aec-8c9c-04d300ccd323",
        "_uuid": "1751226adbebbccb4fad189e5b6ed41e475ad996"
      },
      "cell_type": "markdown",
      "source": "## 4.2.2 Loans distribution by sector and by country <a class=\"anchor\" id=\"sector-country\"></a>\n[Click here to go to Table of contents](#tablecontent)"
    },
    {
      "metadata": {
        "_cell_guid": "4da15adb-ae48-4f46-845b-0c438a4dfe50",
        "_uuid": "6f26fd5ac218632ec103a1b1b80e2c3c9e38a0b4"
      },
      "cell_type": "markdown",
      "source": "### Total loan amount"
    },
    {
      "metadata": {
        "_cell_guid": "e9a9ae45-c546-4266-a780-7f3c44092a4d",
        "_uuid": "be56497ea90766d040d8b2a927a5be826f5f1b99"
      },
      "cell_type": "markdown",
      "source": "The figures below shows total loan amounts by sectors that borrowers from each country obtained as percentage of global loan mount. The tables contains the list of 10 countries with highest sector-wise loan amounts. The last row in the table is the sum of total loan amounts in these 10 countries.\n\nThe figures lead to the following conclusion: in terms of total loan amount, the distribution of loans exhibits an important geographical sector-wise localisation. \n- In other words, in a given sector of activities, the total loan amounts tend be concentrated in a handful of countries (or regions). The loans in 10 first countries commonly sum up to more than 55% of the worldwide sector-wise loan (e.g. in agriculture, clothing, construction, education...), sometimes up to 70%-80% (in sectors like food, health and entertainment).\n- The countries with highest loan amount vary from one sector to another. For instance, in the sector of services and entertainment, US borrowers obtain respectively 20% and 55% of the total loan. In retail, borrowers from Philippines obtain 20% of total loan. Regarding personal uses, borrowers from Cambodia hold up to 28%. Concerning housing, borrowers from Elsalvador and Vietnam share 28% of the total loan."
    },
    {
      "metadata": {
        "scrolled": false,
        "_cell_guid": "6ff89836-a45b-4858-8bc6-1728f9642abd",
        "_uuid": "f9e17dc61a650101b64a4f355aa2b42c2fc01d1e",
        "collapsed": true,
        "trusted": false
      },
      "cell_type": "code",
      "source": "#%% % of each sector in each country\n\ndfaux = dfkv.groupby(['country', 'sector']).sum()\ndfaux = dfaux.unstack(level = -1)\ndfaux.fillna(value = 0., inplace = True)\n\n\ndfa = 100 * dfaux / dfaux.sum(axis = 0)\n\nsectors = ['Agriculture', 'Arts', 'Clothing', 'Construction', 'Education', 'Entertainment', 'Food', 'Health', 'Housing', 'Manufacturing', 'Personal Use', 'Retail', 'Services', 'Transportation', 'Wholesale']\n\nsectors = ['Agriculture', 'Clothing', 'Construction', 'Education', 'Entertainment', 'Food', 'Health', 'Housing',  'Services', 'Personal Use', 'Retail']\n\n\nfor sector in sectors:\n    print('\\n')\n    print('Sector ' + sector + ' : Loan amount per country (% of worldwide total loan amount in this sector) ')\n\n    dfaux = dfa.xs(sector, axis = 1, level = 1)\n    dfaux.columns = [ 'Loan amount (% of worldwide total loan amount in the sector)']\n    \n    country_list = data_wb.index.get_level_values('country').unique().tolist()\n    \n    for i in country_list:\n        if not(i in dfaux.index.tolist()):\n            dfaux = dfaux.append( pd.DataFrame( index = [i], data = [0.0], columns = dfaux.columns ) )\n    dfaux.drop(['Virgin Islands (U.S.)'], inplace = True)\n    plot_world_map_from_series( dfaux )\n    print(dfaux.sort_values(by =[ 'Loan amount (% of worldwide total loan amount in the sector)'], ascending = False).head(10))\n    \n    print(dfaux.sort_values(by =[ 'Loan amount (% of worldwide total loan amount in the sector)'], ascending = False).head(10).sum())    \n    \n    print('- - - - - - - - - - - - - - - - - -  - - - - - - - - - - - -  - - - - - - - - - - - -')\n    print('\\n')",
      "execution_count": null,
      "outputs": []
    },
    {
      "metadata": {
        "_cell_guid": "7e9ec89e-296f-4089-924b-b68998971e90",
        "_uuid": "f41b83fac3e8a9253cc55128ae36a75b1856a1ed"
      },
      "cell_type": "markdown",
      "source": "### Distribution by relative measures: mean loan amount / GDP per capita, # loans / population size"
    },
    {
      "metadata": {
        "_cell_guid": "bbfb33a7-01cd-40b5-8da6-54c6834905c0",
        "_uuid": "ca7d7dd7e8ec682d3463c381ce61419156e18354"
      },
      "cell_type": "markdown",
      "source": "We considered the sector-wise distribution of loans by total loan amount. This measure is important to know how loans are distributed on a global level. On a local level, as previously explained, the use of relative measures (namely mean loan amount / GDP per capita, # loans / population size) allows one to assess the effects of loans on the local population.\n\nIn the following, the relative measures are depicted on figures. The tables shows 10 countries with highest measures. Only two sectors are presented, however, by changing the list of sectors, one can easily obtain results for other sectors."
    },
    {
      "metadata": {
        "scrolled": false,
        "_cell_guid": "7e0a42ef-cf14-479b-b191-9d5cf3e1591c",
        "_uuid": "47e3b86915ec427dbe00daf23124b0e03680181b",
        "collapsed": true,
        "trusted": false
      },
      "cell_type": "code",
      "source": "#sectors = ['Agriculture', 'Arts', 'Clothing', 'Construction', 'Education', 'Food', 'Health', 'Housing', 'Manufacturing', 'Retail', 'Services', 'Transportation', 'Wholesale']\nsectors = ['Agriculture',  'Food']\n\n\nfor sector in sectors:\n\n    print('Sector ' + sector + ' : Distribution of loans in terms of number of loans, mean loan amount, mean amount / GDP per capita')\n\n    # total loan amount per country per sector\n    df1 = dfkv[ dfkv['sector'] == sector ].groupby(by = ['country', 'year'])['loan_amount'].sum()\n    df1.name = 'Total loan amount'\n    # mean loan amount per country per sector\n    df2 = dfkv[ dfkv['sector'] == sector ].groupby(by = ['country', 'year'])['loan_amount'].mean()\n    df2.name = 'Mean loan amount'\n    \n    # number of loans per country per sector\n    df3 = dfkv[ dfkv['sector'] == sector ].groupby(by = ['country', 'year'])['loan_amount'].size()\n    df3.name = '# loans'\n    \n    \n    \n    df = pd.concat([data_wb, df1, df2, df3 ], axis = 1, join = 'outer')\n\n    df['# loans in 10000 inhabitants'] = 10000.*df['# loans'] /df['Total population']\n    \n    df['Mean loan amount / GDP per capita (current US$) (%)'] = 100.* df['Mean loan amount'] / df['GDP per capita (current US$)']\n    \n\n    # Mean loan amount /year\n    dfaux = df.reset_index().groupby('country')['Mean loan amount'].mean()\n    dfaux = dfaux.fillna(value = 0.)\n    dfaux.drop(['Virgin Islands (U.S.)'], inplace = True)\n    #plot_barh_from_series( dfaux.sort_values(ascending = False).head(10) )\n    plot_world_map_from_series( dfaux)\n    print( dfaux.sort_values(ascending = False).head(10) )\n    print('- - - - - - - - - - - - - - - ')\n    print('\\n')\n    \n    # Mean loan amount / gdp / year\n    dfaux = df.reset_index().groupby('country')['Mean loan amount / GDP per capita (current US$) (%)'].mean()\n    dfaux = dfaux.fillna(value = 0)\n    dfaux.drop(['Virgin Islands (U.S.)'], inplace = True)\n    plot_world_map_from_series( dfaux, filename = 'Mean loan vs. gdp per capita')\n    print( dfaux.sort_values(ascending = False).head(10) )\n    print('- - - - - - - - - - - - - - - ')\n    print('\\n')\n    # mean number of loans per year\n    dfaux = df.reset_index().groupby('country')['# loans'].mean()\n    dfaux = dfaux.fillna(value = 0)\n    dfaux.drop(['Virgin Islands (U.S.)'], inplace = True)\n    plot_world_map_from_series( dfaux, filename = 'Mean number of loans per year' )\n    print( dfaux.sort_values(ascending = False).head(10) )\n    print('- - - - - - - - - - - - - - - ')\n    print('\\n')\n    \n    # total number of loans / 10000 habitants in all years\n    dfaux = df.reset_index().groupby('country')['# loans in 10000 inhabitants'].mean()\n    # remove Samoa (too different)\n    dfaux = dfaux[ ~dfaux.index.isin([ 'Samoa'] ) ]\n    # replace nan with 0 (no loan)\n    dfaux = dfaux.fillna(value = 0)\n    dfaux.drop(['Virgin Islands (U.S.)'], inplace = True)\n    plot_world_map_from_series( dfaux , filename = 'N# loans in 10000 inhabitants')\n    print( dfaux.sort_values(ascending = False).head(10) )\n    \n    print('- - - - - - - - - - - - - - - - - -  - - - - - - - - - - - - - - - - - - - - - - - - ')\n    print('\\n')",
      "execution_count": null,
      "outputs": []
    },
    {
      "metadata": {
        "_cell_guid": "576c1115-1dd6-4b36-8c69-3b4e0a6f09a2",
        "_uuid": "1918fc9224627a069091364b0fa0cbc24aa9cd1f"
      },
      "cell_type": "markdown",
      "source": "# 4.3 Loans distribution by borrowers gender <a class=\"anchor\" id=\"gender\"></a>\n[Click here to go to Table of contents](#tablecontent)"
    },
    {
      "metadata": {
        "_cell_guid": "95f5c3ea-9143-4b59-974c-72f05102a361",
        "_uuid": "87cd92d36490388e97dca8f32498753ad9873de2"
      },
      "cell_type": "markdown",
      "source": "## 4.3.1 Worldwide scale <a class=\"anchor\" id=\"gender-ww\"></a>\n[Click here to go to Table of contents](#tablecontent)"
    },
    {
      "metadata": {
        "_cell_guid": "5d587a7d-48fe-4ea4-a93c-ceeeed02e97d",
        "_uuid": "c4375d89aa8ecb2d4eb2ac6e5673bcde378355f4"
      },
      "cell_type": "markdown",
      "source": "As one can see below, on a global scale, female borrowers represent approximately 80% of the total number and the total loan amount. "
    },
    {
      "metadata": {
        "_cell_guid": "44aaa0d0-50f8-4edb-904a-83c8eeece3c0",
        "_uuid": "d0646accc5a71d4b9870d2149acebbb6df307811",
        "collapsed": true,
        "trusted": false
      },
      "cell_type": "code",
      "source": "dfaux = data_kvloans[ [u'country', u'year', u'activity', u'sector', u'loan_amount', u'borrower_genders']]",
      "execution_count": null,
      "outputs": []
    },
    {
      "metadata": {
        "_cell_guid": "bd8d32a0-8e46-4f4e-9b28-21b2f5ddd0fe",
        "_uuid": "1e7524d9b962b0c1e83f41f646be12cb72d91e7e",
        "collapsed": true,
        "trusted": false
      },
      "cell_type": "code",
      "source": "# replace 4221 missing values in gender by female (the most popular)\ndfaux.loc[ dfaux['borrower_genders'].isnull() , 'borrower_genders']  = 'female'\ndfaux.loc[ dfaux['borrower_genders'].str.contains('female'), 'borrower_genders' ] = 'female'\ndfaux.loc[ ~dfaux['borrower_genders'].str.contains('female') , 'borrower_genders'] = 'male'",
      "execution_count": null,
      "outputs": []
    },
    {
      "metadata": {
        "_cell_guid": "4afa04d7-d590-4570-88b8-f0e4368a201b",
        "_uuid": "610ecba4683f01a80c4981d939eecfac1af7a783",
        "collapsed": true,
        "trusted": false
      },
      "cell_type": "code",
      "source": "trace = go.Pie(sort = False,labels=dfaux.groupby('borrower_genders').size().index.tolist(), values=list(dfaux.groupby('borrower_genders').size().values))\nfig = {\n    'data': [trace],\n    'layout': {'title': '# loans by gender'}\n     }\n\npy.iplot(fig)",
      "execution_count": null,
      "outputs": []
    },
    {
      "metadata": {
        "_cell_guid": "bae219b9-c0d6-4563-8093-44ddfffe9a5c",
        "_uuid": "8d399f8fa719b088437371b2c28086159cbee327",
        "collapsed": true,
        "trusted": false
      },
      "cell_type": "code",
      "source": "trace = go.Pie(sort = False,labels=dfaux.groupby('borrower_genders')['loan_amount'].sum().index.tolist(), values=list(dfaux.groupby('borrower_genders')['loan_amount'].sum().values))\nfig = {\n    'data': [trace],\n    'layout': {'title': 'Total loan amount by gender'}\n     }\n\npy.iplot(fig)",
      "execution_count": null,
      "outputs": []
    },
    {
      "metadata": {
        "_cell_guid": "ff1ebc2b-c84e-4dcd-9097-c52e6d2aa226",
        "_uuid": "42822af24dcebceef921323e5ba9db82d2b6e4f3"
      },
      "cell_type": "markdown",
      "source": "## 4.3.2 National scale <a class=\"anchor\" id=\"gender-nat\"></a>\n[Click here to go to Table of contents](#tablecontent)"
    },
    {
      "metadata": {
        "_cell_guid": "0db62e0a-696e-4dbe-bc73-3753dd846627",
        "_uuid": "321ebfce00153c47b94363bb0d60a59c2acdad3d"
      },
      "cell_type": "markdown",
      "source": "On the national level, it is worth calculating the percentage of female borrowers. "
    },
    {
      "metadata": {
        "_cell_guid": "071b647e-bb2d-4ee9-9c32-2b85ec2713f5",
        "_uuid": "dd58fa29367e1a960dbe8a53bb417faf20d2393f",
        "collapsed": true,
        "trusted": false
      },
      "cell_type": "code",
      "source": "# frequency of borrowers by gender\ndfaux2 = dfaux.groupby(by='country')['borrower_genders'].value_counts(normalize=True)",
      "execution_count": null,
      "outputs": []
    },
    {
      "metadata": {
        "_cell_guid": "68ba7f1f-c305-4751-b5ff-f38861e35443",
        "_uuid": "fa6c2f6b70307b0e663615604e83ed05bda636a6",
        "collapsed": true,
        "trusted": false
      },
      "cell_type": "code",
      "source": "dfaux2.head(5)",
      "execution_count": null,
      "outputs": []
    },
    {
      "metadata": {
        "_cell_guid": "832599cf-fab4-4287-98a7-55939d11906c",
        "_uuid": "c3e8399ca5b569c358de7ebb60956da080707206"
      },
      "cell_type": "markdown",
      "source": "The following histogram and box plot shows that in almost all countries where there are Kiva loans, female borrowers represent at least 50% of the total number. "
    },
    {
      "metadata": {
        "_cell_guid": "2b4cb568-f3be-4341-9004-e0d91f2c7296",
        "_uuid": "dff4aab27fb0a763cedbf665bc6ebce77296183b",
        "collapsed": true,
        "trusted": false
      },
      "cell_type": "code",
      "source": "plt.figure()\ndfaux2.loc[:,'female'].plot.hist()\nplt.xlabel('Female borrower (% of total number)')\nplt.show()",
      "execution_count": null,
      "outputs": []
    },
    {
      "metadata": {
        "_cell_guid": "4993620e-0690-4bee-bf1a-0cfd627a3a21",
        "_uuid": "c11c0e9814fbb3436af8a5c36674b9abfb09bc86",
        "collapsed": true,
        "trusted": false
      },
      "cell_type": "code",
      "source": "plt.figure()\ndfaux2.loc[:,'female'].plot(kind = 'box')\nplt.ylabel('Female borrower (% of total number)')\nplt.title('')\nplt.show()",
      "execution_count": null,
      "outputs": []
    },
    {
      "metadata": {
        "_cell_guid": "0d863798-c521-4e42-90e1-34b9c1b54141",
        "_uuid": "f440337fd10f001248f73c73b45fb4893fe31050"
      },
      "cell_type": "markdown",
      "source": "The same data presented on the world map leads to:"
    },
    {
      "metadata": {
        "_cell_guid": "b2387034-5475-4e40-9ee3-8a15ec17c6f1",
        "_uuid": "712e425ff57090fb2ca3f3faf24397411e6c28ce",
        "collapsed": true,
        "trusted": false
      },
      "cell_type": "code",
      "source": "countrylist = data_wb.reset_index().set_index('country').index.unique()\ndfaux3 = pd.concat( [ pd.DataFrame(index = countrylist), dfaux2.loc[:,'female'] ], axis = 1, join = 'outer' )\ndfaux3.columns = ['Female borrower (% of total number)']\nplot_world_map_from_series( dfaux3)",
      "execution_count": null,
      "outputs": []
    },
    {
      "metadata": {
        "_cell_guid": "9d1b779c-3627-4497-9bb2-979a52d60e86",
        "_uuid": "f71ae22787b7f5f9ccc1b7ad887d84be11f74e11",
        "collapsed": true,
        "trusted": false
      },
      "cell_type": "code",
      "source": "HTML('''<script>\ncode_show=true; \nfunction code_toggle() {\n if (code_show){\n $('div.input').hide();\n } else {\n $('div.input').show();\n }\n code_show = !code_show\n} \n$( document ).ready(code_toggle);\n</script>\nThe raw code for this IPython notebook is by default hidden for easier reading.\nTo toggle on/off the raw code, click <a href=\"javascript:code_toggle()\">here</a>.''')",
      "execution_count": null,
      "outputs": []
    },
    {
      "metadata": {
        "_cell_guid": "6c1b3c39-c089-4a37-9880-bd3d1727ff79",
        "_uuid": "2b77db60a9f9bfc10c689fa0b226291fe82e16a9"
      },
      "cell_type": "markdown",
      "source": "# 5. Welfare assessment <a class=\"anchor\" id=\"welfare-assessment\"></a>\n[Click here to go to Table of contents](#tablecontent)"
    },
    {
      "metadata": {
        "_cell_guid": "1b1a2c5e-8269-4501-8043-2b28db1ce805",
        "_uuid": "73c354025bf1c3577d485ecccf19f518a11df600"
      },
      "cell_type": "markdown",
      "source": "The objective of this section is to assess the welfare levels of borrowers given the loan details. We propose to use a clustering technique (K-Means) to evaluate the welfare levels of borrowers. The idea behind is that borrowers with similar loan details belong to the same cluster which represents a welfare level. Note that hereafter we are not going to make the judgment whether one welfare level is higher than another. This conclusion can be obtained by looking thoroughly at the clusters obtained after the analysis.\n\nThe loan details that will be utilized for clustering comprise:\n\n- MPI of countries: which reflects the overal poverty level of the country. This is important for an assessment at the global level.\n- Loan amount / GDP per capita: which accounts for both the loan amount and its relative value with respect to the borrowers's income level\n- Sector & loan use: which shows the activity of the borrower\n- term in months & repayment interval: which are related to the behaviour of the borrower.\n\nOther measures might be used in the clustering process, e.g. local MPI if available."
    },
    {
      "metadata": {
        "_cell_guid": "b4a4445f-6b14-4618-9e2e-c2f5fa6533ba",
        "_uuid": "cfb3fda37fd40c89fe8ad71a6a8a31ee7b6b8041"
      },
      "cell_type": "markdown",
      "source": "# 5.1 Worldwide welfare assessment <a class=\"anchor\" id=\"ww-assessment\"></a>\n[Click here to go to Table of contents](#tablecontent)"
    },
    {
      "metadata": {
        "_cell_guid": "f25983e7-c53b-4dc4-9929-2eb7e572c1e7",
        "_uuid": "f57caea94715606d9756060fb39f24e97509c59c"
      },
      "cell_type": "markdown",
      "source": "We start with assessing the welfare level of borrowers on the worldwide scale: all countries, all sectors, all loan uses ... "
    },
    {
      "metadata": {
        "_cell_guid": "cb4602b9-fde8-4ef4-aa3e-3d7f73e1fac5",
        "_uuid": "ef4aa4e9fb89839a0d72b81271dd9d6b6f6c7d20"
      },
      "cell_type": "markdown",
      "source": "## 5.1.1 Categorical variables <a class=\"anchor\" id=\"ww-assessment-cat\"></a>\n[Click here to go to Table of contents](#tablecontent)"
    },
    {
      "metadata": {
        "_cell_guid": "ebc61cff-8e20-4c32-b328-914d3018e32a",
        "_uuid": "5a883db913d91ecb0635a7ccc9aea5ba8b0f6588",
        "collapsed": true,
        "trusted": false
      },
      "cell_type": "code",
      "source": "df = data_kvloans[ [ 'loan_amount', 'activity', 'sector', 'use', 'country_code', 'country', 'region', 'term_in_months', 'borrower_genders', 'repayment_interval','year'] ]",
      "execution_count": null,
      "outputs": []
    },
    {
      "metadata": {
        "_cell_guid": "f603c43f-5c04-402c-b812-80901c4e3e2f",
        "_uuid": "0ddeec6271a484f20f025be95f86ecd58438bf1c",
        "collapsed": true,
        "trusted": false
      },
      "cell_type": "code",
      "source": "# add GDP per capita to the dataframe\ndf = pd.concat( [df, pd.DataFrame(columns = ['GDP per capita (current US$)'],index = df.index, data = [ np.nan ] * len(df) ) ], axis = 1, join = 'outer' )\n\n      \nfor country, year in data_wb.reset_index()[[ 'country', 'year' ]].values:\n    df.loc[(df['country'] == country) & (df['year'] == year), 'GDP per capita (current US$)'] = data_wb.loc[ country, year ]['GDP per capita (current US$)']\n\n\ndf['Loan amount / GDP per capita (%)' ]  = 100* df['loan_amount'] / df['GDP per capita (current US$)']\n\n# MPI country\ndf = pd.concat( [df, pd.DataFrame(columns = ['MPI country'],index = df.index, data = [ np.nan ] * len(df) ) ], axis = 1, join = 'outer' )\nfor country in data_mpi[ 'Country'].unique().tolist():\n    df.loc[ (df['country'] == country) , 'MPI country'] = data_mpi.loc[  (data_mpi['Country'] == country) , 'Country_MPI' ].unique()[0]",
      "execution_count": null,
      "outputs": []
    },
    {
      "metadata": {
        "_cell_guid": "80d3cd62-e143-4a9f-95e4-888b1caf1eec",
        "_uuid": "149cded9996c7913e42cd28ea284cb4018c1175f"
      },
      "cell_type": "markdown",
      "source": "### Labelling the sectors\nCategorical variables are used to represent the sectors of borrowers"
    },
    {
      "metadata": {
        "_cell_guid": "e43f5fba-0021-4509-8d3f-2f02d42407b0",
        "_uuid": "408ed9983c284cf7e3efbf34117c82dad9120341",
        "collapsed": true,
        "trusted": false
      },
      "cell_type": "code",
      "source": "labels_sector = preprocessing.LabelEncoder()\nlabels_sector.fit( df['sector'].unique().tolist() )\ndf.loc[:,'sector label'] = labels_sector.transform( df['sector'] )",
      "execution_count": null,
      "outputs": []
    },
    {
      "metadata": {
        "_cell_guid": "92b487bb-38d1-40de-809d-57d414716519",
        "_uuid": "5ffd517d8192b6c4078c664110871a7a37b1b99f",
        "collapsed": true,
        "trusted": false
      },
      "cell_type": "code",
      "source": "pd.DataFrame.from_dict( { 'Sector': df['sector'].unique().tolist(), 'Sector label': list(labels_sector.transform( df['sector'].unique().tolist() ) ) }) ",
      "execution_count": null,
      "outputs": []
    },
    {
      "metadata": {
        "_cell_guid": "a8777e9c-1f84-45e9-afc3-99de7020d8b7",
        "_uuid": "bda30a16a7a2e8b4b6be93cf40b16d4c00a8732b"
      },
      "cell_type": "markdown",
      "source": "### Labelling the repayment interval\nCategorical variables are used to represent the repayment interval"
    },
    {
      "metadata": {
        "_cell_guid": "f33d98a1-d870-40bc-8250-874a15ad279d",
        "_uuid": "0b9d7283c6ad266bf9af25250e19004bffadba4c",
        "collapsed": true,
        "trusted": false
      },
      "cell_type": "code",
      "source": "labels_repayment = preprocessing.LabelEncoder()\nlabels_repayment.fit( df['repayment_interval'].unique().tolist() )\ndf.loc[:,'repayment interval label'] = labels_repayment.transform( df['repayment_interval'] )",
      "execution_count": null,
      "outputs": []
    },
    {
      "metadata": {
        "_cell_guid": "a1a3bb51-6313-43d8-a14b-f795a82e1ca1",
        "_uuid": "61ae68f8bfcbf54a7927f94f7b1824d47a80125f",
        "collapsed": true,
        "trusted": false
      },
      "cell_type": "code",
      "source": "pd.DataFrame.from_dict( { 'Repayment interval': df['repayment_interval'].unique().tolist(), 'Repayment interval label': list(labels_repayment.transform( df['repayment_interval'].unique().tolist() ) ) }) ",
      "execution_count": null,
      "outputs": []
    },
    {
      "metadata": {
        "_cell_guid": "32e1f9be-dd17-4347-a1c9-dcba31506981",
        "_uuid": "d92654c62fdffa26aef10fd974c734346a4e7aec"
      },
      "cell_type": "markdown",
      "source": "### Labelling the borrowers genders\nCategorical variables are used to represent the gender of borrowers"
    },
    {
      "metadata": {
        "_cell_guid": "7ee67c0a-2182-4dfa-ae1c-eefe2a964b0a",
        "_uuid": "9f92218da845d5ec6b9097e5530e412bc22d60fc",
        "collapsed": true,
        "trusted": false
      },
      "cell_type": "code",
      "source": "# replace missing values by female (the most popular)\ndf.loc[ df['borrower_genders'].isnull() , 'borrower_genders']  = 'female'\ndf.loc[ df['borrower_genders'].str.contains('female'), 'borrower_genders' ] = 'female'\ndf.loc[ ~df['borrower_genders'].str.contains('female') , 'borrower_genders'] = 'male'",
      "execution_count": null,
      "outputs": []
    },
    {
      "metadata": {
        "_cell_guid": "6a586982-9091-4d37-b5be-75b74f22a6b8",
        "_uuid": "0dbb6812d42c7b3502797439d3d76d402f35d4d1",
        "collapsed": true,
        "trusted": false
      },
      "cell_type": "code",
      "source": "labels_gender = preprocessing.LabelEncoder()\nlabels_gender.fit( df['borrower_genders'].unique().tolist() )\ndf.loc[:,'gender label'] = labels_gender.transform( df['borrower_genders'] )",
      "execution_count": null,
      "outputs": []
    },
    {
      "metadata": {
        "_cell_guid": "e5929ee9-feae-4d7b-9328-c746a53bb271",
        "_uuid": "914bdc30aed474a42b0b71413b9cb06bd7ccf676",
        "collapsed": true,
        "trusted": false
      },
      "cell_type": "code",
      "source": "pd.DataFrame.from_dict( { 'Gender': df['borrower_genders'].unique().tolist(), 'Gender label': list(labels_gender.transform( df['borrower_genders'].unique().tolist() ) ) }) ",
      "execution_count": null,
      "outputs": []
    },
    {
      "metadata": {
        "_cell_guid": "0bf42cad-8b8e-4794-90fc-00b3644b6e13",
        "_uuid": "a011b1e208fcb32341bffef9406bc9c87b760c6f"
      },
      "cell_type": "markdown",
      "source": "## 5.1.2 Loan activity clustering <a class=\"anchor\" id=\"ww-assessment-loan-uses-clustering\"></a>\n[Click here to go to Table of contents](#tablecontent)"
    },
    {
      "metadata": {
        "_cell_guid": "21a6f3cd-4267-4796-b25e-caee6f7e9040",
        "_uuid": "8e42f0ae37e93fb150829671e71a21e1b22e3a59",
        "collapsed": true
      },
      "cell_type": "markdown",
      "source": "To classify the activities of all borrowers, natural language processing technique will be used. The idea is to tokenize the activities, detect stems of words and their frequencies in the text then retrieving the important features. The Natural Language Toolkit https://www.nltk.org/ is used."
    },
    {
      "metadata": {
        "_cell_guid": "3d2eb81d-3cdb-4a7a-82a0-8aff5433a71c",
        "_uuid": "e937a8d99e5683d7a6261705f0f71cc1ef7ca63d",
        "collapsed": true,
        "trusted": false
      },
      "cell_type": "code",
      "source": "# load nltk's SnowballStemmer as variabled 'stemmer'\nstemmer = SnowballStemmer(\"english\")\n#print(stemmer)\n\n\n# here I define a tokenizer and stemmer which returns the set of stems in the text that it is passed\n\ndef tokenize_and_stem(text):\n    # first tokenize by sentence, then by word to ensure that punctuation is caught as it's own token\n    tokens = [word for sent in nltk.sent_tokenize(text) for word in nltk.word_tokenize(sent)]\n    filtered_tokens = []\n    # filter out any tokens not containing letters (e.g., numeric tokens, raw punctuation)\n    for token in tokens:\n        if re.search('[a-zA-Z]', token):\n            filtered_tokens.append(token)\n    stems = [stemmer.stem(t) for t in filtered_tokens]\n    return stems\n\n\ndef tokenize_only(text):\n    # first tokenize by sentence, then by word to ensure that punctuation is caught as it's own token\n    tokens = [word.lower() for sent in nltk.sent_tokenize(text) for word in nltk.word_tokenize(sent)]\n    filtered_tokens = []\n    # filter out any tokens not containing letters (e.g., numeric tokens, raw punctuation)\n    for token in tokens:\n        if re.search('[a-zA-Z]', token):\n            filtered_tokens.append(token)\n    return filtered_tokens",
      "execution_count": null,
      "outputs": []
    },
    {
      "metadata": {
        "_cell_guid": "959ef0a3-4752-42fb-bf9a-f0696bd9efbc",
        "_uuid": "3f6c64991a0e002e9ecd9694c9638fab729ac6fe",
        "collapsed": true,
        "trusted": false
      },
      "cell_type": "code",
      "source": "#df['use'] = df['use'].str.replace('buy','purchase')\ntext = df['activity'].values.astype(str).tolist() # convert nan cell to string",
      "execution_count": null,
      "outputs": []
    },
    {
      "metadata": {
        "_cell_guid": "91d54efd-6e16-4a84-920a-dead0793a92b",
        "_uuid": "6fbd08dd728095c1027f85125fa70469b97d3217",
        "collapsed": true,
        "trusted": false
      },
      "cell_type": "code",
      "source": "# create a dictionary of tokens and stems\ntotalvocab_stemmed = []\ntotalvocab_tokenized = []\nfor i in text:\n    \n    allwords_tokenized = tokenize_only(i)\n    totalvocab_tokenized.extend(allwords_tokenized)\n    \ntotalvocab_tokenized = list( set( totalvocab_tokenized  ) )\n\ntotalvocab_stemmed = [ stemmer.stem(t) for t in totalvocab_tokenized ]\n#pickle.dump(totalvocab_stemmed, open(\"../input/cm-kiva-nlp/totalvocab_stemmed.p\",\"wb\"))\n#totalvocab_stemmed = pickle.load(open(\"../input/cm-kiva-nlp/totalvocab_stemmed.p\",\"rb\"))\n\nvocab_frame = pd.DataFrame({'words': totalvocab_tokenized}, index = totalvocab_stemmed)\n\n#vocab_frame.info()",
      "execution_count": null,
      "outputs": []
    },
    {
      "metadata": {
        "_cell_guid": "7abe753c-9a19-496e-8907-9065cd330bc1",
        "_uuid": "f9f304f4f480cba01ac8d6e3ca061ea438f6bbc3",
        "collapsed": true,
        "trusted": false
      },
      "cell_type": "code",
      "source": "# term frequency - inverse document frequency :  is a numerical statistic reflecting how important a word is to a document in a collection or corpus\n# take into account only tokens that appear in more than 5% less than 95% of documents. Those appearing more than 95% of docs tend to be irrelevant\ntfidf_vectorizer = TfidfVectorizer(max_df=0.95, max_features= 20,\\\n                                 min_df=0.01, stop_words='english', norm = 'l2',\\\n                                 use_idf=True, analyzer = 'word', tokenizer=tokenize_and_stem, ngram_range= (1,1) )\n\n#This operation takes around 20 minutes of computational time, therefore, I computed the matrix offline and use it as a data source\n#tfidf_matrix = tfidf_vectorizer.fit_transform(text)\n#pickle.dump(tfidf_vectorizer, open(\"../input/cm-kiva-nlp/tfidf_vectorizer.p\",\"wb\"))\n#pickle.dump(tfidf_matrix, open(\"../input/cm-kiva-nlp/tfidf_matrix.p\",\"wb\"))\n\ntfidf_vectorizer = pickle.load( open(\"../input/cm-kiva-nlp/tfidf_vectorizer.p\",\"rb\") )\ntfidf_matrix = pickle.load( open(\"../input/cm-kiva-nlp/tfidf_matrix.p\",\"rb\") )",
      "execution_count": null,
      "outputs": []
    },
    {
      "metadata": {
        "_cell_guid": "1d34eab4-e0e9-4dcb-b531-7dae8677dcf0",
        "_uuid": "b2f2284bc441be1928b88cc2154f53be59d084ae"
      },
      "cell_type": "markdown",
      "source": "The important stems detected are the following:"
    },
    {
      "metadata": {
        "_cell_guid": "63a95969-b37c-46bd-8b99-c503bf87b5d3",
        "_uuid": "803f56f14a39788d283710b62fb8b02c54fe3621",
        "collapsed": true,
        "trusted": false
      },
      "cell_type": "code",
      "source": "terms = tfidf_vectorizer.get_feature_names()\nlen(terms)\nprint(terms[:])",
      "execution_count": null,
      "outputs": []
    },
    {
      "metadata": {
        "_cell_guid": "2c863e51-c30a-4270-bbab-0b4bb0ba46fd",
        "_uuid": "29756ec341a5f007b5599ce1df21ab801a2ed061",
        "collapsed": true,
        "trusted": false
      },
      "cell_type": "code",
      "source": "#vocab_frame.loc[ terms]\n#vocab_frame.loc[ 'like']",
      "execution_count": null,
      "outputs": []
    },
    {
      "metadata": {
        "_cell_guid": "01aa8078-736b-42d9-929e-fe40eef4ef5b",
        "_uuid": "1de7f0e2d8a22df30df26f0e1c3f3fb5915a1c3a"
      },
      "cell_type": "markdown",
      "source": "The loan activities are assigned in different clusters as a function of the tokens (words) they contain."
    },
    {
      "metadata": {
        "_cell_guid": "31cf317d-ece1-4642-80f7-b4a69d2c3f74",
        "_uuid": "ce6fe63ac4b7c30a31ef1dbf91107b8d57f26396",
        "collapsed": true,
        "trusted": false
      },
      "cell_type": "code",
      "source": "#%% CLUSTERING by loan activity\n\nnum_clusters = 50\n\nkm = KMeans(n_clusters=num_clusters, random_state = 1)\n\n#This operation takes several minutes of computational time, therefore, I computed the matrix offline and use it as a data source\n\n#km.fit(tfidf_matrix)\n#pickle.dump(km, open(\"../input/cm-kiva-nlp/km.p\",\"wb\"))\n\nkm = pickle.load( open(\"../input/cm-kiva-nlp/km.p\",\"rb\") )\n\nclusters = km.labels_.tolist()",
      "execution_count": null,
      "outputs": []
    },
    {
      "metadata": {
        "_cell_guid": "cad68e19-341a-43cd-a1a5-1aa6a06379de",
        "_uuid": "84a500db37bbd1d6f898ad76a9f6528e476f809a",
        "collapsed": true,
        "trusted": false
      },
      "cell_type": "code",
      "source": "df['activity label']  = clusters\n#df['activity label'].value_counts()",
      "execution_count": null,
      "outputs": []
    },
    {
      "metadata": {
        "_cell_guid": "2a3baaec-df41-486b-b195-81c0961322b8",
        "_uuid": "0bcaf5c52a7eca321e1243ff4fa440429488c674",
        "collapsed": true,
        "trusted": false
      },
      "cell_type": "code",
      "source": "HTML('''<script>\ncode_show=true; \nfunction code_toggle() {\n if (code_show){\n $('div.input').hide();\n } else {\n $('div.input').show();\n }\n code_show = !code_show\n} \n$( document ).ready(code_toggle);\n</script>\nThe raw code for this IPython notebook is by default hidden for easier reading.\nTo toggle on/off the raw code, click <a href=\"javascript:code_toggle()\">here</a>.''')",
      "execution_count": null,
      "outputs": []
    },
    {
      "metadata": {
        "_cell_guid": "c52c0d93-a4b7-4c18-ae23-a28d2a2e4d39",
        "_uuid": "71c0c274a402759659043b51fad6296d6132996a"
      },
      "cell_type": "markdown",
      "source": "## 5.1.3 Loan activity classification <a class=\"anchor\" id=\"ww-assessment-loan-uses-prediction\"></a>\n[Click here to go to Table of contents](#tablecontent)"
    },
    {
      "metadata": {
        "_cell_guid": "7c2bb757-d87b-4b43-a801-e050f0bb39d7",
        "_uuid": "da0a439193f3c1439e99d964ad01328273245091"
      },
      "cell_type": "markdown",
      "source": "Given a new loan demands (as follows), their loan activities can be classified using the obtained K-means object."
    },
    {
      "metadata": {
        "_cell_guid": "00bb5a57-038b-4c4f-81c7-7e187251a64b",
        "_uuid": "d011c34cb2f5ba5272c71d17bded0293d0fb49ab",
        "collapsed": true,
        "trusted": false
      },
      "cell_type": "code",
      "source": "df.head(2)",
      "execution_count": null,
      "outputs": []
    },
    {
      "metadata": {
        "_cell_guid": "a8f90877-25b6-4e7a-9044-5b8d2644175b",
        "_uuid": "fe6512393e0ed1e93e69b9c3b8ce63c4da3948c9"
      },
      "cell_type": "markdown",
      "source": "The predictions are exactly those expected:"
    },
    {
      "metadata": {
        "_cell_guid": "0778fa01-bc21-4981-80ce-059726665d8c",
        "_uuid": "05e009e626d473347c6c3f61d1c52920512018da",
        "collapsed": true,
        "trusted": false
      },
      "cell_type": "code",
      "source": "# prediction: assume that loanuses_predict contains the loan uses of new demands\nloanact_predict = df.loc[0:1,'activity'].values.astype(str).tolist() # convert nan cell to string\ntfidf_matrix_predict = tfidf_vectorizer.transform(loanact_predict)\n# loan uses classes for the new demand are predicted by:\nloanact_classes = km.predict( tfidf_matrix_predict )\nprint(loanact_classes )",
      "execution_count": null,
      "outputs": []
    },
    {
      "metadata": {
        "_cell_guid": "a06a496f-6061-40b3-aa54-509f3ae72fec",
        "_uuid": "a4529466bf17ea4089e1a4bcb9c00dd263a629ed"
      },
      "cell_type": "markdown",
      "source": "Each cluster of activity is characterized by certain terms listed in the following. It is worth emphasizing that the clustering algorithm appears to reveal the borrowers' activities with great details. For instance, in the sector of Agriculture, cluster 14 contains those activities related to Fruits & Vegetables, whereas cluster 6 is contains the keyword Pigs, cluster 10: fishing, cluster 16: clothing. This will not be obtained using simply a value_counts function. All clusters are dedicated to a specific activity, except cluster 0 which contains a lot of items. Those activities are actually not as frequent as others (when considering the stems, or roots of words), therefore given the limited size of the features that we expect, they were gathered in a single cluster. It is really great, since we could reduce the activity column to a categorical variable of 20 levels instead of 163 unique values as the data show."
    },
    {
      "metadata": {
        "scrolled": false,
        "_cell_guid": "eea7af11-aa67-4aa3-8b02-63c277157f91",
        "_uuid": "e2692b240fbafb2072915fff3e3e23fe4d944716",
        "collapsed": true,
        "trusted": false
      },
      "cell_type": "code",
      "source": "for i in df['activity label'].unique().tolist():\n    print('Activity cluster %d is characterized by:'%i)\n    print(df[ df['activity label'] == i][ 'activity' ].unique().tolist() )\n    \n    print('\\n')",
      "execution_count": null,
      "outputs": []
    },
    {
      "metadata": {
        "_cell_guid": "e9833e62-feac-425c-87f2-f3ccf803b63a",
        "_uuid": "2b42372d5cca7f66d151b59a4523b6478bb38cb5",
        "collapsed": true,
        "trusted": false
      },
      "cell_type": "code",
      "source": "HTML('''<script>\ncode_show=true; \nfunction code_toggle() {\n if (code_show){\n $('div.input').hide();\n } else {\n $('div.input').show();\n }\n code_show = !code_show\n} \n$( document ).ready(code_toggle);\n</script>\nThe raw code for this IPython notebook is by default hidden for easier reading.\nTo toggle on/off the raw code, click <a href=\"javascript:code_toggle()\">here</a>.''')",
      "execution_count": null,
      "outputs": []
    },
    {
      "metadata": {
        "_cell_guid": "3d491112-4dd7-42b1-8499-29cb98caf06e",
        "_uuid": "d3f80b46353de9450eebb2398c93c7122c393a8c",
        "collapsed": true
      },
      "cell_type": "markdown",
      "source": "## 5.1.4 Clustering of loans - welfare assessment of borrowers in the database <a class=\"anchor\" id=\"ww-assessment-borrowers\"></a>\n[Click here to go to Table of contents](#tablecontent)\n"
    },
    {
      "metadata": {
        "_cell_guid": "cb0b8626-25f7-4396-a27b-235c1d5ed9f1",
        "_uuid": "419a3669135ad19be3074c7987e9df8af6ef360f"
      },
      "cell_type": "markdown",
      "source": "The measures used for welfare assessment ares:"
    },
    {
      "metadata": {
        "_cell_guid": "7a74a62e-c3bd-4673-a5bb-74d6aab73080",
        "_uuid": "c5bccd419bc997be58cdf94ffd37b38649314dae",
        "collapsed": true,
        "trusted": false
      },
      "cell_type": "code",
      "source": "col_list = [ 'MPI country', 'Loan amount / GDP per capita (%)', 'sector label', 'activity label', 'gender label' ,  'term_in_months', 'repayment interval label']",
      "execution_count": null,
      "outputs": []
    },
    {
      "metadata": {
        "_cell_guid": "62fbc718-b725-45bd-b327-c0c72314507d",
        "_uuid": "ddf1190de8bb5757b35fb5465a00b2c632449d0d",
        "collapsed": true,
        "trusted": false
      },
      "cell_type": "code",
      "source": "print(col_list)",
      "execution_count": null,
      "outputs": []
    },
    {
      "metadata": {
        "_cell_guid": "4fbb628d-1565-4cd7-81a2-ae87ad7a3b9d",
        "_uuid": "5284b90e55a0ae0fabf09e9c695b7b09f6145a80"
      },
      "cell_type": "markdown",
      "source": "in which:\n- MPI country indicates the welfare level of the borrower's country's population\n- Loan amount / GDP per capita (%) might be related to the relative welfare level of the borrower in her/his country, especially when it is coupled with the loan term in months and the repayment interval. There is a certain difference between a small loan amount (with respect to the national GDP per capita) which is distributed in long period of times and a big amount distributed in few months.\n- sector and activity are borrowers' characteristics"
    },
    {
      "metadata": {
        "_cell_guid": "7d264798-8172-41cf-a97d-b49078bb8598",
        "_uuid": "82cb8a4d425d60253d166b832c4dea24187830f0"
      },
      "cell_type": "markdown",
      "source": "The correlation matrix shows that there is no systematic strong correlation among them (except for MPI - loan amount / GDP per capita and sector - activities ), thus assuring that none of them is redundant. It is worth noting that the important correlation between activities and sector is expected. However, details on activities are not redundant but allow us to distinguish loans in the same sector."
    },
    {
      "metadata": {
        "_cell_guid": "4f905eab-034b-4721-8784-8cc9765fdca1",
        "_uuid": "924cc98b4dfc7cd1b2d7f74484bd014c7f3a6766",
        "collapsed": true,
        "trusted": false
      },
      "cell_type": "code",
      "source": "plot_correlation_matrix( df[col_list].corr().round(2), filename = 'correlation matrix classfication' )",
      "execution_count": null,
      "outputs": []
    },
    {
      "metadata": {
        "_cell_guid": "a7521244-ac84-4290-ad0e-e7a1ce0fbe8a",
        "_uuid": "59d58df8dfb531e88bf4cf0b0e4c2be05ebcab7f"
      },
      "cell_type": "markdown",
      "source": "The clustering process can now be applied."
    },
    {
      "metadata": {
        "_cell_guid": "a1001174-5a7d-47e3-8d1f-7decb93699a3",
        "_uuid": "433c12e03fedc03c12ff990d29472ac3c4b9a706",
        "collapsed": true,
        "trusted": false
      },
      "cell_type": "code",
      "source": "# fill missing values with median\nfill_missing_values = preprocessing.Imputer(strategy = 'median').fit( df[ col_list ]  )\n\nfill_missing_values.transform( df[ col_list ]  )\n\n\nnum_loan_clusters = 50\n\nloan_clusters = KMeans(n_clusters=num_loan_clusters , random_state = 1)\n\n#loan_clusters.fit( fill_missing_values.transform( df[ col_list ]  ) )\n#pickle.dump(loan_clusters, open(\"../input/cm-kiva-nlp/loan_clusters.p\",\"wb\"))\n\nloan_clusters = pickle.load( open(\"../input/cm-kiva-nlp/loan_clusters.p\",\"rb\") )\n\nclusters = loan_clusters.labels_.tolist()\n\ndf['Loan class'] = clusters",
      "execution_count": null,
      "outputs": []
    },
    {
      "metadata": {
        "_cell_guid": "eb3de707-b774-44d5-bd0c-b2b8e6a4ddae",
        "_uuid": "705708a6a8ade763504b9f352f26fd625cdabb2d"
      },
      "cell_type": "markdown",
      "source": "For each loan class, the statistics of all details can be obtained in the following (hereafter, only some largest clusters are presented):"
    },
    {
      "metadata": {
        "scrolled": false,
        "_cell_guid": "c3858a95-e77e-491d-8148-1cedb3cd9c06",
        "_uuid": "3b00a30af097b7944b0515d080ede7f0434636d9",
        "collapsed": true,
        "trusted": false
      },
      "cell_type": "code",
      "source": "#%% plot loans in each loan use group\n\n#cl_list = df['Loan class'].unique().tolist()\n# plot 3 largest loan classes\ncl_list = df['Loan class'].value_counts().index[0:3].tolist()\n\nfor i in cl_list :\n    print('Loan class %d'%i)\n    print( df[ df['Loan class'] == i][ col_list ].describe() )\n    print('- - - - - - - - - - - - - - - - - -  - - - - - - - - - - - - ')\n    print('\\n')\n",
      "execution_count": null,
      "outputs": []
    },
    {
      "metadata": {
        "_cell_guid": "68f7c2dd-aa4b-4e4b-b317-26c204e80d57",
        "_uuid": "2a7aa1789dd71272b1a32d53b9a228bd4164bf2e"
      },
      "cell_type": "markdown",
      "source": "Let's compare the difference between two welfare levels represented by five biggest clusters. One can observe the significant differences between them in terms of MPI, loan amount / GDP per capita and sector."
    },
    {
      "metadata": {
        "scrolled": false,
        "_cell_guid": "32fbc349-f500-4b10-ae45-cc4e8c7ab620",
        "_uuid": "30b14fae13f23f27b9db72944d272af41022b1b9",
        "collapsed": true,
        "trusted": false
      },
      "cell_type": "code",
      "source": "for y in [ 'MPI country', 'Loan amount / GDP per capita (%)', 'sector label', 'activity label' ,'term_in_months']:\n    plt.figure()\n    sns.boxplot(x=\"Loan class\", y= y,  data=df[ df['Loan class'].isin(df['Loan class'].value_counts().index[0:5].tolist())]);",
      "execution_count": null,
      "outputs": []
    },
    {
      "metadata": {
        "_cell_guid": "c232c852-c7c7-4121-ad57-8b58fb628ee8",
        "_uuid": "7ed9aa61f808ff2a280aa7d7484bd0ef023b87df"
      },
      "cell_type": "markdown",
      "source": "In terms of repayment interval, there exist a clear difference between clusters, with monthly payment being more or less frequent than irregular payment, both being dominant with respect to two other intervals."
    },
    {
      "metadata": {
        "_cell_guid": "78c37c51-5c39-44ba-b744-54b39e43f05f",
        "_uuid": "415a3e3d07368e03e4261c5c4963c8c39b4a1a83",
        "collapsed": true,
        "trusted": false
      },
      "cell_type": "code",
      "source": "plt.figure()\nsns.countplot(y=\"Loan class\", hue = 'repayment_interval',  data=df[ df['Loan class'].isin(df['Loan class'].value_counts().index[0:5].tolist())]);",
      "execution_count": null,
      "outputs": []
    },
    {
      "metadata": {
        "_cell_guid": "ae8f19b4-f496-4959-9dba-730b24da32e9",
        "_uuid": "6b2a2d776b3279631c7f469d5be039c50dc2c6ff"
      },
      "cell_type": "markdown",
      "source": "In terms of borrowers genders, the trend is similar throughout different clusters with women being in large number compared to men."
    },
    {
      "metadata": {
        "_cell_guid": "d5b8c6f4-78b0-41ff-8d92-af657f8fe526",
        "_uuid": "a480d3e82b96198a971292ebfb07519a83af553d",
        "collapsed": true,
        "trusted": false
      },
      "cell_type": "code",
      "source": "plt.figure()\nsns.countplot(y=\"Loan class\", hue = 'gender label',  data=df[ df['Loan class'].isin(df['Loan class'].value_counts().index[0:5].tolist())]);",
      "execution_count": null,
      "outputs": []
    },
    {
      "metadata": {
        "_cell_guid": "173b7b56-40f1-4a04-9df0-6a52374f1b2d",
        "_uuid": "29d9dc72ae2f9f7252f31f5d74f7de0a977db99d",
        "collapsed": true,
        "trusted": false
      },
      "cell_type": "code",
      "source": "HTML('''<script>\ncode_show=true; \nfunction code_toggle() {\n if (code_show){\n $('div.input').hide();\n } else {\n $('div.input').show();\n }\n code_show = !code_show\n} \n$( document ).ready(code_toggle);\n</script>\nThe raw code for this IPython notebook is by default hidden for easier reading.\nTo toggle on/off the raw code, click <a href=\"javascript:code_toggle()\">here</a>.''')",
      "execution_count": null,
      "outputs": []
    },
    {
      "metadata": {
        "_cell_guid": "2430e83f-9f47-4409-bf16-99c400615667",
        "_uuid": "91627ad471b2a77789cc8330592c4b2923d75aa8"
      },
      "cell_type": "markdown",
      "source": "## 5.1.5 Welfare assessment for new borrowers<a class=\"anchor\" id=\"ww-assessment-new-borrowers\"></a>\n[Click here to go to Table of contents](#tablecontent)"
    },
    {
      "metadata": {
        "_cell_guid": "92850579-4447-4102-b8bb-fe737ad6743e",
        "_uuid": "c1d0ea04cdc22d675d2c6bd6fc92cfd0689380c1"
      },
      "cell_type": "markdown",
      "source": "Given new borrowers as with loan details as follows:"
    },
    {
      "metadata": {
        "_cell_guid": "67ce1f0c-ac4a-4cdc-a1cf-5d97657fb6d5",
        "_uuid": "7a34cb0d49b3c1ede34513565be8cd3a720407fe",
        "collapsed": true,
        "trusted": false
      },
      "cell_type": "code",
      "source": "df.loc[ 0:1, : ]",
      "execution_count": null,
      "outputs": []
    },
    {
      "metadata": {
        "_cell_guid": "38b86adb-9a2f-4e7e-b8a2-7b385d750945",
        "_uuid": "c5c4541c75f42cd92a1844ff9def501eedb935de"
      },
      "cell_type": "markdown",
      "source": "one can predict the welfare levels of these borrowers using the K-means object computed above. Note that, first of all, the classification of loan uses, sectors of activity, repayment behaviour, ... has to be conducted. The loan classes predicted are exactly those in the data:"
    },
    {
      "metadata": {
        "_cell_guid": "fbf45ef7-b806-4f2a-8396-afb2bb64f6ee",
        "_uuid": "a083f549b0d16d92ed577b2c41a63267a2f9334e",
        "collapsed": true,
        "trusted": false
      },
      "cell_type": "code",
      "source": "loan_classes_predict = loan_clusters.predict( fill_missing_values.transform( df.loc[ 0:1, col_list ]  ) )\nprint(loan_classes_predict)",
      "execution_count": null,
      "outputs": []
    },
    {
      "metadata": {
        "_cell_guid": "d5358ca5-7ac1-4283-b56a-ccb322e3da01",
        "_uuid": "7ff0772f3e2b195dc88497520aa7811c69c49c02"
      },
      "cell_type": "markdown",
      "source": "The descriptive statistics of the classes in the tables presented below allow us to assess the groups to which each new loan demand shall be classified.\n\nFor instance, the first loan demand belongs to a group with the mean loan amount / GDP per capita equalling 18.45%, whereas the second demand goes to a group of mean value 48.97%. These predictions are not that far from the actual numbers in the data."
    },
    {
      "metadata": {
        "_cell_guid": "37cab729-6e02-4cd4-a3e6-fd3886ef5186",
        "_uuid": "d73f0fc98180774d65920ce99556d024ceacef72",
        "collapsed": true,
        "trusted": false
      },
      "cell_type": "code",
      "source": "for i in loan_classes_predict:\n    print('Loan class %d'%i)\n    print(df[ df['Loan class']== i][ col_list ].describe())\n    print('\\n')",
      "execution_count": null,
      "outputs": []
    },
    {
      "metadata": {
        "_cell_guid": "5a5baf4b-ef74-48f4-8998-21c3fbeec8a4",
        "_uuid": "b144220a60d454ff26ffcfbc8a251fa411717934",
        "collapsed": true,
        "trusted": false
      },
      "cell_type": "code",
      "source": "HTML('''<script>\ncode_show=true; \nfunction code_toggle() {\n if (code_show){\n $('div.input').hide();\n } else {\n $('div.input').show();\n }\n code_show = !code_show\n} \n$( document ).ready(code_toggle);\n</script>\nThe raw code for this IPython notebook is by default hidden for easier reading.\nTo toggle on/off the raw code, click <a href=\"javascript:code_toggle()\">here</a>.''')",
      "execution_count": null,
      "outputs": []
    },
    {
      "metadata": {
        "_cell_guid": "0fd50ca6-37ed-44c5-9f7b-9bf5feef47b4",
        "_uuid": "78f299c4c0017c7628057121858dc5b2885da15f",
        "collapsed": true
      },
      "cell_type": "markdown",
      "source": "## 5.2 Nation-wise welfare assessment <a class=\"anchor\" id=\"nw-assessment\"></a>\n[Click here to go to Table of contents](#tablecontent)"
    },
    {
      "metadata": {
        "_cell_guid": "0d71b9d9-c6be-43ac-9589-7227d682ed1e",
        "_uuid": "5c6239dc3c7b8112565bdf17b4d21b08db059765"
      },
      "cell_type": "markdown",
      "source": "The above classification-based approach for assessing welfare levels of borrowers can be utilized at a given country. For the sake of simplicity, clustering functions are defined in order to conduct analysis on as given country in a simple manner. Hereafter, welfare assessment on some specific countries is presented. Note that for a given country, it would be ideal to use regional MPI determined at borrower's location. Although the same GDP per capita is used for borrowers from the same country, the ration loan amount / GDP per capita is still used for clustering. This allows to account for the importance of loan amount with respect to the national income level."
    },
    {
      "metadata": {
        "_cell_guid": "4bf2ec7f-5226-4dd9-a913-306819087ded",
        "_uuid": "3234fbc818a338db26767c69ae09cdf325526955",
        "collapsed": true,
        "trusted": false
      },
      "cell_type": "code",
      "source": "def kmeans_func(df, nclusters = 10):\n    fill_missing_values = preprocessing.Imputer(strategy = 'median').fit( df )\n    \n    clusters = KMeans(n_clusters=num_loan_clusters , random_state = 1)\n    clusters.fit( preprocessing.Imputer(strategy = 'median').fit_transform( fill_missing_values.transform(df) ))\n    \n    return clusters.labels_.tolist()",
      "execution_count": null,
      "outputs": []
    },
    {
      "metadata": {
        "_cell_guid": "fb03fa13-a8e6-45d2-a7a3-5771479947da",
        "_uuid": "b9f742014e1bc0072798a7d2e29c50349099f89a",
        "collapsed": true,
        "trusted": false
      },
      "cell_type": "code",
      "source": "# IDEAL CASE; MPI OF REGIONS should be included.\ncol_list = [ 'Loan amount / GDP per capita (%)', 'sector label', 'activity label', 'gender label',  'term_in_months', 'repayment interval label']",
      "execution_count": null,
      "outputs": []
    },
    {
      "metadata": {
        "_cell_guid": "1a0ad7ab-2b78-4ec1-a8bd-640c2eaa226c",
        "_uuid": "04423cd4d35da250392e0ca6fdf9ee950e471226"
      },
      "cell_type": "markdown",
      "source": "### Samoa"
    },
    {
      "metadata": {
        "_cell_guid": "5bbd03c5-d251-42b1-84ba-98e76c2c9073",
        "_uuid": "d0614d1b29f2851cf5775345d7669136d9c86410",
        "collapsed": true,
        "trusted": false
      },
      "cell_type": "code",
      "source": "country = 'Samoa'\n\ndfaux =  df.loc[ df['country'] == country ]\ndfaux = dfaux.drop(['Loan class'], axis = 1)\n\ncl_predict = kmeans_func( dfaux.loc[:,col_list] , nclusters = 5 )\ndfaux = pd.concat([dfaux, pd.DataFrame(data= cl_predict, index = dfaux.index, columns = ['Loan class'] ) ], axis = 1, join = 'outer' )",
      "execution_count": null,
      "outputs": []
    },
    {
      "metadata": {
        "scrolled": false,
        "_cell_guid": "6c09044c-367d-4ff3-b7d7-8aa98aeb6083",
        "_uuid": "333a281f94ab184cce86a74ab626b3970618fdc6",
        "collapsed": true,
        "trusted": false
      },
      "cell_type": "code",
      "source": "#%% plot loans in each loan use group\n\n#cl_list = dfaux['Loan class'].unique().tolist()\ncl_list = dfaux['Loan class'].value_counts().index[0:3].tolist()\n\n#%%\nfor i in cl_list :\n    print('Loan class %d'%i)\n    print(dfaux[ dfaux['Loan class'] == i][ col_list ].describe())\n    print('- - - - - - - - - - - - - - - - - -  - - - - - - - - - - - - ')\n    print('\\n')\n    ",
      "execution_count": null,
      "outputs": []
    },
    {
      "metadata": {
        "_cell_guid": "f4acc3bf-876d-42c6-9d3f-3c1c0a792220",
        "_uuid": "03d3432189943c9c4579ae525511cade3f09efc3"
      },
      "cell_type": "markdown",
      "source": "The differences between clusters are depicted below, which are very pronounced for the loan amount."
    },
    {
      "metadata": {
        "scrolled": false,
        "_cell_guid": "d72ce600-712a-438d-8907-b9b0b023d44d",
        "_uuid": "01969a008c029c91ff5ef47488f0f6a3d02171e2",
        "collapsed": true,
        "trusted": false
      },
      "cell_type": "code",
      "source": "for y in [ 'Loan amount / GDP per capita (%)', 'sector label', 'activity label' ,  'term_in_months', 'repayment interval label']:\n    plt.figure()\n    sns.boxplot(x=\"Loan class\", y= y,  data=dfaux[ dfaux['Loan class'].isin(dfaux['Loan class'].value_counts().index[0:5].tolist())]);\n    \nplt.figure()\nsns.countplot(y=\"Loan class\", hue = 'gender label',  data=dfaux[ dfaux['Loan class'].isin(dfaux['Loan class'].value_counts().index[0:5].tolist())]);",
      "execution_count": null,
      "outputs": []
    },
    {
      "metadata": {
        "_cell_guid": "d774f57b-26c1-45ef-870a-85364634582b",
        "_uuid": "8322734cfaaab272a72ce33463d68ac947d02583",
        "collapsed": true,
        "trusted": false
      },
      "cell_type": "code",
      "source": "HTML('''<script>\ncode_show=true; \nfunction code_toggle() {\n if (code_show){\n $('div.input').hide();\n } else {\n $('div.input').show();\n }\n code_show = !code_show\n} \n$( document ).ready(code_toggle);\n</script>\nThe raw code for this IPython notebook is by default hidden for easier reading.\nTo toggle on/off the raw code, click <a href=\"javascript:code_toggle()\">here</a>.''')",
      "execution_count": null,
      "outputs": []
    },
    {
      "metadata": {
        "_cell_guid": "5a7afa40-00a9-4b68-bedc-f24bb4ef2eeb",
        "_uuid": "1a70eedc824980c6748a52f0f8a53f5a864a7fdb"
      },
      "cell_type": "markdown",
      "source": "### Philippines"
    },
    {
      "metadata": {
        "scrolled": false,
        "_cell_guid": "e92a26a0-7b86-4f52-ae49-22a0f0906212",
        "_uuid": "16a4bd27ca604b51713f76c50101231d2458355f",
        "collapsed": true,
        "trusted": false
      },
      "cell_type": "code",
      "source": "country = 'Philippines'\n\ndfaux =  df.loc[ df['country'] == country ]\ndfaux = dfaux.drop(['Loan class'], axis = 1)\n\ncl_predict = kmeans_func( dfaux.loc[:,col_list] , nclusters = 5 )\ndfaux = pd.concat([dfaux, pd.DataFrame(data= cl_predict, index = dfaux.index, columns = ['Loan class'] ) ], axis = 1, join = 'outer' )\n\ncl_list = dfaux['Loan class'].value_counts().index[0:3].tolist()\n\n#%%\nfor i in cl_list :\n    print('Loan class %d'%i)\n    print(dfaux[ dfaux['Loan class'] == i][ col_list ].describe())\n    print('- - - - - - - - - - - - - - - - - -  - - - - - - - - - - - - ')\n    print('\\n')\n    \nfor y in [ 'Loan amount / GDP per capita (%)', 'sector label', 'activity label' ,  'term_in_months', 'repayment interval label']:\n    plt.figure()\n    sns.boxplot(x=\"Loan class\", y= y,  data=dfaux[ dfaux['Loan class'].isin(dfaux['Loan class'].value_counts().index[0:5].tolist())]);\n    \nplt.figure()\nsns.countplot(y=\"Loan class\", hue = 'gender label',  data=dfaux[ dfaux['Loan class'].isin(dfaux['Loan class'].value_counts().index[0:5].tolist())]);",
      "execution_count": null,
      "outputs": []
    },
    {
      "metadata": {
        "_cell_guid": "215837a5-98b1-47b8-acc7-101a2e999d1c",
        "_uuid": "dd6280e87f5f614976f2967449a572000cce3b6e",
        "collapsed": true,
        "trusted": false
      },
      "cell_type": "code",
      "source": "HTML('''<script>\ncode_show=true; \nfunction code_toggle() {\n if (code_show){\n $('div.input').hide();\n } else {\n $('div.input').show();\n }\n code_show = !code_show\n} \n$( document ).ready(code_toggle);\n</script>\nThe raw code for this IPython notebook is by default hidden for easier reading.\nTo toggle on/off the raw code, click <a href=\"javascript:code_toggle()\">here</a>.''')",
      "execution_count": null,
      "outputs": []
    },
    {
      "metadata": {
        "_cell_guid": "b014df56-dc1a-434b-9114-abbe4fe71fcc",
        "_uuid": "9c51ef3213b7058f1e3b7c9c0d02a7a5827f9d33"
      },
      "cell_type": "markdown",
      "source": "### Kenya"
    },
    {
      "metadata": {
        "scrolled": false,
        "_cell_guid": "cb6ff851-89a3-472d-9c58-c8e969047baf",
        "_uuid": "60a23e7d6395d515f27858068f016b9384bbddb8",
        "collapsed": true,
        "trusted": false
      },
      "cell_type": "code",
      "source": "country = 'Kenya'\n\ndfaux =  df.loc[ df['country'] == country ]\ndfaux = dfaux.drop(['Loan class'], axis = 1)\n\ncl_predict = kmeans_func( dfaux.loc[:,col_list] , nclusters = 5 )\ndfaux = pd.concat([dfaux, pd.DataFrame(data= cl_predict, index = dfaux.index, columns = ['Loan class'] ) ], axis = 1, join = 'outer' )\n\ncl_list = dfaux['Loan class'].value_counts().index[0:3].tolist()\n\n#%%\nfor i in cl_list :\n    print('Loan class %d'%i)\n    print(dfaux[ dfaux['Loan class'] == i][ col_list ].describe())\n    print('- - - - - - - - - - - - - - - - - -  - - - - - - - - - - - - ')\n    print('\\n')\n    \nfor y in [ 'Loan amount / GDP per capita (%)', 'sector label', 'activity label' ,  'term_in_months', 'repayment interval label']:\n    plt.figure()\n    sns.boxplot(x=\"Loan class\", y= y,  data=dfaux[ dfaux['Loan class'].isin(dfaux['Loan class'].value_counts().index[0:5].tolist())]);\n    \nplt.figure()\nsns.countplot(y=\"Loan class\", hue = 'gender label',  data=dfaux[ dfaux['Loan class'].isin(dfaux['Loan class'].value_counts().index[0:5].tolist())]);",
      "execution_count": null,
      "outputs": []
    },
    {
      "metadata": {
        "_cell_guid": "d6b094e9-7564-4a0d-8156-7e87c0bd847c",
        "_uuid": "214aba1153f3b75c0de7cba12a73f0034bd49848",
        "collapsed": true,
        "trusted": false
      },
      "cell_type": "code",
      "source": "HTML('''<script>\ncode_show=true; \nfunction code_toggle() {\n if (code_show){\n $('div.input').hide();\n } else {\n $('div.input').show();\n }\n code_show = !code_show\n} \n$( document ).ready(code_toggle);\n</script>\nThe raw code for this IPython notebook is by default hidden for easier reading.\nTo toggle on/off the raw code, click <a href=\"javascript:code_toggle()\">here</a>.''')",
      "execution_count": null,
      "outputs": []
    },
    {
      "metadata": {
        "_cell_guid": "2450b37c-c248-427c-b798-007b97e168a3",
        "_uuid": "ee1075df7cd3dd2d91f8d8a8a51b1cf6bff919da"
      },
      "cell_type": "markdown",
      "source": "## 5.3 Welfare assessment by country and sector <a class=\"anchor\" id=\"ns-assessment\"></a>\n[Click here to go to Table of contents](#tablecontent)"
    },
    {
      "metadata": {
        "_cell_guid": "e26a9b3c-cad3-4f02-a63d-12ffa0d21545",
        "_uuid": "027f9411847c7d2c3c835ef4e1ef0e7569a22aac"
      },
      "cell_type": "markdown",
      "source": "In a given country and sector, welfare levels of borrowers can also be easily determined. We consider some cases:"
    },
    {
      "metadata": {
        "_cell_guid": "af266e0a-8b95-4126-a8f9-c62f4323ea58",
        "_uuid": "789fb39efb912e099e67dfc39fdd4b22d64331e0",
        "collapsed": true,
        "trusted": false
      },
      "cell_type": "code",
      "source": "# IDEAL CASE; MPI OF REGIONS should be included.\ncol_list = [ 'Loan amount / GDP per capita (%)', 'activity label', 'gender label',  'term_in_months', 'repayment interval label']\n",
      "execution_count": null,
      "outputs": []
    },
    {
      "metadata": {
        "_cell_guid": "bc84c426-e208-4355-ba12-b562e9ffe75b",
        "_uuid": "94ff0caaa433dc9e4a35298fb154befc9ae1b27c"
      },
      "cell_type": "markdown",
      "source": "### India - Agriculture\nWhen detailed loan uses are taken into account"
    },
    {
      "metadata": {
        "_cell_guid": "c5fee272-3d05-4d87-a1d8-a1ff6cda7fec",
        "_uuid": "2ebeab4a5bc3e66aa333d240e4443ac2d9b05106",
        "collapsed": true,
        "trusted": false
      },
      "cell_type": "code",
      "source": "HTML('''<script>\ncode_show=true; \nfunction code_toggle() {\n if (code_show){\n $('div.input').hide();\n } else {\n $('div.input').show();\n }\n code_show = !code_show\n} \n$( document ).ready(code_toggle);\n</script>\nThe raw code for this IPython notebook is by default hidden for easier reading.\nTo toggle on/off the raw code, click <a href=\"javascript:code_toggle()\">here</a>.''')",
      "execution_count": null,
      "outputs": []
    },
    {
      "metadata": {
        "scrolled": false,
        "_cell_guid": "0d8b5786-0d56-4b1c-a0e0-1f0ba32f9dcc",
        "_uuid": "fbdf72983aa61c20477a16362f6ec519d654ae05",
        "collapsed": true,
        "trusted": false
      },
      "cell_type": "code",
      "source": "country = 'India'\nsector = 'Agriculture'\n\ndfaux =  df.loc[ (df['country'] == country ) & (df['sector'] == sector) ]\ndfaux = dfaux.drop(['Loan class'], axis = 1)\n\ncl_predict = kmeans_func( dfaux.loc[:,col_list] , nclusters = 5 )\ndfaux = pd.concat([dfaux, pd.DataFrame(data= cl_predict, index = dfaux.index, columns = ['Loan class'] ) ], axis = 1, join = 'outer' )\n\ncl_list = dfaux['Loan class'].value_counts().index[0:3].tolist()\n\n#%%\nfor i in cl_list :\n    print('Loan class %d'%i)\n    print(dfaux[ dfaux['Loan class'] == i][ col_list ].describe())\n    print('- - - - - - - - - - - - - - - - - -  - - - - - - - - - - - - ')\n    print('\\n')\n    \n    \nfor y in [ 'Loan amount / GDP per capita (%)' ,  'term_in_months', 'repayment interval label']:\n    plt.figure()\n    sns.boxplot(x=\"Loan class\", y= y,  data=dfaux[ dfaux['Loan class'].isin(dfaux['Loan class'].value_counts().index[0:5].tolist())]);\n\nplt.figure()\nsns.countplot(y=\"Loan class\", hue = 'activity label',  data=dfaux[ dfaux['Loan class'].isin(dfaux['Loan class'].value_counts().index[0:5].tolist())]);\n\nplt.figure()\nsns.countplot(y=\"Loan class\", hue = 'gender label',  data=dfaux[ dfaux['Loan class'].isin(dfaux['Loan class'].value_counts().index[0:5].tolist())]);",
      "execution_count": null,
      "outputs": []
    },
    {
      "metadata": {
        "_cell_guid": "a319a966-bb4b-4996-b962-0f57e954918e",
        "_uuid": "f7f30e5165b97d458c6cb89862ed10ed7a0e50f4"
      },
      "cell_type": "markdown",
      "source": "### India - Agriculture - Loan use"
    },
    {
      "metadata": {
        "_cell_guid": "0bb54b23-5b19-4623-a5bd-44256f524b8c",
        "_uuid": "e3b478b202957eae02f380b11a471f574d55e3e0",
        "collapsed": true,
        "trusted": false
      },
      "cell_type": "code",
      "source": "HTML('''<script>\ncode_show=true; \nfunction code_toggle() {\n if (code_show){\n $('div.input').hide();\n } else {\n $('div.input').show();\n }\n code_show = !code_show\n} \n$( document ).ready(code_toggle);\n</script>\nThe raw code for this IPython notebook is by default hidden for easier reading.\nTo toggle on/off the raw code, click <a href=\"javascript:code_toggle()\">here</a>.''')",
      "execution_count": null,
      "outputs": []
    },
    {
      "metadata": {
        "_cell_guid": "a0c6410e-706e-41db-a6a4-e8bfb24e65ed",
        "_uuid": "424782c590bd1810f0df59e731d97dcdee3e0ce0"
      },
      "cell_type": "markdown",
      "source": "When borrowers are from the same country and the same sector (e.g. Indian farmers), the detailed loan uses might give a hint of the welfare levels of borrowers. Thus, natural language processing techniques are used again for the clustering of detailed loan uses."
    },
    {
      "metadata": {
        "_cell_guid": "d797d884-6e98-488d-824b-e2603225f5e6",
        "_uuid": "2db252d5ad9e42580f01588486d17246c405e0bf",
        "collapsed": true,
        "trusted": false
      },
      "cell_type": "code",
      "source": "dfaux =  df.loc[ (df['country'] == country ) & (df['sector'] == sector) ]\ndfaux = dfaux.drop(['Loan class'], axis = 1)",
      "execution_count": null,
      "outputs": []
    },
    {
      "metadata": {
        "scrolled": true,
        "_cell_guid": "33fd79fc-10bf-47a8-882d-8bd0dd429aa6",
        "_uuid": "f59cd96b5f00db4d380b3c4fd1abbf098a3f695d",
        "collapsed": true,
        "trusted": false
      },
      "cell_type": "code",
      "source": "# load nltk's SnowballStemmer as variabled 'stemmer'\nstemmer = SnowballStemmer(\"english\")\n#print(stemmer)\n\n\ndfaux['use'] = dfaux['use'].str.replace('buy','purchase')\ntext = dfaux['use'].values.astype(str).tolist() # convert nan cell to string\n\n# create a dictionary of tokens and stems\ntotalvocab_stemmed = []\ntotalvocab_tokenized = []\nfor i in text:\n    \n    allwords_tokenized = tokenize_only(i)\n    totalvocab_tokenized.extend(allwords_tokenized)\n    \ntotalvocab_tokenized = list( set( totalvocab_tokenized  ) )\n\ntotalvocab_stemmed = [ stemmer.stem(t) for t in totalvocab_tokenized ]\n\nvocab_frame = pd.DataFrame({'words': totalvocab_tokenized}, index = totalvocab_stemmed)\n\n#vocab_frame.info()\n\n# term frequency - inverse document frequency :  is a numerical statistic reflecting how important a word is to a document in a collection or corpus\n# take into account only tokens that appear in more than 5% less than 95% of documents. Those appearing more than 95% of docs tend to be irrelevant\ntfidf_vectorizer = TfidfVectorizer(max_df=0.95, max_features= 20,\\\n                                 min_df=0.01, stop_words='english', norm = 'l2',\\\n                                 use_idf=True, analyzer = 'word', tokenizer=tokenize_and_stem, ngram_range= (1,1) )\n\n#This operation takes minutes of computational time, therefore, I computed the matrix offline and use it as a data source\ntfidf_matrix = tfidf_vectorizer.fit_transform(text)\n\nterms = tfidf_vectorizer.get_feature_names()\n#len(terms)\n#print(terms[:])\n\n#%% CLUSTERING by loan use\n\nnum_clusters = 20\n\nkm = KMeans(n_clusters=num_clusters, random_state = 1)\n\n#This operation takes several minutes of computational time, therefore, I computed the matrix offline and use it as a data source\n\nkm.fit(tfidf_matrix)\n\n\nclusters = km.labels_.tolist()\n\ndfaux['loan use label']  = clusters\n",
      "execution_count": null,
      "outputs": []
    },
    {
      "metadata": {
        "scrolled": false,
        "_cell_guid": "08ff86be-8cf2-4013-a9fa-2dacd7208d4a",
        "_uuid": "35e167ae8d1d1cc2e1979536691c09d91f6f844a",
        "collapsed": true,
        "trusted": false
      },
      "cell_type": "code",
      "source": "# IDEAL CASE; MPI OF REGIONS should be included.\ncol_list = [ 'Loan amount / GDP per capita (%)', 'activity label', 'gender label', 'loan use label',  'term_in_months', 'repayment interval label']\n\ncl_predict = kmeans_func( dfaux.loc[:,col_list] , nclusters = 5 )\ndfaux = pd.concat([dfaux, pd.DataFrame(data= cl_predict, index = dfaux.index, columns = ['Loan class'] ) ], axis = 1, join = 'outer' )\n\ncl_list = dfaux['Loan class'].value_counts().index[0:3].tolist()\n\n#%%\nfor i in cl_list :\n    print('Loan class %d'%i)\n    print(dfaux[ dfaux['Loan class'] == i][ col_list ].describe())\n    print('- - - - - - - - - - - - - - - - - -  - - - - - - - - - - - - ')\n    print('\\n')\n    \n    \nfor y in [ 'Loan amount / GDP per capita (%)' ,  'term_in_months', 'repayment interval label']:\n    plt.figure()\n    sns.boxplot(x=\"Loan class\", y= y,  data=dfaux[ dfaux['Loan class'].isin(dfaux['Loan class'].value_counts().index[0:5].tolist())]);\n\nplt.figure()\nsns.countplot(y=\"Loan class\", hue = 'activity label',  data=dfaux[ dfaux['Loan class'].isin(dfaux['Loan class'].value_counts().index[0:5].tolist())]);\n\nplt.figure()\nsns.countplot(y=\"Loan class\", hue = 'loan use label',  data=dfaux[ dfaux['Loan class'].isin(dfaux['Loan class'].value_counts().index[0:5].tolist())]);\n\n\nplt.figure()\nsns.countplot(y=\"Loan class\", hue = 'gender label',  data=dfaux[ dfaux['Loan class'].isin(dfaux['Loan class'].value_counts().index[0:5].tolist())]);",
      "execution_count": null,
      "outputs": []
    },
    {
      "metadata": {
        "_cell_guid": "4d97cbb6-6cc3-409c-8b98-50b5a0e4f6d9",
        "_uuid": "71fd39795ac781dfd43abbfde57f827401e08386"
      },
      "cell_type": "markdown",
      "source": "One can see that the different welfare levels (represented by loan classes) are characterized by the loan amount/GDP per capita and loan uses. For instance, loan class 2 has the most loan uses belonging to loan use class 7, which is characterized by the features:"
    },
    {
      "metadata": {
        "_cell_guid": "7004baf1-dbb2-4ab5-a94c-4ed37cefaf98",
        "_uuid": "b8a942e06cb0b2ce1fab4f74cecd8515306dab6e",
        "collapsed": true,
        "trusted": false
      },
      "cell_type": "code",
      "source": "ind = dfaux['loan use label'] == 7\ntextpr = dfaux.loc[ind, 'use'].values.astype(str).tolist() # convert nan cell to string\ntfidf_vectorizer.fit(textpr)\n#print(tfidf_vectorizer.get_feature_names())\n# get the common terms with the collection of terms from all documents\nimp_terms = vocab_frame.loc[ set(terms) & set( tfidf_vectorizer.get_feature_names() )]\nimp_terms.reset_index().drop_duplicates(subset='index', keep='first', inplace=False).set_index('index')",
      "execution_count": null,
      "outputs": []
    },
    {
      "metadata": {
        "_cell_guid": "5a6db133-93d9-454f-8576-0e909523ade3",
        "_uuid": "96e3627bcf519cd5aa03b3de1dcd49442dbc11b5"
      },
      "cell_type": "markdown",
      "source": "where loan class 13 has the most loan uses belonging to loan use class 10, which contains the features:"
    },
    {
      "metadata": {
        "_cell_guid": "76c5d868-2319-4ab9-87cd-d4ba0372903a",
        "_uuid": "11013ab755835bc8ae4d58d40665bcfbadd675fd",
        "collapsed": true,
        "trusted": false
      },
      "cell_type": "code",
      "source": "ind = dfaux['loan use label'] == 10\ntextpr = dfaux.loc[ind, 'use'].values.astype(str).tolist() # convert nan cell to string\ntfidf_vectorizer.fit(textpr)\n#print(tfidf_vectorizer.get_feature_names())\n# get the common terms with the collection of terms from all documents\nimp_terms = vocab_frame.loc[ set(terms) & set( tfidf_vectorizer.get_feature_names() )]\nimp_terms.reset_index().drop_duplicates(subset='index', keep='first', inplace=False).set_index('index')",
      "execution_count": null,
      "outputs": []
    },
    {
      "metadata": {
        "_cell_guid": "70d80e20-d5b4-42e4-8143-c2735b86ad83",
        "_uuid": "ded77ff22038a29b1ac5f95fc8dfacf2f4ab3b23"
      },
      "cell_type": "markdown",
      "source": "For loan class 23, the loan uses are characterized by:"
    },
    {
      "metadata": {
        "_cell_guid": "700f8d02-6020-4265-8660-024c7f78bb40",
        "_uuid": "d12d3947dbb40450e8b42face23bb81627a36011",
        "collapsed": true,
        "trusted": false
      },
      "cell_type": "code",
      "source": "ind = dfaux['loan use label'] == 18\ntextpr = dfaux.loc[ind, 'use'].values.astype(str).tolist() # convert nan cell to string\ntfidf_vectorizer.fit(textpr)\n#print(tfidf_vectorizer.get_feature_names())\n# get the common terms with the collection of terms from all documents\nimp_terms = vocab_frame.loc[ set(terms) & set( tfidf_vectorizer.get_feature_names() )]\nimp_terms.reset_index().drop_duplicates(subset='index', keep='first', inplace=False).set_index('index')",
      "execution_count": null,
      "outputs": []
    },
    {
      "metadata": {
        "_cell_guid": "09b158cf-19f7-4e42-bf31-99bf8a158aab",
        "_uuid": "076c18c22afdbc2b432ffcd631e884c7ede77bcc",
        "collapsed": true,
        "trusted": false
      },
      "cell_type": "code",
      "source": "HTML('''<script>\ncode_show=true; \nfunction code_toggle() {\n if (code_show){\n $('div.input').hide();\n } else {\n $('div.input').show();\n }\n code_show = !code_show\n} \n$( document ).ready(code_toggle);\n</script>\nThe raw code for this IPython notebook is by default hidden for easier reading.\nTo toggle on/off the raw code, click <a href=\"javascript:code_toggle()\">here</a>.''')",
      "execution_count": null,
      "outputs": []
    },
    {
      "metadata": {
        "_cell_guid": "426b83b5-c2e0-47b3-8e54-da118b876f24",
        "_uuid": "7fe9feab6bfdf58ca90fee87ee0d395934f379c6"
      },
      "cell_type": "markdown",
      "source": "# 6. Conclusions <a class=\"anchor\" id=\"conclusions\"></a>\n[Click here to go to Table of contents](#tablecontent)"
    },
    {
      "metadata": {
        "_cell_guid": "66d5158d-bb03-477c-94a5-1cd1cdd3b484",
        "_uuid": "28052aa434c57376c823a04e11382a28ca84f896"
      },
      "cell_type": "markdown",
      "source": "In the submission, we investigated the __localisation__ of loans by:\n\n- country\n- sector\n- gender\n\nusing:\n\n- absolute indicators\n- __relative measures__ \n\nIt was shown that the absolute or relative measures reveal facts on two different levels: global (worldwide) or local scales. If a comparison is of interest, e.g. a inter-countries comparision of number of loans, we strongly recommend the use of relative measures.\n\nWe propose a clustering approach for __assessing welfare levels__ of borrowers in the database, which allows a __welfare prediction__ of new loan demands. This approach made use of:\n\n- natural language processing technique for detecting most important features in this record and clustering loan activities and uses\n- k-means clustering to obtain different groups of loans, which are associated with different welfare levels\n- the use of two above techniques for assessing welfare levels of new borrowers\n\nTo facilitate the use of the notebook, we provided __python functions__ that allow easy computation of figures and the proposed clustering-based welfare assessment approach. It commonly suffices to replace the name of the country, or the name of the sector in order to export figures that interest the users."
    }
  ],
  "metadata": {
    "kernelspec": {
      "display_name": "Python 3",
      "language": "python",
      "name": "python3"
    },
    "language_info": {
      "name": "python",
      "version": "3.6.4",
      "mimetype": "text/x-python",
      "codemirror_mode": {
        "name": "ipython",
        "version": 3
      },
      "pygments_lexer": "ipython3",
      "nbconvert_exporter": "python",
      "file_extension": ".py"
    }
  },
  "nbformat": 4,
  "nbformat_minor": 1
}