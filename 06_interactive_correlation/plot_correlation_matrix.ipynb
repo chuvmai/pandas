{
 "cells": [
  {
   "cell_type": "code",
   "execution_count": 1,
   "metadata": {},
   "outputs": [],
   "source": [
    "%matplotlib inline\n",
    "from IPython.display import HTML"
   ]
  },
  {
   "cell_type": "code",
   "execution_count": 2,
   "metadata": {},
   "outputs": [
    {
     "data": {
      "text/html": [
       "<script>\n",
       "code_show=true; \n",
       "function code_toggle() {\n",
       " if (code_show){\n",
       " $('div.input').hide();\n",
       " } else {\n",
       " $('div.input').show();\n",
       " }\n",
       " code_show = !code_show\n",
       "} \n",
       "$( document ).ready(code_toggle);\n",
       "</script>\n",
       "The raw code for this IPython notebook is by default hidden for easier reading.\n",
       "To toggle on/off the raw code, click <a href=\"javascript:code_toggle()\">here</a>."
      ],
      "text/plain": [
       "<IPython.core.display.HTML object>"
      ]
     },
     "execution_count": 2,
     "metadata": {},
     "output_type": "execute_result"
    }
   ],
   "source": [
    "HTML('''<script>\n",
    "code_show=true; \n",
    "function code_toggle() {\n",
    " if (code_show){\n",
    " $('div.input').hide();\n",
    " } else {\n",
    " $('div.input').show();\n",
    " }\n",
    " code_show = !code_show\n",
    "} \n",
    "$( document ).ready(code_toggle);\n",
    "</script>\n",
    "The raw code for this IPython notebook is by default hidden for easier reading.\n",
    "To toggle on/off the raw code, click <a href=\"javascript:code_toggle()\">here</a>.''')"
   ]
  },
  {
   "cell_type": "code",
   "execution_count": 3,
   "metadata": {
    "collapsed": true
   },
   "outputs": [],
   "source": [
    "import pandas as pd\n",
    "import matplotlib.pyplot as plt\n",
    "import matplotlib.cm as cm\n",
    "import seaborn as sns\n",
    "from sklearn.datasets import load_boston"
   ]
  },
  {
   "cell_type": "markdown",
   "metadata": {},
   "source": [
    "# Boston house-prices dataset "
   ]
  },
  {
   "cell_type": "code",
   "execution_count": 4,
   "metadata": {},
   "outputs": [
    {
     "data": {
      "text/html": [
       "<div>\n",
       "<style>\n",
       "    .dataframe thead tr:only-child th {\n",
       "        text-align: right;\n",
       "    }\n",
       "\n",
       "    .dataframe thead th {\n",
       "        text-align: left;\n",
       "    }\n",
       "\n",
       "    .dataframe tbody tr th {\n",
       "        vertical-align: top;\n",
       "    }\n",
       "</style>\n",
       "<table border=\"1\" class=\"dataframe\">\n",
       "  <thead>\n",
       "    <tr style=\"text-align: right;\">\n",
       "      <th></th>\n",
       "      <th>CRIM</th>\n",
       "      <th>ZN</th>\n",
       "      <th>INDUS</th>\n",
       "      <th>CHAS</th>\n",
       "      <th>NOX</th>\n",
       "      <th>RM</th>\n",
       "      <th>AGE</th>\n",
       "      <th>DIS</th>\n",
       "      <th>RAD</th>\n",
       "      <th>TAX</th>\n",
       "      <th>PTRATIO</th>\n",
       "      <th>B</th>\n",
       "      <th>LSTAT</th>\n",
       "    </tr>\n",
       "  </thead>\n",
       "  <tbody>\n",
       "    <tr>\n",
       "      <th>0</th>\n",
       "      <td>0.00632</td>\n",
       "      <td>18.0</td>\n",
       "      <td>2.31</td>\n",
       "      <td>0.0</td>\n",
       "      <td>0.538</td>\n",
       "      <td>6.575</td>\n",
       "      <td>65.2</td>\n",
       "      <td>4.0900</td>\n",
       "      <td>1.0</td>\n",
       "      <td>296.0</td>\n",
       "      <td>15.3</td>\n",
       "      <td>396.90</td>\n",
       "      <td>4.98</td>\n",
       "    </tr>\n",
       "    <tr>\n",
       "      <th>1</th>\n",
       "      <td>0.02731</td>\n",
       "      <td>0.0</td>\n",
       "      <td>7.07</td>\n",
       "      <td>0.0</td>\n",
       "      <td>0.469</td>\n",
       "      <td>6.421</td>\n",
       "      <td>78.9</td>\n",
       "      <td>4.9671</td>\n",
       "      <td>2.0</td>\n",
       "      <td>242.0</td>\n",
       "      <td>17.8</td>\n",
       "      <td>396.90</td>\n",
       "      <td>9.14</td>\n",
       "    </tr>\n",
       "    <tr>\n",
       "      <th>2</th>\n",
       "      <td>0.02729</td>\n",
       "      <td>0.0</td>\n",
       "      <td>7.07</td>\n",
       "      <td>0.0</td>\n",
       "      <td>0.469</td>\n",
       "      <td>7.185</td>\n",
       "      <td>61.1</td>\n",
       "      <td>4.9671</td>\n",
       "      <td>2.0</td>\n",
       "      <td>242.0</td>\n",
       "      <td>17.8</td>\n",
       "      <td>392.83</td>\n",
       "      <td>4.03</td>\n",
       "    </tr>\n",
       "    <tr>\n",
       "      <th>3</th>\n",
       "      <td>0.03237</td>\n",
       "      <td>0.0</td>\n",
       "      <td>2.18</td>\n",
       "      <td>0.0</td>\n",
       "      <td>0.458</td>\n",
       "      <td>6.998</td>\n",
       "      <td>45.8</td>\n",
       "      <td>6.0622</td>\n",
       "      <td>3.0</td>\n",
       "      <td>222.0</td>\n",
       "      <td>18.7</td>\n",
       "      <td>394.63</td>\n",
       "      <td>2.94</td>\n",
       "    </tr>\n",
       "    <tr>\n",
       "      <th>4</th>\n",
       "      <td>0.06905</td>\n",
       "      <td>0.0</td>\n",
       "      <td>2.18</td>\n",
       "      <td>0.0</td>\n",
       "      <td>0.458</td>\n",
       "      <td>7.147</td>\n",
       "      <td>54.2</td>\n",
       "      <td>6.0622</td>\n",
       "      <td>3.0</td>\n",
       "      <td>222.0</td>\n",
       "      <td>18.7</td>\n",
       "      <td>396.90</td>\n",
       "      <td>5.33</td>\n",
       "    </tr>\n",
       "  </tbody>\n",
       "</table>\n",
       "</div>"
      ],
      "text/plain": [
       "      CRIM    ZN  INDUS  CHAS    NOX     RM   AGE     DIS  RAD    TAX  \\\n",
       "0  0.00632  18.0   2.31   0.0  0.538  6.575  65.2  4.0900  1.0  296.0   \n",
       "1  0.02731   0.0   7.07   0.0  0.469  6.421  78.9  4.9671  2.0  242.0   \n",
       "2  0.02729   0.0   7.07   0.0  0.469  7.185  61.1  4.9671  2.0  242.0   \n",
       "3  0.03237   0.0   2.18   0.0  0.458  6.998  45.8  6.0622  3.0  222.0   \n",
       "4  0.06905   0.0   2.18   0.0  0.458  7.147  54.2  6.0622  3.0  222.0   \n",
       "\n",
       "   PTRATIO       B  LSTAT  \n",
       "0     15.3  396.90   4.98  \n",
       "1     17.8  396.90   9.14  \n",
       "2     17.8  392.83   4.03  \n",
       "3     18.7  394.63   2.94  \n",
       "4     18.7  396.90   5.33  "
      ]
     },
     "execution_count": 4,
     "metadata": {},
     "output_type": "execute_result"
    }
   ],
   "source": [
    "# Load and return the boston house-prices dataset \n",
    "boston = load_boston()\n",
    "\n",
    "df = pd.DataFrame(data = boston.data, columns = boston.feature_names)\n",
    "\n",
    "df.head()"
   ]
  },
  {
   "cell_type": "markdown",
   "metadata": {},
   "source": [
    "# Plot correlation matrix with seaborn"
   ]
  },
  {
   "cell_type": "code",
   "execution_count": 5,
   "metadata": {},
   "outputs": [
    {
     "data": {
      "image/png": "[encoded data removed]",
      "text/plain": [
       "<matplotlib.figure.Figure at 0x7fd11ace8b10>"
      ]
     },
     "metadata": {},
     "output_type": "display_data"
    }
   ],
   "source": [
    "plt.figure(figsize = (16.0,12.0))\n",
    "sns.heatmap(df.corr(),xticklabels= df.corr().columns.values,yticklabels=df.corr().columns.values, cmap = cm.PiYG, center = 0., annot = True, fmt = '.2f' )\n",
    "plt.show()"
   ]
  },
  {
   "cell_type": "markdown",
   "metadata": {},
   "source": [
    "# Plot interactive correlation matrix with plotly"
   ]
  },
  {
   "cell_type": "code",
   "execution_count": 6,
   "metadata": {},
   "outputs": [
    {
     "data": {
      "text/html": [
       "<script>requirejs.config({paths: { 'plotly': ['https://cdn.plot.ly/plotly-latest.min']},});if(!window.Plotly) {{require(['plotly'],function(plotly) {window.Plotly=plotly;});}}</script>"
      ],
      "text/vnd.plotly.v1+html": [
       "<script>requirejs.config({paths: { 'plotly': ['https://cdn.plot.ly/plotly-latest.min']},});if(!window.Plotly) {{require(['plotly'],function(plotly) {window.Plotly=plotly;});}}</script>"
      ]
     },
     "metadata": {},
     "output_type": "display_data"
    }
   ],
   "source": [
    "import plotly.offline as py\n",
    "py.init_notebook_mode(connected=True)\n",
    "import plotly.graph_objs as go\n",
    "import plotly.figure_factory as ff"
   ]
  },
  {
   "cell_type": "code",
   "execution_count": 7,
   "metadata": {
    "collapsed": true
   },
   "outputs": [],
   "source": [
    "def plot_correlation_matrix(corr, xcols = None, ycols = None, filename = None, title = None):\n",
    "    # corr is the correlation matrix obtained from a dataframe using pandas\n",
    "    \n",
    "    if xcols == None:\n",
    "        xcols = corr.columns.tolist()\n",
    "    if ycols == None:\n",
    "        ycols = corr.columns.tolist()\n",
    "    \n",
    "    layout = dict(\n",
    "        title = title,\n",
    "        width = 800,\n",
    "        height = 800,\n",
    "#        margin=go.Margin(l=100, r=10, b=50, t=50, pad=5),\n",
    "        margin=go.Margin(l=250, r=50, b=50, t=250, pad=4),\n",
    "        yaxis= dict(tickangle=-30,\n",
    "                    side = 'left',\n",
    "                    ),\n",
    "        xaxis= dict(tickangle=-30,\n",
    "                    side = 'top',\n",
    "                    ),\n",
    "    )\n",
    "    fig = ff.create_annotated_heatmap(\n",
    "        z=corr.values,\n",
    "        x= xcols,\n",
    "        y= ycols,\n",
    "        colorscale='Portland',\n",
    "        reversescale=True,\n",
    "        showscale=True,\n",
    "        font_colors = ['#efecee', '#3c3636'])\n",
    "    fig['layout'].update(layout)\n",
    "    \n",
    "    if filename == None:\n",
    "        filename = 'correlation matrix'\n",
    "    return py.iplot(fig, filename= filename)"
   ]
  },
  {
   "cell_type": "code",
   "execution_count": 8,
   "metadata": {},
   "outputs": [
    {
     "data": {
      "application/vnd.plotly.v1+json": {
       "data": [
        {
         "colorscale": "Portland",
         "showscale": true,
         "type": "heatmap",
         "x": [
          "CRIM",
          "ZN",
          "INDUS",
          "CHAS",
          "NOX",
          "RM",
          "AGE",
          "DIS",
          "RAD",
          "TAX",
          "PTRATIO",
          "B",
          "LSTAT"
         ],
         "y": [
          "CRIM",
          "ZN",
          "INDUS",
          "CHAS",
          "NOX",
          "RM",
          "AGE",
          "DIS",
          "RAD",
          "TAX",
          "PTRATIO",
          "B",
          "LSTAT"
         ],
         "z": [
          [
           1,
           -0.2,
           0.4,
           -0.06,
           0.42,
           -0.22,
           0.35,
           -0.38,
           0.62,
           0.58,
           0.29,
           -0.38,
           0.45
          ],
          [
           -0.2,
           1,
           -0.53,
           -0.04,
           -0.52,
           0.31,
           -0.57,
           0.66,
           -0.31,
           -0.31,
           -0.39,
           0.18,
           -0.41
          ],
          [
           0.4,
           -0.53,
           1,
           0.06,
           0.76,
           -0.39,
           0.64,
           -0.71,
           0.6,
           0.72,
           0.38,
           -0.36,
           0.6
          ],
          [
           -0.06,
           -0.04,
           0.06,
           1,
           0.09,
           0.09,
           0.09,
           -0.1,
           -0.01,
           -0.04,
           -0.12,
           0.05,
           -0.05
          ],
          [
           0.42,
           -0.52,
           0.76,
           0.09,
           1,
           -0.3,
           0.73,
           -0.77,
           0.61,
           0.67,
           0.19,
           -0.38,
           0.59
          ],
          [
           -0.22,
           0.31,
           -0.39,
           0.09,
           -0.3,
           1,
           -0.24,
           0.21,
           -0.21,
           -0.29,
           -0.36,
           0.13,
           -0.61
          ],
          [
           0.35,
           -0.57,
           0.64,
           0.09,
           0.73,
           -0.24,
           1,
           -0.75,
           0.46,
           0.51,
           0.26,
           -0.27,
           0.6
          ],
          [
           -0.38,
           0.66,
           -0.71,
           -0.1,
           -0.77,
           0.21,
           -0.75,
           1,
           -0.49,
           -0.53,
           -0.23,
           0.29,
           -0.5
          ],
          [
           0.62,
           -0.31,
           0.6,
           -0.01,
           0.61,
           -0.21,
           0.46,
           -0.49,
           1,
           0.91,
           0.46,
           -0.44,
           0.49
          ],
          [
           0.58,
           -0.31,
           0.72,
           -0.04,
           0.67,
           -0.29,
           0.51,
           -0.53,
           0.91,
           1,
           0.46,
           -0.44,
           0.54
          ],
          [
           0.29,
           -0.39,
           0.38,
           -0.12,
           0.19,
           -0.36,
           0.26,
           -0.23,
           0.46,
           0.46,
           1,
           -0.18,
           0.37
          ],
          [
           -0.38,
           0.18,
           -0.36,
           0.05,
           -0.38,
           0.13,
           -0.27,
           0.29,
           -0.44,
           -0.44,
           -0.18,
           1,
           -0.37
          ],
          [
           0.45,
           -0.41,
           0.6,
           -0.05,
           0.59,
           -0.61,
           0.6,
           -0.5,
           0.49,
           0.54,
           0.37,
           -0.37,
           1
          ]
         ]
        }
       ],
       "layout": {
        "annotations": [
         {
          "font": {
           "color": "#3c3636"
          },
          "showarrow": false,
          "text": "1.0",
          "x": "CRIM",
          "xref": "x1",
          "y": "CRIM",
          "yref": "y1"
         },
         {
          "font": {
           "color": "#efecee"
          },
          "showarrow": false,
          "text": "-0.2",
          "x": "ZN",
          "xref": "x1",
          "y": "CRIM",
          "yref": "y1"
         },
         {
          "font": {
           "color": "#3c3636"
          },
          "showarrow": false,
          "text": "0.4",
          "x": "INDUS",
          "xref": "x1",
          "y": "CRIM",
          "yref": "y1"
         },
         {
          "font": {
           "color": "#efecee"
          },
          "showarrow": false,
          "text": "-0.06",
          "x": "CHAS",
          "xref": "x1",
          "y": "CRIM",
          "yref": "y1"
         },
         {
          "font": {
           "color": "#3c3636"
          },
          "showarrow": false,
          "text": "0.42",
          "x": "NOX",
          "xref": "x1",
          "y": "CRIM",
          "yref": "y1"
         },
         {
          "font": {
           "color": "#efecee"
          },
          "showarrow": false,
          "text": "-0.22",
          "x": "RM",
          "xref": "x1",
          "y": "CRIM",
          "yref": "y1"
         },
         {
          "font": {
           "color": "#3c3636"
          },
          "showarrow": false,
          "text": "0.35",
          "x": "AGE",
          "xref": "x1",
          "y": "CRIM",
          "yref": "y1"
         },
         {
          "font": {
           "color": "#efecee"
          },
          "showarrow": false,
          "text": "-0.38",
          "x": "DIS",
          "xref": "x1",
          "y": "CRIM",
          "yref": "y1"
         },
         {
          "font": {
           "color": "#3c3636"
          },
          "showarrow": false,
          "text": "0.62",
          "x": "RAD",
          "xref": "x1",
          "y": "CRIM",
          "yref": "y1"
         },
         {
          "font": {
           "color": "#3c3636"
          },
          "showarrow": false,
          "text": "0.58",
          "x": "TAX",
          "xref": "x1",
          "y": "CRIM",
          "yref": "y1"
         },
         {
          "font": {
           "color": "#3c3636"
          },
          "showarrow": false,
          "text": "0.29",
          "x": "PTRATIO",
          "xref": "x1",
          "y": "CRIM",
          "yref": "y1"
         },
         {
          "font": {
           "color": "#efecee"
          },
          "showarrow": false,
          "text": "-0.38",
          "x": "B",
          "xref": "x1",
          "y": "CRIM",
          "yref": "y1"
         },
         {
          "font": {
           "color": "#3c3636"
          },
          "showarrow": false,
          "text": "0.45",
          "x": "LSTAT",
          "xref": "x1",
          "y": "CRIM",
          "yref": "y1"
         },
         {
          "font": {
           "color": "#efecee"
          },
          "showarrow": false,
          "text": "-0.2",
          "x": "CRIM",
          "xref": "x1",
          "y": "ZN",
          "yref": "y1"
         },
         {
          "font": {
           "color": "#3c3636"
          },
          "showarrow": false,
          "text": "1.0",
          "x": "ZN",
          "xref": "x1",
          "y": "ZN",
          "yref": "y1"
         },
         {
          "font": {
           "color": "#efecee"
          },
          "showarrow": false,
          "text": "-0.53",
          "x": "INDUS",
          "xref": "x1",
          "y": "ZN",
          "yref": "y1"
         },
         {
          "font": {
           "color": "#efecee"
          },
          "showarrow": false,
          "text": "-0.04",
          "x": "CHAS",
          "xref": "x1",
          "y": "ZN",
          "yref": "y1"
         },
         {
          "font": {
           "color": "#efecee"
          },
          "showarrow": false,
          "text": "-0.52",
          "x": "NOX",
          "xref": "x1",
          "y": "ZN",
          "yref": "y1"
         },
         {
          "font": {
           "color": "#3c3636"
          },
          "showarrow": false,
          "text": "0.31",
          "x": "RM",
          "xref": "x1",
          "y": "ZN",
          "yref": "y1"
         },
         {
          "font": {
           "color": "#efecee"
          },
          "showarrow": false,
          "text": "-0.57",
          "x": "AGE",
          "xref": "x1",
          "y": "ZN",
          "yref": "y1"
         },
         {
          "font": {
           "color": "#3c3636"
          },
          "showarrow": false,
          "text": "0.66",
          "x": "DIS",
          "xref": "x1",
          "y": "ZN",
          "yref": "y1"
         },
         {
          "font": {
           "color": "#efecee"
          },
          "showarrow": false,
          "text": "-0.31",
          "x": "RAD",
          "xref": "x1",
          "y": "ZN",
          "yref": "y1"
         },
         {
          "font": {
           "color": "#efecee"
          },
          "showarrow": false,
          "text": "-0.31",
          "x": "TAX",
          "xref": "x1",
          "y": "ZN",
          "yref": "y1"
         },
         {
          "font": {
           "color": "#efecee"
          },
          "showarrow": false,
          "text": "-0.39",
          "x": "PTRATIO",
          "xref": "x1",
          "y": "ZN",
          "yref": "y1"
         },
         {
          "font": {
           "color": "#3c3636"
          },
          "showarrow": false,
          "text": "0.18",
          "x": "B",
          "xref": "x1",
          "y": "ZN",
          "yref": "y1"
         },
         {
          "font": {
           "color": "#efecee"
          },
          "showarrow": false,
          "text": "-0.41",
          "x": "LSTAT",
          "xref": "x1",
          "y": "ZN",
          "yref": "y1"
         },
         {
          "font": {
           "color": "#3c3636"
          },
          "showarrow": false,
          "text": "0.4",
          "x": "CRIM",
          "xref": "x1",
          "y": "INDUS",
          "yref": "y1"
         },
         {
          "font": {
           "color": "#efecee"
          },
          "showarrow": false,
          "text": "-0.53",
          "x": "ZN",
          "xref": "x1",
          "y": "INDUS",
          "yref": "y1"
         },
         {
          "font": {
           "color": "#3c3636"
          },
          "showarrow": false,
          "text": "1.0",
          "x": "INDUS",
          "xref": "x1",
          "y": "INDUS",
          "yref": "y1"
         },
         {
          "font": {
           "color": "#efecee"
          },
          "showarrow": false,
          "text": "0.06",
          "x": "CHAS",
          "xref": "x1",
          "y": "INDUS",
          "yref": "y1"
         },
         {
          "font": {
           "color": "#3c3636"
          },
          "showarrow": false,
          "text": "0.76",
          "x": "NOX",
          "xref": "x1",
          "y": "INDUS",
          "yref": "y1"
         },
         {
          "font": {
           "color": "#efecee"
          },
          "showarrow": false,
          "text": "-0.39",
          "x": "RM",
          "xref": "x1",
          "y": "INDUS",
          "yref": "y1"
         },
         {
          "font": {
           "color": "#3c3636"
          },
          "showarrow": false,
          "text": "0.64",
          "x": "AGE",
          "xref": "x1",
          "y": "INDUS",
          "yref": "y1"
         },
         {
          "font": {
           "color": "#efecee"
          },
          "showarrow": false,
          "text": "-0.71",
          "x": "DIS",
          "xref": "x1",
          "y": "INDUS",
          "yref": "y1"
         },
         {
          "font": {
           "color": "#3c3636"
          },
          "showarrow": false,
          "text": "0.6",
          "x": "RAD",
          "xref": "x1",
          "y": "INDUS",
          "yref": "y1"
         },
         {
          "font": {
           "color": "#3c3636"
          },
          "showarrow": false,
          "text": "0.72",
          "x": "TAX",
          "xref": "x1",
          "y": "INDUS",
          "yref": "y1"
         },
         {
          "font": {
           "color": "#3c3636"
          },
          "showarrow": false,
          "text": "0.38",
          "x": "PTRATIO",
          "xref": "x1",
          "y": "INDUS",
          "yref": "y1"
         },
         {
          "font": {
           "color": "#efecee"
          },
          "showarrow": false,
          "text": "-0.36",
          "x": "B",
          "xref": "x1",
          "y": "INDUS",
          "yref": "y1"
         },
         {
          "font": {
           "color": "#3c3636"
          },
          "showarrow": false,
          "text": "0.6",
          "x": "LSTAT",
          "xref": "x1",
          "y": "INDUS",
          "yref": "y1"
         },
         {
          "font": {
           "color": "#efecee"
          },
          "showarrow": false,
          "text": "-0.06",
          "x": "CRIM",
          "xref": "x1",
          "y": "CHAS",
          "yref": "y1"
         },
         {
          "font": {
           "color": "#efecee"
          },
          "showarrow": false,
          "text": "-0.04",
          "x": "ZN",
          "xref": "x1",
          "y": "CHAS",
          "yref": "y1"
         },
         {
          "font": {
           "color": "#efecee"
          },
          "showarrow": false,
          "text": "0.06",
          "x": "INDUS",
          "xref": "x1",
          "y": "CHAS",
          "yref": "y1"
         },
         {
          "font": {
           "color": "#3c3636"
          },
          "showarrow": false,
          "text": "1.0",
          "x": "CHAS",
          "xref": "x1",
          "y": "CHAS",
          "yref": "y1"
         },
         {
          "font": {
           "color": "#efecee"
          },
          "showarrow": false,
          "text": "0.09",
          "x": "NOX",
          "xref": "x1",
          "y": "CHAS",
          "yref": "y1"
         },
         {
          "font": {
           "color": "#efecee"
          },
          "showarrow": false,
          "text": "0.09",
          "x": "RM",
          "xref": "x1",
          "y": "CHAS",
          "yref": "y1"
         },
         {
          "font": {
           "color": "#efecee"
          },
          "showarrow": false,
          "text": "0.09",
          "x": "AGE",
          "xref": "x1",
          "y": "CHAS",
          "yref": "y1"
         },
         {
          "font": {
           "color": "#efecee"
          },
          "showarrow": false,
          "text": "-0.1",
          "x": "DIS",
          "xref": "x1",
          "y": "CHAS",
          "yref": "y1"
         },
         {
          "font": {
           "color": "#efecee"
          },
          "showarrow": false,
          "text": "-0.01",
          "x": "RAD",
          "xref": "x1",
          "y": "CHAS",
          "yref": "y1"
         },
         {
          "font": {
           "color": "#efecee"
          },
          "showarrow": false,
          "text": "-0.04",
          "x": "TAX",
          "xref": "x1",
          "y": "CHAS",
          "yref": "y1"
         },
         {
          "font": {
           "color": "#efecee"
          },
          "showarrow": false,
          "text": "-0.12",
          "x": "PTRATIO",
          "xref": "x1",
          "y": "CHAS",
          "yref": "y1"
         },
         {
          "font": {
           "color": "#efecee"
          },
          "showarrow": false,
          "text": "0.05",
          "x": "B",
          "xref": "x1",
          "y": "CHAS",
          "yref": "y1"
         },
         {
          "font": {
           "color": "#efecee"
          },
          "showarrow": false,
          "text": "-0.05",
          "x": "LSTAT",
          "xref": "x1",
          "y": "CHAS",
          "yref": "y1"
         },
         {
          "font": {
           "color": "#3c3636"
          },
          "showarrow": false,
          "text": "0.42",
          "x": "CRIM",
          "xref": "x1",
          "y": "NOX",
          "yref": "y1"
         },
         {
          "font": {
           "color": "#efecee"
          },
          "showarrow": false,
          "text": "-0.52",
          "x": "ZN",
          "xref": "x1",
          "y": "NOX",
          "yref": "y1"
         },
         {
          "font": {
           "color": "#3c3636"
          },
          "showarrow": false,
          "text": "0.76",
          "x": "INDUS",
          "xref": "x1",
          "y": "NOX",
          "yref": "y1"
         },
         {
          "font": {
           "color": "#efecee"
          },
          "showarrow": false,
          "text": "0.09",
          "x": "CHAS",
          "xref": "x1",
          "y": "NOX",
          "yref": "y1"
         },
         {
          "font": {
           "color": "#3c3636"
          },
          "showarrow": false,
          "text": "1.0",
          "x": "NOX",
          "xref": "x1",
          "y": "NOX",
          "yref": "y1"
         },
         {
          "font": {
           "color": "#efecee"
          },
          "showarrow": false,
          "text": "-0.3",
          "x": "RM",
          "xref": "x1",
          "y": "NOX",
          "yref": "y1"
         },
         {
          "font": {
           "color": "#3c3636"
          },
          "showarrow": false,
          "text": "0.73",
          "x": "AGE",
          "xref": "x1",
          "y": "NOX",
          "yref": "y1"
         },
         {
          "font": {
           "color": "#efecee"
          },
          "showarrow": false,
          "text": "-0.77",
          "x": "DIS",
          "xref": "x1",
          "y": "NOX",
          "yref": "y1"
         },
         {
          "font": {
           "color": "#3c3636"
          },
          "showarrow": false,
          "text": "0.61",
          "x": "RAD",
          "xref": "x1",
          "y": "NOX",
          "yref": "y1"
         },
         {
          "font": {
           "color": "#3c3636"
          },
          "showarrow": false,
          "text": "0.67",
          "x": "TAX",
          "xref": "x1",
          "y": "NOX",
          "yref": "y1"
         },
         {
          "font": {
           "color": "#3c3636"
          },
          "showarrow": false,
          "text": "0.19",
          "x": "PTRATIO",
          "xref": "x1",
          "y": "NOX",
          "yref": "y1"
         },
         {
          "font": {
           "color": "#efecee"
          },
          "showarrow": false,
          "text": "-0.38",
          "x": "B",
          "xref": "x1",
          "y": "NOX",
          "yref": "y1"
         },
         {
          "font": {
           "color": "#3c3636"
          },
          "showarrow": false,
          "text": "0.59",
          "x": "LSTAT",
          "xref": "x1",
          "y": "NOX",
          "yref": "y1"
         },
         {
          "font": {
           "color": "#efecee"
          },
          "showarrow": false,
          "text": "-0.22",
          "x": "CRIM",
          "xref": "x1",
          "y": "RM",
          "yref": "y1"
         },
         {
          "font": {
           "color": "#3c3636"
          },
          "showarrow": false,
          "text": "0.31",
          "x": "ZN",
          "xref": "x1",
          "y": "RM",
          "yref": "y1"
         },
         {
          "font": {
           "color": "#efecee"
          },
          "showarrow": false,
          "text": "-0.39",
          "x": "INDUS",
          "xref": "x1",
          "y": "RM",
          "yref": "y1"
         },
         {
          "font": {
           "color": "#efecee"
          },
          "showarrow": false,
          "text": "0.09",
          "x": "CHAS",
          "xref": "x1",
          "y": "RM",
          "yref": "y1"
         },
         {
          "font": {
           "color": "#efecee"
          },
          "showarrow": false,
          "text": "-0.3",
          "x": "NOX",
          "xref": "x1",
          "y": "RM",
          "yref": "y1"
         },
         {
          "font": {
           "color": "#3c3636"
          },
          "showarrow": false,
          "text": "1.0",
          "x": "RM",
          "xref": "x1",
          "y": "RM",
          "yref": "y1"
         },
         {
          "font": {
           "color": "#efecee"
          },
          "showarrow": false,
          "text": "-0.24",
          "x": "AGE",
          "xref": "x1",
          "y": "RM",
          "yref": "y1"
         },
         {
          "font": {
           "color": "#3c3636"
          },
          "showarrow": false,
          "text": "0.21",
          "x": "DIS",
          "xref": "x1",
          "y": "RM",
          "yref": "y1"
         },
         {
          "font": {
           "color": "#efecee"
          },
          "showarrow": false,
          "text": "-0.21",
          "x": "RAD",
          "xref": "x1",
          "y": "RM",
          "yref": "y1"
         },
         {
          "font": {
           "color": "#efecee"
          },
          "showarrow": false,
          "text": "-0.29",
          "x": "TAX",
          "xref": "x1",
          "y": "RM",
          "yref": "y1"
         },
         {
          "font": {
           "color": "#efecee"
          },
          "showarrow": false,
          "text": "-0.36",
          "x": "PTRATIO",
          "xref": "x1",
          "y": "RM",
          "yref": "y1"
         },
         {
          "font": {
           "color": "#3c3636"
          },
          "showarrow": false,
          "text": "0.13",
          "x": "B",
          "xref": "x1",
          "y": "RM",
          "yref": "y1"
         },
         {
          "font": {
           "color": "#efecee"
          },
          "showarrow": false,
          "text": "-0.61",
          "x": "LSTAT",
          "xref": "x1",
          "y": "RM",
          "yref": "y1"
         },
         {
          "font": {
           "color": "#3c3636"
          },
          "showarrow": false,
          "text": "0.35",
          "x": "CRIM",
          "xref": "x1",
          "y": "AGE",
          "yref": "y1"
         },
         {
          "font": {
           "color": "#efecee"
          },
          "showarrow": false,
          "text": "-0.57",
          "x": "ZN",
          "xref": "x1",
          "y": "AGE",
          "yref": "y1"
         },
         {
          "font": {
           "color": "#3c3636"
          },
          "showarrow": false,
          "text": "0.64",
          "x": "INDUS",
          "xref": "x1",
          "y": "AGE",
          "yref": "y1"
         },
         {
          "font": {
           "color": "#efecee"
          },
          "showarrow": false,
          "text": "0.09",
          "x": "CHAS",
          "xref": "x1",
          "y": "AGE",
          "yref": "y1"
         },
         {
          "font": {
           "color": "#3c3636"
          },
          "showarrow": false,
          "text": "0.73",
          "x": "NOX",
          "xref": "x1",
          "y": "AGE",
          "yref": "y1"
         },
         {
          "font": {
           "color": "#efecee"
          },
          "showarrow": false,
          "text": "-0.24",
          "x": "RM",
          "xref": "x1",
          "y": "AGE",
          "yref": "y1"
         },
         {
          "font": {
           "color": "#3c3636"
          },
          "showarrow": false,
          "text": "1.0",
          "x": "AGE",
          "xref": "x1",
          "y": "AGE",
          "yref": "y1"
         },
         {
          "font": {
           "color": "#efecee"
          },
          "showarrow": false,
          "text": "-0.75",
          "x": "DIS",
          "xref": "x1",
          "y": "AGE",
          "yref": "y1"
         },
         {
          "font": {
           "color": "#3c3636"
          },
          "showarrow": false,
          "text": "0.46",
          "x": "RAD",
          "xref": "x1",
          "y": "AGE",
          "yref": "y1"
         },
         {
          "font": {
           "color": "#3c3636"
          },
          "showarrow": false,
          "text": "0.51",
          "x": "TAX",
          "xref": "x1",
          "y": "AGE",
          "yref": "y1"
         },
         {
          "font": {
           "color": "#3c3636"
          },
          "showarrow": false,
          "text": "0.26",
          "x": "PTRATIO",
          "xref": "x1",
          "y": "AGE",
          "yref": "y1"
         },
         {
          "font": {
           "color": "#efecee"
          },
          "showarrow": false,
          "text": "-0.27",
          "x": "B",
          "xref": "x1",
          "y": "AGE",
          "yref": "y1"
         },
         {
          "font": {
           "color": "#3c3636"
          },
          "showarrow": false,
          "text": "0.6",
          "x": "LSTAT",
          "xref": "x1",
          "y": "AGE",
          "yref": "y1"
         },
         {
          "font": {
           "color": "#efecee"
          },
          "showarrow": false,
          "text": "-0.38",
          "x": "CRIM",
          "xref": "x1",
          "y": "DIS",
          "yref": "y1"
         },
         {
          "font": {
           "color": "#3c3636"
          },
          "showarrow": false,
          "text": "0.66",
          "x": "ZN",
          "xref": "x1",
          "y": "DIS",
          "yref": "y1"
         },
         {
          "font": {
           "color": "#efecee"
          },
          "showarrow": false,
          "text": "-0.71",
          "x": "INDUS",
          "xref": "x1",
          "y": "DIS",
          "yref": "y1"
         },
         {
          "font": {
           "color": "#efecee"
          },
          "showarrow": false,
          "text": "-0.1",
          "x": "CHAS",
          "xref": "x1",
          "y": "DIS",
          "yref": "y1"
         },
         {
          "font": {
           "color": "#efecee"
          },
          "showarrow": false,
          "text": "-0.77",
          "x": "NOX",
          "xref": "x1",
          "y": "DIS",
          "yref": "y1"
         },
         {
          "font": {
           "color": "#3c3636"
          },
          "showarrow": false,
          "text": "0.21",
          "x": "RM",
          "xref": "x1",
          "y": "DIS",
          "yref": "y1"
         },
         {
          "font": {
           "color": "#efecee"
          },
          "showarrow": false,
          "text": "-0.75",
          "x": "AGE",
          "xref": "x1",
          "y": "DIS",
          "yref": "y1"
         },
         {
          "font": {
           "color": "#3c3636"
          },
          "showarrow": false,
          "text": "1.0",
          "x": "DIS",
          "xref": "x1",
          "y": "DIS",
          "yref": "y1"
         },
         {
          "font": {
           "color": "#efecee"
          },
          "showarrow": false,
          "text": "-0.49",
          "x": "RAD",
          "xref": "x1",
          "y": "DIS",
          "yref": "y1"
         },
         {
          "font": {
           "color": "#efecee"
          },
          "showarrow": false,
          "text": "-0.53",
          "x": "TAX",
          "xref": "x1",
          "y": "DIS",
          "yref": "y1"
         },
         {
          "font": {
           "color": "#efecee"
          },
          "showarrow": false,
          "text": "-0.23",
          "x": "PTRATIO",
          "xref": "x1",
          "y": "DIS",
          "yref": "y1"
         },
         {
          "font": {
           "color": "#3c3636"
          },
          "showarrow": false,
          "text": "0.29",
          "x": "B",
          "xref": "x1",
          "y": "DIS",
          "yref": "y1"
         },
         {
          "font": {
           "color": "#efecee"
          },
          "showarrow": false,
          "text": "-0.5",
          "x": "LSTAT",
          "xref": "x1",
          "y": "DIS",
          "yref": "y1"
         },
         {
          "font": {
           "color": "#3c3636"
          },
          "showarrow": false,
          "text": "0.62",
          "x": "CRIM",
          "xref": "x1",
          "y": "RAD",
          "yref": "y1"
         },
         {
          "font": {
           "color": "#efecee"
          },
          "showarrow": false,
          "text": "-0.31",
          "x": "ZN",
          "xref": "x1",
          "y": "RAD",
          "yref": "y1"
         },
         {
          "font": {
           "color": "#3c3636"
          },
          "showarrow": false,
          "text": "0.6",
          "x": "INDUS",
          "xref": "x1",
          "y": "RAD",
          "yref": "y1"
         },
         {
          "font": {
           "color": "#efecee"
          },
          "showarrow": false,
          "text": "-0.01",
          "x": "CHAS",
          "xref": "x1",
          "y": "RAD",
          "yref": "y1"
         },
         {
          "font": {
           "color": "#3c3636"
          },
          "showarrow": false,
          "text": "0.61",
          "x": "NOX",
          "xref": "x1",
          "y": "RAD",
          "yref": "y1"
         },
         {
          "font": {
           "color": "#efecee"
          },
          "showarrow": false,
          "text": "-0.21",
          "x": "RM",
          "xref": "x1",
          "y": "RAD",
          "yref": "y1"
         },
         {
          "font": {
           "color": "#3c3636"
          },
          "showarrow": false,
          "text": "0.46",
          "x": "AGE",
          "xref": "x1",
          "y": "RAD",
          "yref": "y1"
         },
         {
          "font": {
           "color": "#efecee"
          },
          "showarrow": false,
          "text": "-0.49",
          "x": "DIS",
          "xref": "x1",
          "y": "RAD",
          "yref": "y1"
         },
         {
          "font": {
           "color": "#3c3636"
          },
          "showarrow": false,
          "text": "1.0",
          "x": "RAD",
          "xref": "x1",
          "y": "RAD",
          "yref": "y1"
         },
         {
          "font": {
           "color": "#3c3636"
          },
          "showarrow": false,
          "text": "0.91",
          "x": "TAX",
          "xref": "x1",
          "y": "RAD",
          "yref": "y1"
         },
         {
          "font": {
           "color": "#3c3636"
          },
          "showarrow": false,
          "text": "0.46",
          "x": "PTRATIO",
          "xref": "x1",
          "y": "RAD",
          "yref": "y1"
         },
         {
          "font": {
           "color": "#efecee"
          },
          "showarrow": false,
          "text": "-0.44",
          "x": "B",
          "xref": "x1",
          "y": "RAD",
          "yref": "y1"
         },
         {
          "font": {
           "color": "#3c3636"
          },
          "showarrow": false,
          "text": "0.49",
          "x": "LSTAT",
          "xref": "x1",
          "y": "RAD",
          "yref": "y1"
         },
         {
          "font": {
           "color": "#3c3636"
          },
          "showarrow": false,
          "text": "0.58",
          "x": "CRIM",
          "xref": "x1",
          "y": "TAX",
          "yref": "y1"
         },
         {
          "font": {
           "color": "#efecee"
          },
          "showarrow": false,
          "text": "-0.31",
          "x": "ZN",
          "xref": "x1",
          "y": "TAX",
          "yref": "y1"
         },
         {
          "font": {
           "color": "#3c3636"
          },
          "showarrow": false,
          "text": "0.72",
          "x": "INDUS",
          "xref": "x1",
          "y": "TAX",
          "yref": "y1"
         },
         {
          "font": {
           "color": "#efecee"
          },
          "showarrow": false,
          "text": "-0.04",
          "x": "CHAS",
          "xref": "x1",
          "y": "TAX",
          "yref": "y1"
         },
         {
          "font": {
           "color": "#3c3636"
          },
          "showarrow": false,
          "text": "0.67",
          "x": "NOX",
          "xref": "x1",
          "y": "TAX",
          "yref": "y1"
         },
         {
          "font": {
           "color": "#efecee"
          },
          "showarrow": false,
          "text": "-0.29",
          "x": "RM",
          "xref": "x1",
          "y": "TAX",
          "yref": "y1"
         },
         {
          "font": {
           "color": "#3c3636"
          },
          "showarrow": false,
          "text": "0.51",
          "x": "AGE",
          "xref": "x1",
          "y": "TAX",
          "yref": "y1"
         },
         {
          "font": {
           "color": "#efecee"
          },
          "showarrow": false,
          "text": "-0.53",
          "x": "DIS",
          "xref": "x1",
          "y": "TAX",
          "yref": "y1"
         },
         {
          "font": {
           "color": "#3c3636"
          },
          "showarrow": false,
          "text": "0.91",
          "x": "RAD",
          "xref": "x1",
          "y": "TAX",
          "yref": "y1"
         },
         {
          "font": {
           "color": "#3c3636"
          },
          "showarrow": false,
          "text": "1.0",
          "x": "TAX",
          "xref": "x1",
          "y": "TAX",
          "yref": "y1"
         },
         {
          "font": {
           "color": "#3c3636"
          },
          "showarrow": false,
          "text": "0.46",
          "x": "PTRATIO",
          "xref": "x1",
          "y": "TAX",
          "yref": "y1"
         },
         {
          "font": {
           "color": "#efecee"
          },
          "showarrow": false,
          "text": "-0.44",
          "x": "B",
          "xref": "x1",
          "y": "TAX",
          "yref": "y1"
         },
         {
          "font": {
           "color": "#3c3636"
          },
          "showarrow": false,
          "text": "0.54",
          "x": "LSTAT",
          "xref": "x1",
          "y": "TAX",
          "yref": "y1"
         },
         {
          "font": {
           "color": "#3c3636"
          },
          "showarrow": false,
          "text": "0.29",
          "x": "CRIM",
          "xref": "x1",
          "y": "PTRATIO",
          "yref": "y1"
         },
         {
          "font": {
           "color": "#efecee"
          },
          "showarrow": false,
          "text": "-0.39",
          "x": "ZN",
          "xref": "x1",
          "y": "PTRATIO",
          "yref": "y1"
         },
         {
          "font": {
           "color": "#3c3636"
          },
          "showarrow": false,
          "text": "0.38",
          "x": "INDUS",
          "xref": "x1",
          "y": "PTRATIO",
          "yref": "y1"
         },
         {
          "font": {
           "color": "#efecee"
          },
          "showarrow": false,
          "text": "-0.12",
          "x": "CHAS",
          "xref": "x1",
          "y": "PTRATIO",
          "yref": "y1"
         },
         {
          "font": {
           "color": "#3c3636"
          },
          "showarrow": false,
          "text": "0.19",
          "x": "NOX",
          "xref": "x1",
          "y": "PTRATIO",
          "yref": "y1"
         },
         {
          "font": {
           "color": "#efecee"
          },
          "showarrow": false,
          "text": "-0.36",
          "x": "RM",
          "xref": "x1",
          "y": "PTRATIO",
          "yref": "y1"
         },
         {
          "font": {
           "color": "#3c3636"
          },
          "showarrow": false,
          "text": "0.26",
          "x": "AGE",
          "xref": "x1",
          "y": "PTRATIO",
          "yref": "y1"
         },
         {
          "font": {
           "color": "#efecee"
          },
          "showarrow": false,
          "text": "-0.23",
          "x": "DIS",
          "xref": "x1",
          "y": "PTRATIO",
          "yref": "y1"
         },
         {
          "font": {
           "color": "#3c3636"
          },
          "showarrow": false,
          "text": "0.46",
          "x": "RAD",
          "xref": "x1",
          "y": "PTRATIO",
          "yref": "y1"
         },
         {
          "font": {
           "color": "#3c3636"
          },
          "showarrow": false,
          "text": "0.46",
          "x": "TAX",
          "xref": "x1",
          "y": "PTRATIO",
          "yref": "y1"
         },
         {
          "font": {
           "color": "#3c3636"
          },
          "showarrow": false,
          "text": "1.0",
          "x": "PTRATIO",
          "xref": "x1",
          "y": "PTRATIO",
          "yref": "y1"
         },
         {
          "font": {
           "color": "#efecee"
          },
          "showarrow": false,
          "text": "-0.18",
          "x": "B",
          "xref": "x1",
          "y": "PTRATIO",
          "yref": "y1"
         },
         {
          "font": {
           "color": "#3c3636"
          },
          "showarrow": false,
          "text": "0.37",
          "x": "LSTAT",
          "xref": "x1",
          "y": "PTRATIO",
          "yref": "y1"
         },
         {
          "font": {
           "color": "#efecee"
          },
          "showarrow": false,
          "text": "-0.38",
          "x": "CRIM",
          "xref": "x1",
          "y": "B",
          "yref": "y1"
         },
         {
          "font": {
           "color": "#3c3636"
          },
          "showarrow": false,
          "text": "0.18",
          "x": "ZN",
          "xref": "x1",
          "y": "B",
          "yref": "y1"
         },
         {
          "font": {
           "color": "#efecee"
          },
          "showarrow": false,
          "text": "-0.36",
          "x": "INDUS",
          "xref": "x1",
          "y": "B",
          "yref": "y1"
         },
         {
          "font": {
           "color": "#efecee"
          },
          "showarrow": false,
          "text": "0.05",
          "x": "CHAS",
          "xref": "x1",
          "y": "B",
          "yref": "y1"
         },
         {
          "font": {
           "color": "#efecee"
          },
          "showarrow": false,
          "text": "-0.38",
          "x": "NOX",
          "xref": "x1",
          "y": "B",
          "yref": "y1"
         },
         {
          "font": {
           "color": "#3c3636"
          },
          "showarrow": false,
          "text": "0.13",
          "x": "RM",
          "xref": "x1",
          "y": "B",
          "yref": "y1"
         },
         {
          "font": {
           "color": "#efecee"
          },
          "showarrow": false,
          "text": "-0.27",
          "x": "AGE",
          "xref": "x1",
          "y": "B",
          "yref": "y1"
         },
         {
          "font": {
           "color": "#3c3636"
          },
          "showarrow": false,
          "text": "0.29",
          "x": "DIS",
          "xref": "x1",
          "y": "B",
          "yref": "y1"
         },
         {
          "font": {
           "color": "#efecee"
          },
          "showarrow": false,
          "text": "-0.44",
          "x": "RAD",
          "xref": "x1",
          "y": "B",
          "yref": "y1"
         },
         {
          "font": {
           "color": "#efecee"
          },
          "showarrow": false,
          "text": "-0.44",
          "x": "TAX",
          "xref": "x1",
          "y": "B",
          "yref": "y1"
         },
         {
          "font": {
           "color": "#efecee"
          },
          "showarrow": false,
          "text": "-0.18",
          "x": "PTRATIO",
          "xref": "x1",
          "y": "B",
          "yref": "y1"
         },
         {
          "font": {
           "color": "#3c3636"
          },
          "showarrow": false,
          "text": "1.0",
          "x": "B",
          "xref": "x1",
          "y": "B",
          "yref": "y1"
         },
         {
          "font": {
           "color": "#efecee"
          },
          "showarrow": false,
          "text": "-0.37",
          "x": "LSTAT",
          "xref": "x1",
          "y": "B",
          "yref": "y1"
         },
         {
          "font": {
           "color": "#3c3636"
          },
          "showarrow": false,
          "text": "0.45",
          "x": "CRIM",
          "xref": "x1",
          "y": "LSTAT",
          "yref": "y1"
         },
         {
          "font": {
           "color": "#efecee"
          },
          "showarrow": false,
          "text": "-0.41",
          "x": "ZN",
          "xref": "x1",
          "y": "LSTAT",
          "yref": "y1"
         },
         {
          "font": {
           "color": "#3c3636"
          },
          "showarrow": false,
          "text": "0.6",
          "x": "INDUS",
          "xref": "x1",
          "y": "LSTAT",
          "yref": "y1"
         },
         {
          "font": {
           "color": "#efecee"
          },
          "showarrow": false,
          "text": "-0.05",
          "x": "CHAS",
          "xref": "x1",
          "y": "LSTAT",
          "yref": "y1"
         },
         {
          "font": {
           "color": "#3c3636"
          },
          "showarrow": false,
          "text": "0.59",
          "x": "NOX",
          "xref": "x1",
          "y": "LSTAT",
          "yref": "y1"
         },
         {
          "font": {
           "color": "#efecee"
          },
          "showarrow": false,
          "text": "-0.61",
          "x": "RM",
          "xref": "x1",
          "y": "LSTAT",
          "yref": "y1"
         },
         {
          "font": {
           "color": "#3c3636"
          },
          "showarrow": false,
          "text": "0.6",
          "x": "AGE",
          "xref": "x1",
          "y": "LSTAT",
          "yref": "y1"
         },
         {
          "font": {
           "color": "#efecee"
          },
          "showarrow": false,
          "text": "-0.5",
          "x": "DIS",
          "xref": "x1",
          "y": "LSTAT",
          "yref": "y1"
         },
         {
          "font": {
           "color": "#3c3636"
          },
          "showarrow": false,
          "text": "0.49",
          "x": "RAD",
          "xref": "x1",
          "y": "LSTAT",
          "yref": "y1"
         },
         {
          "font": {
           "color": "#3c3636"
          },
          "showarrow": false,
          "text": "0.54",
          "x": "TAX",
          "xref": "x1",
          "y": "LSTAT",
          "yref": "y1"
         },
         {
          "font": {
           "color": "#3c3636"
          },
          "showarrow": false,
          "text": "0.37",
          "x": "PTRATIO",
          "xref": "x1",
          "y": "LSTAT",
          "yref": "y1"
         },
         {
          "font": {
           "color": "#efecee"
          },
          "showarrow": false,
          "text": "-0.37",
          "x": "B",
          "xref": "x1",
          "y": "LSTAT",
          "yref": "y1"
         },
         {
          "font": {
           "color": "#3c3636"
          },
          "showarrow": false,
          "text": "1.0",
          "x": "LSTAT",
          "xref": "x1",
          "y": "LSTAT",
          "yref": "y1"
         }
        ],
        "height": 800,
        "margin": {
         "b": 50,
         "l": 250,
         "pad": 4,
         "r": 50,
         "t": 250
        },
        "title": null,
        "width": 800,
        "xaxis": {
         "dtick": 1,
         "gridcolor": "rgb(0, 0, 0)",
         "side": "top",
         "tickangle": -30,
         "ticks": ""
        },
        "yaxis": {
         "dtick": 1,
         "side": "left",
         "tickangle": -30,
         "ticks": "",
         "ticksuffix": "  "
        }
       }
      },
      "text/html": [
       "<div id=\"5d63dc44-8de2-44a9-a663-a78ee7dd7388\" style=\"height: 800px; width: 800px;\" class=\"plotly-graph-div\"></div><script type=\"text/javascript\">require([\"plotly\"], function(Plotly) { window.PLOTLYENV=window.PLOTLYENV || {};window.PLOTLYENV.BASE_URL=\"https://plot.ly\";Plotly.newPlot(\"5d63dc44-8de2-44a9-a663-a78ee7dd7388\", [{\"colorscale\": \"Portland\", \"showscale\": true, \"y\": [\"CRIM\", \"ZN\", \"INDUS\", \"CHAS\", \"NOX\", \"RM\", \"AGE\", \"DIS\", \"RAD\", \"TAX\", \"PTRATIO\", \"B\", \"LSTAT\"], \"x\": [\"CRIM\", \"ZN\", \"INDUS\", \"CHAS\", \"NOX\", \"RM\", \"AGE\", \"DIS\", \"RAD\", \"TAX\", \"PTRATIO\", \"B\", \"LSTAT\"], \"z\": [[1.0, -0.2, 0.4, -0.06, 0.42, -0.22, 0.35, -0.38, 0.62, 0.58, 0.29, -0.38, 0.45], [-0.2, 1.0, -0.53, -0.04, -0.52, 0.31, -0.57, 0.66, -0.31, -0.31, -0.39, 0.18, -0.41], [0.4, -0.53, 1.0, 0.06, 0.76, -0.39, 0.64, -0.71, 0.6, 0.72, 0.38, -0.36, 0.6], [-0.06, -0.04, 0.06, 1.0, 0.09, 0.09, 0.09, -0.1, -0.01, -0.04, -0.12, 0.05, -0.05], [0.42, -0.52, 0.76, 0.09, 1.0, -0.3, 0.73, -0.77, 0.61, 0.67, 0.19, -0.38, 0.59], [-0.22, 0.31, -0.39, 0.09, -0.3, 1.0, -0.24, 0.21, -0.21, -0.29, -0.36, 0.13, -0.61], [0.35, -0.57, 0.64, 0.09, 0.73, -0.24, 1.0, -0.75, 0.46, 0.51, 0.26, -0.27, 0.6], [-0.38, 0.66, -0.71, -0.1, -0.77, 0.21, -0.75, 1.0, -0.49, -0.53, -0.23, 0.29, -0.5], [0.62, -0.31, 0.6, -0.01, 0.61, -0.21, 0.46, -0.49, 1.0, 0.91, 0.46, -0.44, 0.49], [0.58, -0.31, 0.72, -0.04, 0.67, -0.29, 0.51, -0.53, 0.91, 1.0, 0.46, -0.44, 0.54], [0.29, -0.39, 0.38, -0.12, 0.19, -0.36, 0.26, -0.23, 0.46, 0.46, 1.0, -0.18, 0.37], [-0.38, 0.18, -0.36, 0.05, -0.38, 0.13, -0.27, 0.29, -0.44, -0.44, -0.18, 1.0, -0.37], [0.45, -0.41, 0.6, -0.05, 0.59, -0.61, 0.6, -0.5, 0.49, 0.54, 0.37, -0.37, 1.0]], \"type\": \"heatmap\"}], {\"yaxis\": {\"tickangle\": -30, \"ticks\": \"\", \"ticksuffix\": \"  \", \"dtick\": 1, \"side\": \"left\"}, \"title\": null, \"height\": 800, \"width\": 800, \"xaxis\": {\"tickangle\": -30, \"ticks\": \"\", \"gridcolor\": \"rgb(0, 0, 0)\", \"side\": \"top\", \"dtick\": 1}, \"margin\": {\"b\": 50, \"r\": 50, \"pad\": 4, \"t\": 250, \"l\": 250}, \"annotations\": [{\"xref\": \"x1\", \"yref\": \"y1\", \"text\": \"1.0\", \"y\": \"CRIM\", \"x\": \"CRIM\", \"font\": {\"color\": \"#3c3636\"}, \"showarrow\": false}, {\"xref\": \"x1\", \"yref\": \"y1\", \"text\": \"-0.2\", \"y\": \"CRIM\", \"x\": \"ZN\", \"font\": {\"color\": \"#efecee\"}, \"showarrow\": false}, {\"xref\": \"x1\", \"yref\": \"y1\", \"text\": \"0.4\", \"y\": \"CRIM\", \"x\": \"INDUS\", \"font\": {\"color\": \"#3c3636\"}, \"showarrow\": false}, {\"xref\": \"x1\", \"yref\": \"y1\", \"text\": \"-0.06\", \"y\": \"CRIM\", \"x\": \"CHAS\", \"font\": {\"color\": \"#efecee\"}, \"showarrow\": false}, {\"xref\": \"x1\", \"yref\": \"y1\", \"text\": \"0.42\", \"y\": \"CRIM\", \"x\": \"NOX\", \"font\": {\"color\": \"#3c3636\"}, \"showarrow\": false}, {\"xref\": \"x1\", \"yref\": \"y1\", \"text\": \"-0.22\", \"y\": \"CRIM\", \"x\": \"RM\", \"font\": {\"color\": \"#efecee\"}, \"showarrow\": false}, {\"xref\": \"x1\", \"yref\": \"y1\", \"text\": \"0.35\", \"y\": \"CRIM\", \"x\": \"AGE\", \"font\": {\"color\": \"#3c3636\"}, \"showarrow\": false}, {\"xref\": \"x1\", \"yref\": \"y1\", \"text\": \"-0.38\", \"y\": \"CRIM\", \"x\": \"DIS\", \"font\": {\"color\": \"#efecee\"}, \"showarrow\": false}, {\"xref\": \"x1\", \"yref\": \"y1\", \"text\": \"0.62\", \"y\": \"CRIM\", \"x\": \"RAD\", \"font\": {\"color\": \"#3c3636\"}, \"showarrow\": false}, {\"xref\": \"x1\", \"yref\": \"y1\", \"text\": \"0.58\", \"y\": \"CRIM\", \"x\": \"TAX\", \"font\": {\"color\": \"#3c3636\"}, \"showarrow\": false}, {\"xref\": \"x1\", \"yref\": \"y1\", \"text\": \"0.29\", \"y\": \"CRIM\", \"x\": \"PTRATIO\", \"font\": {\"color\": \"#3c3636\"}, \"showarrow\": false}, {\"xref\": \"x1\", \"yref\": \"y1\", \"text\": \"-0.38\", \"y\": \"CRIM\", \"x\": \"B\", \"font\": {\"color\": \"#efecee\"}, \"showarrow\": false}, {\"xref\": \"x1\", \"yref\": \"y1\", \"text\": \"0.45\", \"y\": \"CRIM\", \"x\": \"LSTAT\", \"font\": {\"color\": \"#3c3636\"}, \"showarrow\": false}, {\"xref\": \"x1\", \"yref\": \"y1\", \"text\": \"-0.2\", \"y\": \"ZN\", \"x\": \"CRIM\", \"font\": {\"color\": \"#efecee\"}, \"showarrow\": false}, {\"xref\": \"x1\", \"yref\": \"y1\", \"text\": \"1.0\", \"y\": \"ZN\", \"x\": \"ZN\", \"font\": {\"color\": \"#3c3636\"}, \"showarrow\": false}, {\"xref\": \"x1\", \"yref\": \"y1\", \"text\": \"-0.53\", \"y\": \"ZN\", \"x\": \"INDUS\", \"font\": {\"color\": \"#efecee\"}, \"showarrow\": false}, {\"xref\": \"x1\", \"yref\": \"y1\", \"text\": \"-0.04\", \"y\": \"ZN\", \"x\": \"CHAS\", \"font\": {\"color\": \"#efecee\"}, \"showarrow\": false}, {\"xref\": \"x1\", \"yref\": \"y1\", \"text\": \"-0.52\", \"y\": \"ZN\", \"x\": \"NOX\", \"font\": {\"color\": \"#efecee\"}, \"showarrow\": false}, {\"xref\": \"x1\", \"yref\": \"y1\", \"text\": \"0.31\", \"y\": \"ZN\", \"x\": \"RM\", \"font\": {\"color\": \"#3c3636\"}, \"showarrow\": false}, {\"xref\": \"x1\", \"yref\": \"y1\", \"text\": \"-0.57\", \"y\": \"ZN\", \"x\": \"AGE\", \"font\": {\"color\": \"#efecee\"}, \"showarrow\": false}, {\"xref\": \"x1\", \"yref\": \"y1\", \"text\": \"0.66\", \"y\": \"ZN\", \"x\": \"DIS\", \"font\": {\"color\": \"#3c3636\"}, \"showarrow\": false}, {\"xref\": \"x1\", \"yref\": \"y1\", \"text\": \"-0.31\", \"y\": \"ZN\", \"x\": \"RAD\", \"font\": {\"color\": \"#efecee\"}, \"showarrow\": false}, {\"xref\": \"x1\", \"yref\": \"y1\", \"text\": \"-0.31\", \"y\": \"ZN\", \"x\": \"TAX\", \"font\": {\"color\": \"#efecee\"}, \"showarrow\": false}, {\"xref\": \"x1\", \"yref\": \"y1\", \"text\": \"-0.39\", \"y\": \"ZN\", \"x\": \"PTRATIO\", \"font\": {\"color\": \"#efecee\"}, \"showarrow\": false}, {\"xref\": \"x1\", \"yref\": \"y1\", \"text\": \"0.18\", \"y\": \"ZN\", \"x\": \"B\", \"font\": {\"color\": \"#3c3636\"}, \"showarrow\": false}, {\"xref\": \"x1\", \"yref\": \"y1\", \"text\": \"-0.41\", \"y\": \"ZN\", \"x\": \"LSTAT\", \"font\": {\"color\": \"#efecee\"}, \"showarrow\": false}, {\"xref\": \"x1\", \"yref\": \"y1\", \"text\": \"0.4\", \"y\": \"INDUS\", \"x\": \"CRIM\", \"font\": {\"color\": \"#3c3636\"}, \"showarrow\": false}, {\"xref\": \"x1\", \"yref\": \"y1\", \"text\": \"-0.53\", \"y\": \"INDUS\", \"x\": \"ZN\", \"font\": {\"color\": \"#efecee\"}, \"showarrow\": false}, {\"xref\": \"x1\", \"yref\": \"y1\", \"text\": \"1.0\", \"y\": \"INDUS\", \"x\": \"INDUS\", \"font\": {\"color\": \"#3c3636\"}, \"showarrow\": false}, {\"xref\": \"x1\", \"yref\": \"y1\", \"text\": \"0.06\", \"y\": \"INDUS\", \"x\": \"CHAS\", \"font\": {\"color\": \"#efecee\"}, \"showarrow\": false}, {\"xref\": \"x1\", \"yref\": \"y1\", \"text\": \"0.76\", \"y\": \"INDUS\", \"x\": \"NOX\", \"font\": {\"color\": \"#3c3636\"}, \"showarrow\": false}, {\"xref\": \"x1\", \"yref\": \"y1\", \"text\": \"-0.39\", \"y\": \"INDUS\", \"x\": \"RM\", \"font\": {\"color\": \"#efecee\"}, \"showarrow\": false}, {\"xref\": \"x1\", \"yref\": \"y1\", \"text\": \"0.64\", \"y\": \"INDUS\", \"x\": \"AGE\", \"font\": {\"color\": \"#3c3636\"}, \"showarrow\": false}, {\"xref\": \"x1\", \"yref\": \"y1\", \"text\": \"-0.71\", \"y\": \"INDUS\", \"x\": \"DIS\", \"font\": {\"color\": \"#efecee\"}, \"showarrow\": false}, {\"xref\": \"x1\", \"yref\": \"y1\", \"text\": \"0.6\", \"y\": \"INDUS\", \"x\": \"RAD\", \"font\": {\"color\": \"#3c3636\"}, \"showarrow\": false}, {\"xref\": \"x1\", \"yref\": \"y1\", \"text\": \"0.72\", \"y\": \"INDUS\", \"x\": \"TAX\", \"font\": {\"color\": \"#3c3636\"}, \"showarrow\": false}, {\"xref\": \"x1\", \"yref\": \"y1\", \"text\": \"0.38\", \"y\": \"INDUS\", \"x\": \"PTRATIO\", \"font\": {\"color\": \"#3c3636\"}, \"showarrow\": false}, {\"xref\": \"x1\", \"yref\": \"y1\", \"text\": \"-0.36\", \"y\": \"INDUS\", \"x\": \"B\", \"font\": {\"color\": \"#efecee\"}, \"showarrow\": false}, {\"xref\": \"x1\", \"yref\": \"y1\", \"text\": \"0.6\", \"y\": \"INDUS\", \"x\": \"LSTAT\", \"font\": {\"color\": \"#3c3636\"}, \"showarrow\": false}, {\"xref\": \"x1\", \"yref\": \"y1\", \"text\": \"-0.06\", \"y\": \"CHAS\", \"x\": \"CRIM\", \"font\": {\"color\": \"#efecee\"}, \"showarrow\": false}, {\"xref\": \"x1\", \"yref\": \"y1\", \"text\": \"-0.04\", \"y\": \"CHAS\", \"x\": \"ZN\", \"font\": {\"color\": \"#efecee\"}, \"showarrow\": false}, {\"xref\": \"x1\", \"yref\": \"y1\", \"text\": \"0.06\", \"y\": \"CHAS\", \"x\": \"INDUS\", \"font\": {\"color\": \"#efecee\"}, \"showarrow\": false}, {\"xref\": \"x1\", \"yref\": \"y1\", \"text\": \"1.0\", \"y\": \"CHAS\", \"x\": \"CHAS\", \"font\": {\"color\": \"#3c3636\"}, \"showarrow\": false}, {\"xref\": \"x1\", \"yref\": \"y1\", \"text\": \"0.09\", \"y\": \"CHAS\", \"x\": \"NOX\", \"font\": {\"color\": \"#efecee\"}, \"showarrow\": false}, {\"xref\": \"x1\", \"yref\": \"y1\", \"text\": \"0.09\", \"y\": \"CHAS\", \"x\": \"RM\", \"font\": {\"color\": \"#efecee\"}, \"showarrow\": false}, {\"xref\": \"x1\", \"yref\": \"y1\", \"text\": \"0.09\", \"y\": \"CHAS\", \"x\": \"AGE\", \"font\": {\"color\": \"#efecee\"}, \"showarrow\": false}, {\"xref\": \"x1\", \"yref\": \"y1\", \"text\": \"-0.1\", \"y\": \"CHAS\", \"x\": \"DIS\", \"font\": {\"color\": \"#efecee\"}, \"showarrow\": false}, {\"xref\": \"x1\", \"yref\": \"y1\", \"text\": \"-0.01\", \"y\": \"CHAS\", \"x\": \"RAD\", \"font\": {\"color\": \"#efecee\"}, \"showarrow\": false}, {\"xref\": \"x1\", \"yref\": \"y1\", \"text\": \"-0.04\", \"y\": \"CHAS\", \"x\": \"TAX\", \"font\": {\"color\": \"#efecee\"}, \"showarrow\": false}, {\"xref\": \"x1\", \"yref\": \"y1\", \"text\": \"-0.12\", \"y\": \"CHAS\", \"x\": \"PTRATIO\", \"font\": {\"color\": \"#efecee\"}, \"showarrow\": false}, {\"xref\": \"x1\", \"yref\": \"y1\", \"text\": \"0.05\", \"y\": \"CHAS\", \"x\": \"B\", \"font\": {\"color\": \"#efecee\"}, \"showarrow\": false}, {\"xref\": \"x1\", \"yref\": \"y1\", \"text\": \"-0.05\", \"y\": \"CHAS\", \"x\": \"LSTAT\", \"font\": {\"color\": \"#efecee\"}, \"showarrow\": false}, {\"xref\": \"x1\", \"yref\": \"y1\", \"text\": \"0.42\", \"y\": \"NOX\", \"x\": \"CRIM\", \"font\": {\"color\": \"#3c3636\"}, \"showarrow\": false}, {\"xref\": \"x1\", \"yref\": \"y1\", \"text\": \"-0.52\", \"y\": \"NOX\", \"x\": \"ZN\", \"font\": {\"color\": \"#efecee\"}, \"showarrow\": false}, {\"xref\": \"x1\", \"yref\": \"y1\", \"text\": \"0.76\", \"y\": \"NOX\", \"x\": \"INDUS\", \"font\": {\"color\": \"#3c3636\"}, \"showarrow\": false}, {\"xref\": \"x1\", \"yref\": \"y1\", \"text\": \"0.09\", \"y\": \"NOX\", \"x\": \"CHAS\", \"font\": {\"color\": \"#efecee\"}, \"showarrow\": false}, {\"xref\": \"x1\", \"yref\": \"y1\", \"text\": \"1.0\", \"y\": \"NOX\", \"x\": \"NOX\", \"font\": {\"color\": \"#3c3636\"}, \"showarrow\": false}, {\"xref\": \"x1\", \"yref\": \"y1\", \"text\": \"-0.3\", \"y\": \"NOX\", \"x\": \"RM\", \"font\": {\"color\": \"#efecee\"}, \"showarrow\": false}, {\"xref\": \"x1\", \"yref\": \"y1\", \"text\": \"0.73\", \"y\": \"NOX\", \"x\": \"AGE\", \"font\": {\"color\": \"#3c3636\"}, \"showarrow\": false}, {\"xref\": \"x1\", \"yref\": \"y1\", \"text\": \"-0.77\", \"y\": \"NOX\", \"x\": \"DIS\", \"font\": {\"color\": \"#efecee\"}, \"showarrow\": false}, {\"xref\": \"x1\", \"yref\": \"y1\", \"text\": \"0.61\", \"y\": \"NOX\", \"x\": \"RAD\", \"font\": {\"color\": \"#3c3636\"}, \"showarrow\": false}, {\"xref\": \"x1\", \"yref\": \"y1\", \"text\": \"0.67\", \"y\": \"NOX\", \"x\": \"TAX\", \"font\": {\"color\": \"#3c3636\"}, \"showarrow\": false}, {\"xref\": \"x1\", \"yref\": \"y1\", \"text\": \"0.19\", \"y\": \"NOX\", \"x\": \"PTRATIO\", \"font\": {\"color\": \"#3c3636\"}, \"showarrow\": false}, {\"xref\": \"x1\", \"yref\": \"y1\", \"text\": \"-0.38\", \"y\": \"NOX\", \"x\": \"B\", \"font\": {\"color\": \"#efecee\"}, \"showarrow\": false}, {\"xref\": \"x1\", \"yref\": \"y1\", \"text\": \"0.59\", \"y\": \"NOX\", \"x\": \"LSTAT\", \"font\": {\"color\": \"#3c3636\"}, \"showarrow\": false}, {\"xref\": \"x1\", \"yref\": \"y1\", \"text\": \"-0.22\", \"y\": \"RM\", \"x\": \"CRIM\", \"font\": {\"color\": \"#efecee\"}, \"showarrow\": false}, {\"xref\": \"x1\", \"yref\": \"y1\", \"text\": \"0.31\", \"y\": \"RM\", \"x\": \"ZN\", \"font\": {\"color\": \"#3c3636\"}, \"showarrow\": false}, {\"xref\": \"x1\", \"yref\": \"y1\", \"text\": \"-0.39\", \"y\": \"RM\", \"x\": \"INDUS\", \"font\": {\"color\": \"#efecee\"}, \"showarrow\": false}, {\"xref\": \"x1\", \"yref\": \"y1\", \"text\": \"0.09\", \"y\": \"RM\", \"x\": \"CHAS\", \"font\": {\"color\": \"#efecee\"}, \"showarrow\": false}, {\"xref\": \"x1\", \"yref\": \"y1\", \"text\": \"-0.3\", \"y\": \"RM\", \"x\": \"NOX\", \"font\": {\"color\": \"#efecee\"}, \"showarrow\": false}, {\"xref\": \"x1\", \"yref\": \"y1\", \"text\": \"1.0\", \"y\": \"RM\", \"x\": \"RM\", \"font\": {\"color\": \"#3c3636\"}, \"showarrow\": false}, {\"xref\": \"x1\", \"yref\": \"y1\", \"text\": \"-0.24\", \"y\": \"RM\", \"x\": \"AGE\", \"font\": {\"color\": \"#efecee\"}, \"showarrow\": false}, {\"xref\": \"x1\", \"yref\": \"y1\", \"text\": \"0.21\", \"y\": \"RM\", \"x\": \"DIS\", \"font\": {\"color\": \"#3c3636\"}, \"showarrow\": false}, {\"xref\": \"x1\", \"yref\": \"y1\", \"text\": \"-0.21\", \"y\": \"RM\", \"x\": \"RAD\", \"font\": {\"color\": \"#efecee\"}, \"showarrow\": false}, {\"xref\": \"x1\", \"yref\": \"y1\", \"text\": \"-0.29\", \"y\": \"RM\", \"x\": \"TAX\", \"font\": {\"color\": \"#efecee\"}, \"showarrow\": false}, {\"xref\": \"x1\", \"yref\": \"y1\", \"text\": \"-0.36\", \"y\": \"RM\", \"x\": \"PTRATIO\", \"font\": {\"color\": \"#efecee\"}, \"showarrow\": false}, {\"xref\": \"x1\", \"yref\": \"y1\", \"text\": \"0.13\", \"y\": \"RM\", \"x\": \"B\", \"font\": {\"color\": \"#3c3636\"}, \"showarrow\": false}, {\"xref\": \"x1\", \"yref\": \"y1\", \"text\": \"-0.61\", \"y\": \"RM\", \"x\": \"LSTAT\", \"font\": {\"color\": \"#efecee\"}, \"showarrow\": false}, {\"xref\": \"x1\", \"yref\": \"y1\", \"text\": \"0.35\", \"y\": \"AGE\", \"x\": \"CRIM\", \"font\": {\"color\": \"#3c3636\"}, \"showarrow\": false}, {\"xref\": \"x1\", \"yref\": \"y1\", \"text\": \"-0.57\", \"y\": \"AGE\", \"x\": \"ZN\", \"font\": {\"color\": \"#efecee\"}, \"showarrow\": false}, {\"xref\": \"x1\", \"yref\": \"y1\", \"text\": \"0.64\", \"y\": \"AGE\", \"x\": \"INDUS\", \"font\": {\"color\": \"#3c3636\"}, \"showarrow\": false}, {\"xref\": \"x1\", \"yref\": \"y1\", \"text\": \"0.09\", \"y\": \"AGE\", \"x\": \"CHAS\", \"font\": {\"color\": \"#efecee\"}, \"showarrow\": false}, {\"xref\": \"x1\", \"yref\": \"y1\", \"text\": \"0.73\", \"y\": \"AGE\", \"x\": \"NOX\", \"font\": {\"color\": \"#3c3636\"}, \"showarrow\": false}, {\"xref\": \"x1\", \"yref\": \"y1\", \"text\": \"-0.24\", \"y\": \"AGE\", \"x\": \"RM\", \"font\": {\"color\": \"#efecee\"}, \"showarrow\": false}, {\"xref\": \"x1\", \"yref\": \"y1\", \"text\": \"1.0\", \"y\": \"AGE\", \"x\": \"AGE\", \"font\": {\"color\": \"#3c3636\"}, \"showarrow\": false}, {\"xref\": \"x1\", \"yref\": \"y1\", \"text\": \"-0.75\", \"y\": \"AGE\", \"x\": \"DIS\", \"font\": {\"color\": \"#efecee\"}, \"showarrow\": false}, {\"xref\": \"x1\", \"yref\": \"y1\", \"text\": \"0.46\", \"y\": \"AGE\", \"x\": \"RAD\", \"font\": {\"color\": \"#3c3636\"}, \"showarrow\": false}, {\"xref\": \"x1\", \"yref\": \"y1\", \"text\": \"0.51\", \"y\": \"AGE\", \"x\": \"TAX\", \"font\": {\"color\": \"#3c3636\"}, \"showarrow\": false}, {\"xref\": \"x1\", \"yref\": \"y1\", \"text\": \"0.26\", \"y\": \"AGE\", \"x\": \"PTRATIO\", \"font\": {\"color\": \"#3c3636\"}, \"showarrow\": false}, {\"xref\": \"x1\", \"yref\": \"y1\", \"text\": \"-0.27\", \"y\": \"AGE\", \"x\": \"B\", \"font\": {\"color\": \"#efecee\"}, \"showarrow\": false}, {\"xref\": \"x1\", \"yref\": \"y1\", \"text\": \"0.6\", \"y\": \"AGE\", \"x\": \"LSTAT\", \"font\": {\"color\": \"#3c3636\"}, \"showarrow\": false}, {\"xref\": \"x1\", \"yref\": \"y1\", \"text\": \"-0.38\", \"y\": \"DIS\", \"x\": \"CRIM\", \"font\": {\"color\": \"#efecee\"}, \"showarrow\": false}, {\"xref\": \"x1\", \"yref\": \"y1\", \"text\": \"0.66\", \"y\": \"DIS\", \"x\": \"ZN\", \"font\": {\"color\": \"#3c3636\"}, \"showarrow\": false}, {\"xref\": \"x1\", \"yref\": \"y1\", \"text\": \"-0.71\", \"y\": \"DIS\", \"x\": \"INDUS\", \"font\": {\"color\": \"#efecee\"}, \"showarrow\": false}, {\"xref\": \"x1\", \"yref\": \"y1\", \"text\": \"-0.1\", \"y\": \"DIS\", \"x\": \"CHAS\", \"font\": {\"color\": \"#efecee\"}, \"showarrow\": false}, {\"xref\": \"x1\", \"yref\": \"y1\", \"text\": \"-0.77\", \"y\": \"DIS\", \"x\": \"NOX\", \"font\": {\"color\": \"#efecee\"}, \"showarrow\": false}, {\"xref\": \"x1\", \"yref\": \"y1\", \"text\": \"0.21\", \"y\": \"DIS\", \"x\": \"RM\", \"font\": {\"color\": \"#3c3636\"}, \"showarrow\": false}, {\"xref\": \"x1\", \"yref\": \"y1\", \"text\": \"-0.75\", \"y\": \"DIS\", \"x\": \"AGE\", \"font\": {\"color\": \"#efecee\"}, \"showarrow\": false}, {\"xref\": \"x1\", \"yref\": \"y1\", \"text\": \"1.0\", \"y\": \"DIS\", \"x\": \"DIS\", \"font\": {\"color\": \"#3c3636\"}, \"showarrow\": false}, {\"xref\": \"x1\", \"yref\": \"y1\", \"text\": \"-0.49\", \"y\": \"DIS\", \"x\": \"RAD\", \"font\": {\"color\": \"#efecee\"}, \"showarrow\": false}, {\"xref\": \"x1\", \"yref\": \"y1\", \"text\": \"-0.53\", \"y\": \"DIS\", \"x\": \"TAX\", \"font\": {\"color\": \"#efecee\"}, \"showarrow\": false}, {\"xref\": \"x1\", \"yref\": \"y1\", \"text\": \"-0.23\", \"y\": \"DIS\", \"x\": \"PTRATIO\", \"font\": {\"color\": \"#efecee\"}, \"showarrow\": false}, {\"xref\": \"x1\", \"yref\": \"y1\", \"text\": \"0.29\", \"y\": \"DIS\", \"x\": \"B\", \"font\": {\"color\": \"#3c3636\"}, \"showarrow\": false}, {\"xref\": \"x1\", \"yref\": \"y1\", \"text\": \"-0.5\", \"y\": \"DIS\", \"x\": \"LSTAT\", \"font\": {\"color\": \"#efecee\"}, \"showarrow\": false}, {\"xref\": \"x1\", \"yref\": \"y1\", \"text\": \"0.62\", \"y\": \"RAD\", \"x\": \"CRIM\", \"font\": {\"color\": \"#3c3636\"}, \"showarrow\": false}, {\"xref\": \"x1\", \"yref\": \"y1\", \"text\": \"-0.31\", \"y\": \"RAD\", \"x\": \"ZN\", \"font\": {\"color\": \"#efecee\"}, \"showarrow\": false}, {\"xref\": \"x1\", \"yref\": \"y1\", \"text\": \"0.6\", \"y\": \"RAD\", \"x\": \"INDUS\", \"font\": {\"color\": \"#3c3636\"}, \"showarrow\": false}, {\"xref\": \"x1\", \"yref\": \"y1\", \"text\": \"-0.01\", \"y\": \"RAD\", \"x\": \"CHAS\", \"font\": {\"color\": \"#efecee\"}, \"showarrow\": false}, {\"xref\": \"x1\", \"yref\": \"y1\", \"text\": \"0.61\", \"y\": \"RAD\", \"x\": \"NOX\", \"font\": {\"color\": \"#3c3636\"}, \"showarrow\": false}, {\"xref\": \"x1\", \"yref\": \"y1\", \"text\": \"-0.21\", \"y\": \"RAD\", \"x\": \"RM\", \"font\": {\"color\": \"#efecee\"}, \"showarrow\": false}, {\"xref\": \"x1\", \"yref\": \"y1\", \"text\": \"0.46\", \"y\": \"RAD\", \"x\": \"AGE\", \"font\": {\"color\": \"#3c3636\"}, \"showarrow\": false}, {\"xref\": \"x1\", \"yref\": \"y1\", \"text\": \"-0.49\", \"y\": \"RAD\", \"x\": \"DIS\", \"font\": {\"color\": \"#efecee\"}, \"showarrow\": false}, {\"xref\": \"x1\", \"yref\": \"y1\", \"text\": \"1.0\", \"y\": \"RAD\", \"x\": \"RAD\", \"font\": {\"color\": \"#3c3636\"}, \"showarrow\": false}, {\"xref\": \"x1\", \"yref\": \"y1\", \"text\": \"0.91\", \"y\": \"RAD\", \"x\": \"TAX\", \"font\": {\"color\": \"#3c3636\"}, \"showarrow\": false}, {\"xref\": \"x1\", \"yref\": \"y1\", \"text\": \"0.46\", \"y\": \"RAD\", \"x\": \"PTRATIO\", \"font\": {\"color\": \"#3c3636\"}, \"showarrow\": false}, {\"xref\": \"x1\", \"yref\": \"y1\", \"text\": \"-0.44\", \"y\": \"RAD\", \"x\": \"B\", \"font\": {\"color\": \"#efecee\"}, \"showarrow\": false}, {\"xref\": \"x1\", \"yref\": \"y1\", \"text\": \"0.49\", \"y\": \"RAD\", \"x\": \"LSTAT\", \"font\": {\"color\": \"#3c3636\"}, \"showarrow\": false}, {\"xref\": \"x1\", \"yref\": \"y1\", \"text\": \"0.58\", \"y\": \"TAX\", \"x\": \"CRIM\", \"font\": {\"color\": \"#3c3636\"}, \"showarrow\": false}, {\"xref\": \"x1\", \"yref\": \"y1\", \"text\": \"-0.31\", \"y\": \"TAX\", \"x\": \"ZN\", \"font\": {\"color\": \"#efecee\"}, \"showarrow\": false}, {\"xref\": \"x1\", \"yref\": \"y1\", \"text\": \"0.72\", \"y\": \"TAX\", \"x\": \"INDUS\", \"font\": {\"color\": \"#3c3636\"}, \"showarrow\": false}, {\"xref\": \"x1\", \"yref\": \"y1\", \"text\": \"-0.04\", \"y\": \"TAX\", \"x\": \"CHAS\", \"font\": {\"color\": \"#efecee\"}, \"showarrow\": false}, {\"xref\": \"x1\", \"yref\": \"y1\", \"text\": \"0.67\", \"y\": \"TAX\", \"x\": \"NOX\", \"font\": {\"color\": \"#3c3636\"}, \"showarrow\": false}, {\"xref\": \"x1\", \"yref\": \"y1\", \"text\": \"-0.29\", \"y\": \"TAX\", \"x\": \"RM\", \"font\": {\"color\": \"#efecee\"}, \"showarrow\": false}, {\"xref\": \"x1\", \"yref\": \"y1\", \"text\": \"0.51\", \"y\": \"TAX\", \"x\": \"AGE\", \"font\": {\"color\": \"#3c3636\"}, \"showarrow\": false}, {\"xref\": \"x1\", \"yref\": \"y1\", \"text\": \"-0.53\", \"y\": \"TAX\", \"x\": \"DIS\", \"font\": {\"color\": \"#efecee\"}, \"showarrow\": false}, {\"xref\": \"x1\", \"yref\": \"y1\", \"text\": \"0.91\", \"y\": \"TAX\", \"x\": \"RAD\", \"font\": {\"color\": \"#3c3636\"}, \"showarrow\": false}, {\"xref\": \"x1\", \"yref\": \"y1\", \"text\": \"1.0\", \"y\": \"TAX\", \"x\": \"TAX\", \"font\": {\"color\": \"#3c3636\"}, \"showarrow\": false}, {\"xref\": \"x1\", \"yref\": \"y1\", \"text\": \"0.46\", \"y\": \"TAX\", \"x\": \"PTRATIO\", \"font\": {\"color\": \"#3c3636\"}, \"showarrow\": false}, {\"xref\": \"x1\", \"yref\": \"y1\", \"text\": \"-0.44\", \"y\": \"TAX\", \"x\": \"B\", \"font\": {\"color\": \"#efecee\"}, \"showarrow\": false}, {\"xref\": \"x1\", \"yref\": \"y1\", \"text\": \"0.54\", \"y\": \"TAX\", \"x\": \"LSTAT\", \"font\": {\"color\": \"#3c3636\"}, \"showarrow\": false}, {\"xref\": \"x1\", \"yref\": \"y1\", \"text\": \"0.29\", \"y\": \"PTRATIO\", \"x\": \"CRIM\", \"font\": {\"color\": \"#3c3636\"}, \"showarrow\": false}, {\"xref\": \"x1\", \"yref\": \"y1\", \"text\": \"-0.39\", \"y\": \"PTRATIO\", \"x\": \"ZN\", \"font\": {\"color\": \"#efecee\"}, \"showarrow\": false}, {\"xref\": \"x1\", \"yref\": \"y1\", \"text\": \"0.38\", \"y\": \"PTRATIO\", \"x\": \"INDUS\", \"font\": {\"color\": \"#3c3636\"}, \"showarrow\": false}, {\"xref\": \"x1\", \"yref\": \"y1\", \"text\": \"-0.12\", \"y\": \"PTRATIO\", \"x\": \"CHAS\", \"font\": {\"color\": \"#efecee\"}, \"showarrow\": false}, {\"xref\": \"x1\", \"yref\": \"y1\", \"text\": \"0.19\", \"y\": \"PTRATIO\", \"x\": \"NOX\", \"font\": {\"color\": \"#3c3636\"}, \"showarrow\": false}, {\"xref\": \"x1\", \"yref\": \"y1\", \"text\": \"-0.36\", \"y\": \"PTRATIO\", \"x\": \"RM\", \"font\": {\"color\": \"#efecee\"}, \"showarrow\": false}, {\"xref\": \"x1\", \"yref\": \"y1\", \"text\": \"0.26\", \"y\": \"PTRATIO\", \"x\": \"AGE\", \"font\": {\"color\": \"#3c3636\"}, \"showarrow\": false}, {\"xref\": \"x1\", \"yref\": \"y1\", \"text\": \"-0.23\", \"y\": \"PTRATIO\", \"x\": \"DIS\", \"font\": {\"color\": \"#efecee\"}, \"showarrow\": false}, {\"xref\": \"x1\", \"yref\": \"y1\", \"text\": \"0.46\", \"y\": \"PTRATIO\", \"x\": \"RAD\", \"font\": {\"color\": \"#3c3636\"}, \"showarrow\": false}, {\"xref\": \"x1\", \"yref\": \"y1\", \"text\": \"0.46\", \"y\": \"PTRATIO\", \"x\": \"TAX\", \"font\": {\"color\": \"#3c3636\"}, \"showarrow\": false}, {\"xref\": \"x1\", \"yref\": \"y1\", \"text\": \"1.0\", \"y\": \"PTRATIO\", \"x\": \"PTRATIO\", \"font\": {\"color\": \"#3c3636\"}, \"showarrow\": false}, {\"xref\": \"x1\", \"yref\": \"y1\", \"text\": \"-0.18\", \"y\": \"PTRATIO\", \"x\": \"B\", \"font\": {\"color\": \"#efecee\"}, \"showarrow\": false}, {\"xref\": \"x1\", \"yref\": \"y1\", \"text\": \"0.37\", \"y\": \"PTRATIO\", \"x\": \"LSTAT\", \"font\": {\"color\": \"#3c3636\"}, \"showarrow\": false}, {\"xref\": \"x1\", \"yref\": \"y1\", \"text\": \"-0.38\", \"y\": \"B\", \"x\": \"CRIM\", \"font\": {\"color\": \"#efecee\"}, \"showarrow\": false}, {\"xref\": \"x1\", \"yref\": \"y1\", \"text\": \"0.18\", \"y\": \"B\", \"x\": \"ZN\", \"font\": {\"color\": \"#3c3636\"}, \"showarrow\": false}, {\"xref\": \"x1\", \"yref\": \"y1\", \"text\": \"-0.36\", \"y\": \"B\", \"x\": \"INDUS\", \"font\": {\"color\": \"#efecee\"}, \"showarrow\": false}, {\"xref\": \"x1\", \"yref\": \"y1\", \"text\": \"0.05\", \"y\": \"B\", \"x\": \"CHAS\", \"font\": {\"color\": \"#efecee\"}, \"showarrow\": false}, {\"xref\": \"x1\", \"yref\": \"y1\", \"text\": \"-0.38\", \"y\": \"B\", \"x\": \"NOX\", \"font\": {\"color\": \"#efecee\"}, \"showarrow\": false}, {\"xref\": \"x1\", \"yref\": \"y1\", \"text\": \"0.13\", \"y\": \"B\", \"x\": \"RM\", \"font\": {\"color\": \"#3c3636\"}, \"showarrow\": false}, {\"xref\": \"x1\", \"yref\": \"y1\", \"text\": \"-0.27\", \"y\": \"B\", \"x\": \"AGE\", \"font\": {\"color\": \"#efecee\"}, \"showarrow\": false}, {\"xref\": \"x1\", \"yref\": \"y1\", \"text\": \"0.29\", \"y\": \"B\", \"x\": \"DIS\", \"font\": {\"color\": \"#3c3636\"}, \"showarrow\": false}, {\"xref\": \"x1\", \"yref\": \"y1\", \"text\": \"-0.44\", \"y\": \"B\", \"x\": \"RAD\", \"font\": {\"color\": \"#efecee\"}, \"showarrow\": false}, {\"xref\": \"x1\", \"yref\": \"y1\", \"text\": \"-0.44\", \"y\": \"B\", \"x\": \"TAX\", \"font\": {\"color\": \"#efecee\"}, \"showarrow\": false}, {\"xref\": \"x1\", \"yref\": \"y1\", \"text\": \"-0.18\", \"y\": \"B\", \"x\": \"PTRATIO\", \"font\": {\"color\": \"#efecee\"}, \"showarrow\": false}, {\"xref\": \"x1\", \"yref\": \"y1\", \"text\": \"1.0\", \"y\": \"B\", \"x\": \"B\", \"font\": {\"color\": \"#3c3636\"}, \"showarrow\": false}, {\"xref\": \"x1\", \"yref\": \"y1\", \"text\": \"-0.37\", \"y\": \"B\", \"x\": \"LSTAT\", \"font\": {\"color\": \"#efecee\"}, \"showarrow\": false}, {\"xref\": \"x1\", \"yref\": \"y1\", \"text\": \"0.45\", \"y\": \"LSTAT\", \"x\": \"CRIM\", \"font\": {\"color\": \"#3c3636\"}, \"showarrow\": false}, {\"xref\": \"x1\", \"yref\": \"y1\", \"text\": \"-0.41\", \"y\": \"LSTAT\", \"x\": \"ZN\", \"font\": {\"color\": \"#efecee\"}, \"showarrow\": false}, {\"xref\": \"x1\", \"yref\": \"y1\", \"text\": \"0.6\", \"y\": \"LSTAT\", \"x\": \"INDUS\", \"font\": {\"color\": \"#3c3636\"}, \"showarrow\": false}, {\"xref\": \"x1\", \"yref\": \"y1\", \"text\": \"-0.05\", \"y\": \"LSTAT\", \"x\": \"CHAS\", \"font\": {\"color\": \"#efecee\"}, \"showarrow\": false}, {\"xref\": \"x1\", \"yref\": \"y1\", \"text\": \"0.59\", \"y\": \"LSTAT\", \"x\": \"NOX\", \"font\": {\"color\": \"#3c3636\"}, \"showarrow\": false}, {\"xref\": \"x1\", \"yref\": \"y1\", \"text\": \"-0.61\", \"y\": \"LSTAT\", \"x\": \"RM\", \"font\": {\"color\": \"#efecee\"}, \"showarrow\": false}, {\"xref\": \"x1\", \"yref\": \"y1\", \"text\": \"0.6\", \"y\": \"LSTAT\", \"x\": \"AGE\", \"font\": {\"color\": \"#3c3636\"}, \"showarrow\": false}, {\"xref\": \"x1\", \"yref\": \"y1\", \"text\": \"-0.5\", \"y\": \"LSTAT\", \"x\": \"DIS\", \"font\": {\"color\": \"#efecee\"}, \"showarrow\": false}, {\"xref\": \"x1\", \"yref\": \"y1\", \"text\": \"0.49\", \"y\": \"LSTAT\", \"x\": \"RAD\", \"font\": {\"color\": \"#3c3636\"}, \"showarrow\": false}, {\"xref\": \"x1\", \"yref\": \"y1\", \"text\": \"0.54\", \"y\": \"LSTAT\", \"x\": \"TAX\", \"font\": {\"color\": \"#3c3636\"}, \"showarrow\": false}, {\"xref\": \"x1\", \"yref\": \"y1\", \"text\": \"0.37\", \"y\": \"LSTAT\", \"x\": \"PTRATIO\", \"font\": {\"color\": \"#3c3636\"}, \"showarrow\": false}, {\"xref\": \"x1\", \"yref\": \"y1\", \"text\": \"-0.37\", \"y\": \"LSTAT\", \"x\": \"B\", \"font\": {\"color\": \"#efecee\"}, \"showarrow\": false}, {\"xref\": \"x1\", \"yref\": \"y1\", \"text\": \"1.0\", \"y\": \"LSTAT\", \"x\": \"LSTAT\", \"font\": {\"color\": \"#3c3636\"}, \"showarrow\": false}]}, {\"linkText\": \"Export to plot.ly\", \"showLink\": true})});</script>"
      ],
      "text/vnd.plotly.v1+html": [
       "<div id=\"5d63dc44-8de2-44a9-a663-a78ee7dd7388\" style=\"height: 800px; width: 800px;\" class=\"plotly-graph-div\"></div><script type=\"text/javascript\">require([\"plotly\"], function(Plotly) { window.PLOTLYENV=window.PLOTLYENV || {};window.PLOTLYENV.BASE_URL=\"https://plot.ly\";Plotly.newPlot(\"5d63dc44-8de2-44a9-a663-a78ee7dd7388\", [{\"colorscale\": \"Portland\", \"showscale\": true, \"y\": [\"CRIM\", \"ZN\", \"INDUS\", \"CHAS\", \"NOX\", \"RM\", \"AGE\", \"DIS\", \"RAD\", \"TAX\", \"PTRATIO\", \"B\", \"LSTAT\"], \"x\": [\"CRIM\", \"ZN\", \"INDUS\", \"CHAS\", \"NOX\", \"RM\", \"AGE\", \"DIS\", \"RAD\", \"TAX\", \"PTRATIO\", \"B\", \"LSTAT\"], \"z\": [[1.0, -0.2, 0.4, -0.06, 0.42, -0.22, 0.35, -0.38, 0.62, 0.58, 0.29, -0.38, 0.45], [-0.2, 1.0, -0.53, -0.04, -0.52, 0.31, -0.57, 0.66, -0.31, -0.31, -0.39, 0.18, -0.41], [0.4, -0.53, 1.0, 0.06, 0.76, -0.39, 0.64, -0.71, 0.6, 0.72, 0.38, -0.36, 0.6], [-0.06, -0.04, 0.06, 1.0, 0.09, 0.09, 0.09, -0.1, -0.01, -0.04, -0.12, 0.05, -0.05], [0.42, -0.52, 0.76, 0.09, 1.0, -0.3, 0.73, -0.77, 0.61, 0.67, 0.19, -0.38, 0.59], [-0.22, 0.31, -0.39, 0.09, -0.3, 1.0, -0.24, 0.21, -0.21, -0.29, -0.36, 0.13, -0.61], [0.35, -0.57, 0.64, 0.09, 0.73, -0.24, 1.0, -0.75, 0.46, 0.51, 0.26, -0.27, 0.6], [-0.38, 0.66, -0.71, -0.1, -0.77, 0.21, -0.75, 1.0, -0.49, -0.53, -0.23, 0.29, -0.5], [0.62, -0.31, 0.6, -0.01, 0.61, -0.21, 0.46, -0.49, 1.0, 0.91, 0.46, -0.44, 0.49], [0.58, -0.31, 0.72, -0.04, 0.67, -0.29, 0.51, -0.53, 0.91, 1.0, 0.46, -0.44, 0.54], [0.29, -0.39, 0.38, -0.12, 0.19, -0.36, 0.26, -0.23, 0.46, 0.46, 1.0, -0.18, 0.37], [-0.38, 0.18, -0.36, 0.05, -0.38, 0.13, -0.27, 0.29, -0.44, -0.44, -0.18, 1.0, -0.37], [0.45, -0.41, 0.6, -0.05, 0.59, -0.61, 0.6, -0.5, 0.49, 0.54, 0.37, -0.37, 1.0]], \"type\": \"heatmap\"}], {\"yaxis\": {\"tickangle\": -30, \"ticks\": \"\", \"ticksuffix\": \"  \", \"dtick\": 1, \"side\": \"left\"}, \"title\": null, \"height\": 800, \"width\": 800, \"xaxis\": {\"tickangle\": -30, \"ticks\": \"\", \"gridcolor\": \"rgb(0, 0, 0)\", \"side\": \"top\", \"dtick\": 1}, \"margin\": {\"b\": 50, \"r\": 50, \"pad\": 4, \"t\": 250, \"l\": 250}, \"annotations\": [{\"xref\": \"x1\", \"yref\": \"y1\", \"text\": \"1.0\", \"y\": \"CRIM\", \"x\": \"CRIM\", \"font\": {\"color\": \"#3c3636\"}, \"showarrow\": false}, {\"xref\": \"x1\", \"yref\": \"y1\", \"text\": \"-0.2\", \"y\": \"CRIM\", \"x\": \"ZN\", \"font\": {\"color\": \"#efecee\"}, \"showarrow\": false}, {\"xref\": \"x1\", \"yref\": \"y1\", \"text\": \"0.4\", \"y\": \"CRIM\", \"x\": \"INDUS\", \"font\": {\"color\": \"#3c3636\"}, \"showarrow\": false}, {\"xref\": \"x1\", \"yref\": \"y1\", \"text\": \"-0.06\", \"y\": \"CRIM\", \"x\": \"CHAS\", \"font\": {\"color\": \"#efecee\"}, \"showarrow\": false}, {\"xref\": \"x1\", \"yref\": \"y1\", \"text\": \"0.42\", \"y\": \"CRIM\", \"x\": \"NOX\", \"font\": {\"color\": \"#3c3636\"}, \"showarrow\": false}, {\"xref\": \"x1\", \"yref\": \"y1\", \"text\": \"-0.22\", \"y\": \"CRIM\", \"x\": \"RM\", \"font\": {\"color\": \"#efecee\"}, \"showarrow\": false}, {\"xref\": \"x1\", \"yref\": \"y1\", \"text\": \"0.35\", \"y\": \"CRIM\", \"x\": \"AGE\", \"font\": {\"color\": \"#3c3636\"}, \"showarrow\": false}, {\"xref\": \"x1\", \"yref\": \"y1\", \"text\": \"-0.38\", \"y\": \"CRIM\", \"x\": \"DIS\", \"font\": {\"color\": \"#efecee\"}, \"showarrow\": false}, {\"xref\": \"x1\", \"yref\": \"y1\", \"text\": \"0.62\", \"y\": \"CRIM\", \"x\": \"RAD\", \"font\": {\"color\": \"#3c3636\"}, \"showarrow\": false}, {\"xref\": \"x1\", \"yref\": \"y1\", \"text\": \"0.58\", \"y\": \"CRIM\", \"x\": \"TAX\", \"font\": {\"color\": \"#3c3636\"}, \"showarrow\": false}, {\"xref\": \"x1\", \"yref\": \"y1\", \"text\": \"0.29\", \"y\": \"CRIM\", \"x\": \"PTRATIO\", \"font\": {\"color\": \"#3c3636\"}, \"showarrow\": false}, {\"xref\": \"x1\", \"yref\": \"y1\", \"text\": \"-0.38\", \"y\": \"CRIM\", \"x\": \"B\", \"font\": {\"color\": \"#efecee\"}, \"showarrow\": false}, {\"xref\": \"x1\", \"yref\": \"y1\", \"text\": \"0.45\", \"y\": \"CRIM\", \"x\": \"LSTAT\", \"font\": {\"color\": \"#3c3636\"}, \"showarrow\": false}, {\"xref\": \"x1\", \"yref\": \"y1\", \"text\": \"-0.2\", \"y\": \"ZN\", \"x\": \"CRIM\", \"font\": {\"color\": \"#efecee\"}, \"showarrow\": false}, {\"xref\": \"x1\", \"yref\": \"y1\", \"text\": \"1.0\", \"y\": \"ZN\", \"x\": \"ZN\", \"font\": {\"color\": \"#3c3636\"}, \"showarrow\": false}, {\"xref\": \"x1\", \"yref\": \"y1\", \"text\": \"-0.53\", \"y\": \"ZN\", \"x\": \"INDUS\", \"font\": {\"color\": \"#efecee\"}, \"showarrow\": false}, {\"xref\": \"x1\", \"yref\": \"y1\", \"text\": \"-0.04\", \"y\": \"ZN\", \"x\": \"CHAS\", \"font\": {\"color\": \"#efecee\"}, \"showarrow\": false}, {\"xref\": \"x1\", \"yref\": \"y1\", \"text\": \"-0.52\", \"y\": \"ZN\", \"x\": \"NOX\", \"font\": {\"color\": \"#efecee\"}, \"showarrow\": false}, {\"xref\": \"x1\", \"yref\": \"y1\", \"text\": \"0.31\", \"y\": \"ZN\", \"x\": \"RM\", \"font\": {\"color\": \"#3c3636\"}, \"showarrow\": false}, {\"xref\": \"x1\", \"yref\": \"y1\", \"text\": \"-0.57\", \"y\": \"ZN\", \"x\": \"AGE\", \"font\": {\"color\": \"#efecee\"}, \"showarrow\": false}, {\"xref\": \"x1\", \"yref\": \"y1\", \"text\": \"0.66\", \"y\": \"ZN\", \"x\": \"DIS\", \"font\": {\"color\": \"#3c3636\"}, \"showarrow\": false}, {\"xref\": \"x1\", \"yref\": \"y1\", \"text\": \"-0.31\", \"y\": \"ZN\", \"x\": \"RAD\", \"font\": {\"color\": \"#efecee\"}, \"showarrow\": false}, {\"xref\": \"x1\", \"yref\": \"y1\", \"text\": \"-0.31\", \"y\": \"ZN\", \"x\": \"TAX\", \"font\": {\"color\": \"#efecee\"}, \"showarrow\": false}, {\"xref\": \"x1\", \"yref\": \"y1\", \"text\": \"-0.39\", \"y\": \"ZN\", \"x\": \"PTRATIO\", \"font\": {\"color\": \"#efecee\"}, \"showarrow\": false}, {\"xref\": \"x1\", \"yref\": \"y1\", \"text\": \"0.18\", \"y\": \"ZN\", \"x\": \"B\", \"font\": {\"color\": \"#3c3636\"}, \"showarrow\": false}, {\"xref\": \"x1\", \"yref\": \"y1\", \"text\": \"-0.41\", \"y\": \"ZN\", \"x\": \"LSTAT\", \"font\": {\"color\": \"#efecee\"}, \"showarrow\": false}, {\"xref\": \"x1\", \"yref\": \"y1\", \"text\": \"0.4\", \"y\": \"INDUS\", \"x\": \"CRIM\", \"font\": {\"color\": \"#3c3636\"}, \"showarrow\": false}, {\"xref\": \"x1\", \"yref\": \"y1\", \"text\": \"-0.53\", \"y\": \"INDUS\", \"x\": \"ZN\", \"font\": {\"color\": \"#efecee\"}, \"showarrow\": false}, {\"xref\": \"x1\", \"yref\": \"y1\", \"text\": \"1.0\", \"y\": \"INDUS\", \"x\": \"INDUS\", \"font\": {\"color\": \"#3c3636\"}, \"showarrow\": false}, {\"xref\": \"x1\", \"yref\": \"y1\", \"text\": \"0.06\", \"y\": \"INDUS\", \"x\": \"CHAS\", \"font\": {\"color\": \"#efecee\"}, \"showarrow\": false}, {\"xref\": \"x1\", \"yref\": \"y1\", \"text\": \"0.76\", \"y\": \"INDUS\", \"x\": \"NOX\", \"font\": {\"color\": \"#3c3636\"}, \"showarrow\": false}, {\"xref\": \"x1\", \"yref\": \"y1\", \"text\": \"-0.39\", \"y\": \"INDUS\", \"x\": \"RM\", \"font\": {\"color\": \"#efecee\"}, \"showarrow\": false}, {\"xref\": \"x1\", \"yref\": \"y1\", \"text\": \"0.64\", \"y\": \"INDUS\", \"x\": \"AGE\", \"font\": {\"color\": \"#3c3636\"}, \"showarrow\": false}, {\"xref\": \"x1\", \"yref\": \"y1\", \"text\": \"-0.71\", \"y\": \"INDUS\", \"x\": \"DIS\", \"font\": {\"color\": \"#efecee\"}, \"showarrow\": false}, {\"xref\": \"x1\", \"yref\": \"y1\", \"text\": \"0.6\", \"y\": \"INDUS\", \"x\": \"RAD\", \"font\": {\"color\": \"#3c3636\"}, \"showarrow\": false}, {\"xref\": \"x1\", \"yref\": \"y1\", \"text\": \"0.72\", \"y\": \"INDUS\", \"x\": \"TAX\", \"font\": {\"color\": \"#3c3636\"}, \"showarrow\": false}, {\"xref\": \"x1\", \"yref\": \"y1\", \"text\": \"0.38\", \"y\": \"INDUS\", \"x\": \"PTRATIO\", \"font\": {\"color\": \"#3c3636\"}, \"showarrow\": false}, {\"xref\": \"x1\", \"yref\": \"y1\", \"text\": \"-0.36\", \"y\": \"INDUS\", \"x\": \"B\", \"font\": {\"color\": \"#efecee\"}, \"showarrow\": false}, {\"xref\": \"x1\", \"yref\": \"y1\", \"text\": \"0.6\", \"y\": \"INDUS\", \"x\": \"LSTAT\", \"font\": {\"color\": \"#3c3636\"}, \"showarrow\": false}, {\"xref\": \"x1\", \"yref\": \"y1\", \"text\": \"-0.06\", \"y\": \"CHAS\", \"x\": \"CRIM\", \"font\": {\"color\": \"#efecee\"}, \"showarrow\": false}, {\"xref\": \"x1\", \"yref\": \"y1\", \"text\": \"-0.04\", \"y\": \"CHAS\", \"x\": \"ZN\", \"font\": {\"color\": \"#efecee\"}, \"showarrow\": false}, {\"xref\": \"x1\", \"yref\": \"y1\", \"text\": \"0.06\", \"y\": \"CHAS\", \"x\": \"INDUS\", \"font\": {\"color\": \"#efecee\"}, \"showarrow\": false}, {\"xref\": \"x1\", \"yref\": \"y1\", \"text\": \"1.0\", \"y\": \"CHAS\", \"x\": \"CHAS\", \"font\": {\"color\": \"#3c3636\"}, \"showarrow\": false}, {\"xref\": \"x1\", \"yref\": \"y1\", \"text\": \"0.09\", \"y\": \"CHAS\", \"x\": \"NOX\", \"font\": {\"color\": \"#efecee\"}, \"showarrow\": false}, {\"xref\": \"x1\", \"yref\": \"y1\", \"text\": \"0.09\", \"y\": \"CHAS\", \"x\": \"RM\", \"font\": {\"color\": \"#efecee\"}, \"showarrow\": false}, {\"xref\": \"x1\", \"yref\": \"y1\", \"text\": \"0.09\", \"y\": \"CHAS\", \"x\": \"AGE\", \"font\": {\"color\": \"#efecee\"}, \"showarrow\": false}, {\"xref\": \"x1\", \"yref\": \"y1\", \"text\": \"-0.1\", \"y\": \"CHAS\", \"x\": \"DIS\", \"font\": {\"color\": \"#efecee\"}, \"showarrow\": false}, {\"xref\": \"x1\", \"yref\": \"y1\", \"text\": \"-0.01\", \"y\": \"CHAS\", \"x\": \"RAD\", \"font\": {\"color\": \"#efecee\"}, \"showarrow\": false}, {\"xref\": \"x1\", \"yref\": \"y1\", \"text\": \"-0.04\", \"y\": \"CHAS\", \"x\": \"TAX\", \"font\": {\"color\": \"#efecee\"}, \"showarrow\": false}, {\"xref\": \"x1\", \"yref\": \"y1\", \"text\": \"-0.12\", \"y\": \"CHAS\", \"x\": \"PTRATIO\", \"font\": {\"color\": \"#efecee\"}, \"showarrow\": false}, {\"xref\": \"x1\", \"yref\": \"y1\", \"text\": \"0.05\", \"y\": \"CHAS\", \"x\": \"B\", \"font\": {\"color\": \"#efecee\"}, \"showarrow\": false}, {\"xref\": \"x1\", \"yref\": \"y1\", \"text\": \"-0.05\", \"y\": \"CHAS\", \"x\": \"LSTAT\", \"font\": {\"color\": \"#efecee\"}, \"showarrow\": false}, {\"xref\": \"x1\", \"yref\": \"y1\", \"text\": \"0.42\", \"y\": \"NOX\", \"x\": \"CRIM\", \"font\": {\"color\": \"#3c3636\"}, \"showarrow\": false}, {\"xref\": \"x1\", \"yref\": \"y1\", \"text\": \"-0.52\", \"y\": \"NOX\", \"x\": \"ZN\", \"font\": {\"color\": \"#efecee\"}, \"showarrow\": false}, {\"xref\": \"x1\", \"yref\": \"y1\", \"text\": \"0.76\", \"y\": \"NOX\", \"x\": \"INDUS\", \"font\": {\"color\": \"#3c3636\"}, \"showarrow\": false}, {\"xref\": \"x1\", \"yref\": \"y1\", \"text\": \"0.09\", \"y\": \"NOX\", \"x\": \"CHAS\", \"font\": {\"color\": \"#efecee\"}, \"showarrow\": false}, {\"xref\": \"x1\", \"yref\": \"y1\", \"text\": \"1.0\", \"y\": \"NOX\", \"x\": \"NOX\", \"font\": {\"color\": \"#3c3636\"}, \"showarrow\": false}, {\"xref\": \"x1\", \"yref\": \"y1\", \"text\": \"-0.3\", \"y\": \"NOX\", \"x\": \"RM\", \"font\": {\"color\": \"#efecee\"}, \"showarrow\": false}, {\"xref\": \"x1\", \"yref\": \"y1\", \"text\": \"0.73\", \"y\": \"NOX\", \"x\": \"AGE\", \"font\": {\"color\": \"#3c3636\"}, \"showarrow\": false}, {\"xref\": \"x1\", \"yref\": \"y1\", \"text\": \"-0.77\", \"y\": \"NOX\", \"x\": \"DIS\", \"font\": {\"color\": \"#efecee\"}, \"showarrow\": false}, {\"xref\": \"x1\", \"yref\": \"y1\", \"text\": \"0.61\", \"y\": \"NOX\", \"x\": \"RAD\", \"font\": {\"color\": \"#3c3636\"}, \"showarrow\": false}, {\"xref\": \"x1\", \"yref\": \"y1\", \"text\": \"0.67\", \"y\": \"NOX\", \"x\": \"TAX\", \"font\": {\"color\": \"#3c3636\"}, \"showarrow\": false}, {\"xref\": \"x1\", \"yref\": \"y1\", \"text\": \"0.19\", \"y\": \"NOX\", \"x\": \"PTRATIO\", \"font\": {\"color\": \"#3c3636\"}, \"showarrow\": false}, {\"xref\": \"x1\", \"yref\": \"y1\", \"text\": \"-0.38\", \"y\": \"NOX\", \"x\": \"B\", \"font\": {\"color\": \"#efecee\"}, \"showarrow\": false}, {\"xref\": \"x1\", \"yref\": \"y1\", \"text\": \"0.59\", \"y\": \"NOX\", \"x\": \"LSTAT\", \"font\": {\"color\": \"#3c3636\"}, \"showarrow\": false}, {\"xref\": \"x1\", \"yref\": \"y1\", \"text\": \"-0.22\", \"y\": \"RM\", \"x\": \"CRIM\", \"font\": {\"color\": \"#efecee\"}, \"showarrow\": false}, {\"xref\": \"x1\", \"yref\": \"y1\", \"text\": \"0.31\", \"y\": \"RM\", \"x\": \"ZN\", \"font\": {\"color\": \"#3c3636\"}, \"showarrow\": false}, {\"xref\": \"x1\", \"yref\": \"y1\", \"text\": \"-0.39\", \"y\": \"RM\", \"x\": \"INDUS\", \"font\": {\"color\": \"#efecee\"}, \"showarrow\": false}, {\"xref\": \"x1\", \"yref\": \"y1\", \"text\": \"0.09\", \"y\": \"RM\", \"x\": \"CHAS\", \"font\": {\"color\": \"#efecee\"}, \"showarrow\": false}, {\"xref\": \"x1\", \"yref\": \"y1\", \"text\": \"-0.3\", \"y\": \"RM\", \"x\": \"NOX\", \"font\": {\"color\": \"#efecee\"}, \"showarrow\": false}, {\"xref\": \"x1\", \"yref\": \"y1\", \"text\": \"1.0\", \"y\": \"RM\", \"x\": \"RM\", \"font\": {\"color\": \"#3c3636\"}, \"showarrow\": false}, {\"xref\": \"x1\", \"yref\": \"y1\", \"text\": \"-0.24\", \"y\": \"RM\", \"x\": \"AGE\", \"font\": {\"color\": \"#efecee\"}, \"showarrow\": false}, {\"xref\": \"x1\", \"yref\": \"y1\", \"text\": \"0.21\", \"y\": \"RM\", \"x\": \"DIS\", \"font\": {\"color\": \"#3c3636\"}, \"showarrow\": false}, {\"xref\": \"x1\", \"yref\": \"y1\", \"text\": \"-0.21\", \"y\": \"RM\", \"x\": \"RAD\", \"font\": {\"color\": \"#efecee\"}, \"showarrow\": false}, {\"xref\": \"x1\", \"yref\": \"y1\", \"text\": \"-0.29\", \"y\": \"RM\", \"x\": \"TAX\", \"font\": {\"color\": \"#efecee\"}, \"showarrow\": false}, {\"xref\": \"x1\", \"yref\": \"y1\", \"text\": \"-0.36\", \"y\": \"RM\", \"x\": \"PTRATIO\", \"font\": {\"color\": \"#efecee\"}, \"showarrow\": false}, {\"xref\": \"x1\", \"yref\": \"y1\", \"text\": \"0.13\", \"y\": \"RM\", \"x\": \"B\", \"font\": {\"color\": \"#3c3636\"}, \"showarrow\": false}, {\"xref\": \"x1\", \"yref\": \"y1\", \"text\": \"-0.61\", \"y\": \"RM\", \"x\": \"LSTAT\", \"font\": {\"color\": \"#efecee\"}, \"showarrow\": false}, {\"xref\": \"x1\", \"yref\": \"y1\", \"text\": \"0.35\", \"y\": \"AGE\", \"x\": \"CRIM\", \"font\": {\"color\": \"#3c3636\"}, \"showarrow\": false}, {\"xref\": \"x1\", \"yref\": \"y1\", \"text\": \"-0.57\", \"y\": \"AGE\", \"x\": \"ZN\", \"font\": {\"color\": \"#efecee\"}, \"showarrow\": false}, {\"xref\": \"x1\", \"yref\": \"y1\", \"text\": \"0.64\", \"y\": \"AGE\", \"x\": \"INDUS\", \"font\": {\"color\": \"#3c3636\"}, \"showarrow\": false}, {\"xref\": \"x1\", \"yref\": \"y1\", \"text\": \"0.09\", \"y\": \"AGE\", \"x\": \"CHAS\", \"font\": {\"color\": \"#efecee\"}, \"showarrow\": false}, {\"xref\": \"x1\", \"yref\": \"y1\", \"text\": \"0.73\", \"y\": \"AGE\", \"x\": \"NOX\", \"font\": {\"color\": \"#3c3636\"}, \"showarrow\": false}, {\"xref\": \"x1\", \"yref\": \"y1\", \"text\": \"-0.24\", \"y\": \"AGE\", \"x\": \"RM\", \"font\": {\"color\": \"#efecee\"}, \"showarrow\": false}, {\"xref\": \"x1\", \"yref\": \"y1\", \"text\": \"1.0\", \"y\": \"AGE\", \"x\": \"AGE\", \"font\": {\"color\": \"#3c3636\"}, \"showarrow\": false}, {\"xref\": \"x1\", \"yref\": \"y1\", \"text\": \"-0.75\", \"y\": \"AGE\", \"x\": \"DIS\", \"font\": {\"color\": \"#efecee\"}, \"showarrow\": false}, {\"xref\": \"x1\", \"yref\": \"y1\", \"text\": \"0.46\", \"y\": \"AGE\", \"x\": \"RAD\", \"font\": {\"color\": \"#3c3636\"}, \"showarrow\": false}, {\"xref\": \"x1\", \"yref\": \"y1\", \"text\": \"0.51\", \"y\": \"AGE\", \"x\": \"TAX\", \"font\": {\"color\": \"#3c3636\"}, \"showarrow\": false}, {\"xref\": \"x1\", \"yref\": \"y1\", \"text\": \"0.26\", \"y\": \"AGE\", \"x\": \"PTRATIO\", \"font\": {\"color\": \"#3c3636\"}, \"showarrow\": false}, {\"xref\": \"x1\", \"yref\": \"y1\", \"text\": \"-0.27\", \"y\": \"AGE\", \"x\": \"B\", \"font\": {\"color\": \"#efecee\"}, \"showarrow\": false}, {\"xref\": \"x1\", \"yref\": \"y1\", \"text\": \"0.6\", \"y\": \"AGE\", \"x\": \"LSTAT\", \"font\": {\"color\": \"#3c3636\"}, \"showarrow\": false}, {\"xref\": \"x1\", \"yref\": \"y1\", \"text\": \"-0.38\", \"y\": \"DIS\", \"x\": \"CRIM\", \"font\": {\"color\": \"#efecee\"}, \"showarrow\": false}, {\"xref\": \"x1\", \"yref\": \"y1\", \"text\": \"0.66\", \"y\": \"DIS\", \"x\": \"ZN\", \"font\": {\"color\": \"#3c3636\"}, \"showarrow\": false}, {\"xref\": \"x1\", \"yref\": \"y1\", \"text\": \"-0.71\", \"y\": \"DIS\", \"x\": \"INDUS\", \"font\": {\"color\": \"#efecee\"}, \"showarrow\": false}, {\"xref\": \"x1\", \"yref\": \"y1\", \"text\": \"-0.1\", \"y\": \"DIS\", \"x\": \"CHAS\", \"font\": {\"color\": \"#efecee\"}, \"showarrow\": false}, {\"xref\": \"x1\", \"yref\": \"y1\", \"text\": \"-0.77\", \"y\": \"DIS\", \"x\": \"NOX\", \"font\": {\"color\": \"#efecee\"}, \"showarrow\": false}, {\"xref\": \"x1\", \"yref\": \"y1\", \"text\": \"0.21\", \"y\": \"DIS\", \"x\": \"RM\", \"font\": {\"color\": \"#3c3636\"}, \"showarrow\": false}, {\"xref\": \"x1\", \"yref\": \"y1\", \"text\": \"-0.75\", \"y\": \"DIS\", \"x\": \"AGE\", \"font\": {\"color\": \"#efecee\"}, \"showarrow\": false}, {\"xref\": \"x1\", \"yref\": \"y1\", \"text\": \"1.0\", \"y\": \"DIS\", \"x\": \"DIS\", \"font\": {\"color\": \"#3c3636\"}, \"showarrow\": false}, {\"xref\": \"x1\", \"yref\": \"y1\", \"text\": \"-0.49\", \"y\": \"DIS\", \"x\": \"RAD\", \"font\": {\"color\": \"#efecee\"}, \"showarrow\": false}, {\"xref\": \"x1\", \"yref\": \"y1\", \"text\": \"-0.53\", \"y\": \"DIS\", \"x\": \"TAX\", \"font\": {\"color\": \"#efecee\"}, \"showarrow\": false}, {\"xref\": \"x1\", \"yref\": \"y1\", \"text\": \"-0.23\", \"y\": \"DIS\", \"x\": \"PTRATIO\", \"font\": {\"color\": \"#efecee\"}, \"showarrow\": false}, {\"xref\": \"x1\", \"yref\": \"y1\", \"text\": \"0.29\", \"y\": \"DIS\", \"x\": \"B\", \"font\": {\"color\": \"#3c3636\"}, \"showarrow\": false}, {\"xref\": \"x1\", \"yref\": \"y1\", \"text\": \"-0.5\", \"y\": \"DIS\", \"x\": \"LSTAT\", \"font\": {\"color\": \"#efecee\"}, \"showarrow\": false}, {\"xref\": \"x1\", \"yref\": \"y1\", \"text\": \"0.62\", \"y\": \"RAD\", \"x\": \"CRIM\", \"font\": {\"color\": \"#3c3636\"}, \"showarrow\": false}, {\"xref\": \"x1\", \"yref\": \"y1\", \"text\": \"-0.31\", \"y\": \"RAD\", \"x\": \"ZN\", \"font\": {\"color\": \"#efecee\"}, \"showarrow\": false}, {\"xref\": \"x1\", \"yref\": \"y1\", \"text\": \"0.6\", \"y\": \"RAD\", \"x\": \"INDUS\", \"font\": {\"color\": \"#3c3636\"}, \"showarrow\": false}, {\"xref\": \"x1\", \"yref\": \"y1\", \"text\": \"-0.01\", \"y\": \"RAD\", \"x\": \"CHAS\", \"font\": {\"color\": \"#efecee\"}, \"showarrow\": false}, {\"xref\": \"x1\", \"yref\": \"y1\", \"text\": \"0.61\", \"y\": \"RAD\", \"x\": \"NOX\", \"font\": {\"color\": \"#3c3636\"}, \"showarrow\": false}, {\"xref\": \"x1\", \"yref\": \"y1\", \"text\": \"-0.21\", \"y\": \"RAD\", \"x\": \"RM\", \"font\": {\"color\": \"#efecee\"}, \"showarrow\": false}, {\"xref\": \"x1\", \"yref\": \"y1\", \"text\": \"0.46\", \"y\": \"RAD\", \"x\": \"AGE\", \"font\": {\"color\": \"#3c3636\"}, \"showarrow\": false}, {\"xref\": \"x1\", \"yref\": \"y1\", \"text\": \"-0.49\", \"y\": \"RAD\", \"x\": \"DIS\", \"font\": {\"color\": \"#efecee\"}, \"showarrow\": false}, {\"xref\": \"x1\", \"yref\": \"y1\", \"text\": \"1.0\", \"y\": \"RAD\", \"x\": \"RAD\", \"font\": {\"color\": \"#3c3636\"}, \"showarrow\": false}, {\"xref\": \"x1\", \"yref\": \"y1\", \"text\": \"0.91\", \"y\": \"RAD\", \"x\": \"TAX\", \"font\": {\"color\": \"#3c3636\"}, \"showarrow\": false}, {\"xref\": \"x1\", \"yref\": \"y1\", \"text\": \"0.46\", \"y\": \"RAD\", \"x\": \"PTRATIO\", \"font\": {\"color\": \"#3c3636\"}, \"showarrow\": false}, {\"xref\": \"x1\", \"yref\": \"y1\", \"text\": \"-0.44\", \"y\": \"RAD\", \"x\": \"B\", \"font\": {\"color\": \"#efecee\"}, \"showarrow\": false}, {\"xref\": \"x1\", \"yref\": \"y1\", \"text\": \"0.49\", \"y\": \"RAD\", \"x\": \"LSTAT\", \"font\": {\"color\": \"#3c3636\"}, \"showarrow\": false}, {\"xref\": \"x1\", \"yref\": \"y1\", \"text\": \"0.58\", \"y\": \"TAX\", \"x\": \"CRIM\", \"font\": {\"color\": \"#3c3636\"}, \"showarrow\": false}, {\"xref\": \"x1\", \"yref\": \"y1\", \"text\": \"-0.31\", \"y\": \"TAX\", \"x\": \"ZN\", \"font\": {\"color\": \"#efecee\"}, \"showarrow\": false}, {\"xref\": \"x1\", \"yref\": \"y1\", \"text\": \"0.72\", \"y\": \"TAX\", \"x\": \"INDUS\", \"font\": {\"color\": \"#3c3636\"}, \"showarrow\": false}, {\"xref\": \"x1\", \"yref\": \"y1\", \"text\": \"-0.04\", \"y\": \"TAX\", \"x\": \"CHAS\", \"font\": {\"color\": \"#efecee\"}, \"showarrow\": false}, {\"xref\": \"x1\", \"yref\": \"y1\", \"text\": \"0.67\", \"y\": \"TAX\", \"x\": \"NOX\", \"font\": {\"color\": \"#3c3636\"}, \"showarrow\": false}, {\"xref\": \"x1\", \"yref\": \"y1\", \"text\": \"-0.29\", \"y\": \"TAX\", \"x\": \"RM\", \"font\": {\"color\": \"#efecee\"}, \"showarrow\": false}, {\"xref\": \"x1\", \"yref\": \"y1\", \"text\": \"0.51\", \"y\": \"TAX\", \"x\": \"AGE\", \"font\": {\"color\": \"#3c3636\"}, \"showarrow\": false}, {\"xref\": \"x1\", \"yref\": \"y1\", \"text\": \"-0.53\", \"y\": \"TAX\", \"x\": \"DIS\", \"font\": {\"color\": \"#efecee\"}, \"showarrow\": false}, {\"xref\": \"x1\", \"yref\": \"y1\", \"text\": \"0.91\", \"y\": \"TAX\", \"x\": \"RAD\", \"font\": {\"color\": \"#3c3636\"}, \"showarrow\": false}, {\"xref\": \"x1\", \"yref\": \"y1\", \"text\": \"1.0\", \"y\": \"TAX\", \"x\": \"TAX\", \"font\": {\"color\": \"#3c3636\"}, \"showarrow\": false}, {\"xref\": \"x1\", \"yref\": \"y1\", \"text\": \"0.46\", \"y\": \"TAX\", \"x\": \"PTRATIO\", \"font\": {\"color\": \"#3c3636\"}, \"showarrow\": false}, {\"xref\": \"x1\", \"yref\": \"y1\", \"text\": \"-0.44\", \"y\": \"TAX\", \"x\": \"B\", \"font\": {\"color\": \"#efecee\"}, \"showarrow\": false}, {\"xref\": \"x1\", \"yref\": \"y1\", \"text\": \"0.54\", \"y\": \"TAX\", \"x\": \"LSTAT\", \"font\": {\"color\": \"#3c3636\"}, \"showarrow\": false}, {\"xref\": \"x1\", \"yref\": \"y1\", \"text\": \"0.29\", \"y\": \"PTRATIO\", \"x\": \"CRIM\", \"font\": {\"color\": \"#3c3636\"}, \"showarrow\": false}, {\"xref\": \"x1\", \"yref\": \"y1\", \"text\": \"-0.39\", \"y\": \"PTRATIO\", \"x\": \"ZN\", \"font\": {\"color\": \"#efecee\"}, \"showarrow\": false}, {\"xref\": \"x1\", \"yref\": \"y1\", \"text\": \"0.38\", \"y\": \"PTRATIO\", \"x\": \"INDUS\", \"font\": {\"color\": \"#3c3636\"}, \"showarrow\": false}, {\"xref\": \"x1\", \"yref\": \"y1\", \"text\": \"-0.12\", \"y\": \"PTRATIO\", \"x\": \"CHAS\", \"font\": {\"color\": \"#efecee\"}, \"showarrow\": false}, {\"xref\": \"x1\", \"yref\": \"y1\", \"text\": \"0.19\", \"y\": \"PTRATIO\", \"x\": \"NOX\", \"font\": {\"color\": \"#3c3636\"}, \"showarrow\": false}, {\"xref\": \"x1\", \"yref\": \"y1\", \"text\": \"-0.36\", \"y\": \"PTRATIO\", \"x\": \"RM\", \"font\": {\"color\": \"#efecee\"}, \"showarrow\": false}, {\"xref\": \"x1\", \"yref\": \"y1\", \"text\": \"0.26\", \"y\": \"PTRATIO\", \"x\": \"AGE\", \"font\": {\"color\": \"#3c3636\"}, \"showarrow\": false}, {\"xref\": \"x1\", \"yref\": \"y1\", \"text\": \"-0.23\", \"y\": \"PTRATIO\", \"x\": \"DIS\", \"font\": {\"color\": \"#efecee\"}, \"showarrow\": false}, {\"xref\": \"x1\", \"yref\": \"y1\", \"text\": \"0.46\", \"y\": \"PTRATIO\", \"x\": \"RAD\", \"font\": {\"color\": \"#3c3636\"}, \"showarrow\": false}, {\"xref\": \"x1\", \"yref\": \"y1\", \"text\": \"0.46\", \"y\": \"PTRATIO\", \"x\": \"TAX\", \"font\": {\"color\": \"#3c3636\"}, \"showarrow\": false}, {\"xref\": \"x1\", \"yref\": \"y1\", \"text\": \"1.0\", \"y\": \"PTRATIO\", \"x\": \"PTRATIO\", \"font\": {\"color\": \"#3c3636\"}, \"showarrow\": false}, {\"xref\": \"x1\", \"yref\": \"y1\", \"text\": \"-0.18\", \"y\": \"PTRATIO\", \"x\": \"B\", \"font\": {\"color\": \"#efecee\"}, \"showarrow\": false}, {\"xref\": \"x1\", \"yref\": \"y1\", \"text\": \"0.37\", \"y\": \"PTRATIO\", \"x\": \"LSTAT\", \"font\": {\"color\": \"#3c3636\"}, \"showarrow\": false}, {\"xref\": \"x1\", \"yref\": \"y1\", \"text\": \"-0.38\", \"y\": \"B\", \"x\": \"CRIM\", \"font\": {\"color\": \"#efecee\"}, \"showarrow\": false}, {\"xref\": \"x1\", \"yref\": \"y1\", \"text\": \"0.18\", \"y\": \"B\", \"x\": \"ZN\", \"font\": {\"color\": \"#3c3636\"}, \"showarrow\": false}, {\"xref\": \"x1\", \"yref\": \"y1\", \"text\": \"-0.36\", \"y\": \"B\", \"x\": \"INDUS\", \"font\": {\"color\": \"#efecee\"}, \"showarrow\": false}, {\"xref\": \"x1\", \"yref\": \"y1\", \"text\": \"0.05\", \"y\": \"B\", \"x\": \"CHAS\", \"font\": {\"color\": \"#efecee\"}, \"showarrow\": false}, {\"xref\": \"x1\", \"yref\": \"y1\", \"text\": \"-0.38\", \"y\": \"B\", \"x\": \"NOX\", \"font\": {\"color\": \"#efecee\"}, \"showarrow\": false}, {\"xref\": \"x1\", \"yref\": \"y1\", \"text\": \"0.13\", \"y\": \"B\", \"x\": \"RM\", \"font\": {\"color\": \"#3c3636\"}, \"showarrow\": false}, {\"xref\": \"x1\", \"yref\": \"y1\", \"text\": \"-0.27\", \"y\": \"B\", \"x\": \"AGE\", \"font\": {\"color\": \"#efecee\"}, \"showarrow\": false}, {\"xref\": \"x1\", \"yref\": \"y1\", \"text\": \"0.29\", \"y\": \"B\", \"x\": \"DIS\", \"font\": {\"color\": \"#3c3636\"}, \"showarrow\": false}, {\"xref\": \"x1\", \"yref\": \"y1\", \"text\": \"-0.44\", \"y\": \"B\", \"x\": \"RAD\", \"font\": {\"color\": \"#efecee\"}, \"showarrow\": false}, {\"xref\": \"x1\", \"yref\": \"y1\", \"text\": \"-0.44\", \"y\": \"B\", \"x\": \"TAX\", \"font\": {\"color\": \"#efecee\"}, \"showarrow\": false}, {\"xref\": \"x1\", \"yref\": \"y1\", \"text\": \"-0.18\", \"y\": \"B\", \"x\": \"PTRATIO\", \"font\": {\"color\": \"#efecee\"}, \"showarrow\": false}, {\"xref\": \"x1\", \"yref\": \"y1\", \"text\": \"1.0\", \"y\": \"B\", \"x\": \"B\", \"font\": {\"color\": \"#3c3636\"}, \"showarrow\": false}, {\"xref\": \"x1\", \"yref\": \"y1\", \"text\": \"-0.37\", \"y\": \"B\", \"x\": \"LSTAT\", \"font\": {\"color\": \"#efecee\"}, \"showarrow\": false}, {\"xref\": \"x1\", \"yref\": \"y1\", \"text\": \"0.45\", \"y\": \"LSTAT\", \"x\": \"CRIM\", \"font\": {\"color\": \"#3c3636\"}, \"showarrow\": false}, {\"xref\": \"x1\", \"yref\": \"y1\", \"text\": \"-0.41\", \"y\": \"LSTAT\", \"x\": \"ZN\", \"font\": {\"color\": \"#efecee\"}, \"showarrow\": false}, {\"xref\": \"x1\", \"yref\": \"y1\", \"text\": \"0.6\", \"y\": \"LSTAT\", \"x\": \"INDUS\", \"font\": {\"color\": \"#3c3636\"}, \"showarrow\": false}, {\"xref\": \"x1\", \"yref\": \"y1\", \"text\": \"-0.05\", \"y\": \"LSTAT\", \"x\": \"CHAS\", \"font\": {\"color\": \"#efecee\"}, \"showarrow\": false}, {\"xref\": \"x1\", \"yref\": \"y1\", \"text\": \"0.59\", \"y\": \"LSTAT\", \"x\": \"NOX\", \"font\": {\"color\": \"#3c3636\"}, \"showarrow\": false}, {\"xref\": \"x1\", \"yref\": \"y1\", \"text\": \"-0.61\", \"y\": \"LSTAT\", \"x\": \"RM\", \"font\": {\"color\": \"#efecee\"}, \"showarrow\": false}, {\"xref\": \"x1\", \"yref\": \"y1\", \"text\": \"0.6\", \"y\": \"LSTAT\", \"x\": \"AGE\", \"font\": {\"color\": \"#3c3636\"}, \"showarrow\": false}, {\"xref\": \"x1\", \"yref\": \"y1\", \"text\": \"-0.5\", \"y\": \"LSTAT\", \"x\": \"DIS\", \"font\": {\"color\": \"#efecee\"}, \"showarrow\": false}, {\"xref\": \"x1\", \"yref\": \"y1\", \"text\": \"0.49\", \"y\": \"LSTAT\", \"x\": \"RAD\", \"font\": {\"color\": \"#3c3636\"}, \"showarrow\": false}, {\"xref\": \"x1\", \"yref\": \"y1\", \"text\": \"0.54\", \"y\": \"LSTAT\", \"x\": \"TAX\", \"font\": {\"color\": \"#3c3636\"}, \"showarrow\": false}, {\"xref\": \"x1\", \"yref\": \"y1\", \"text\": \"0.37\", \"y\": \"LSTAT\", \"x\": \"PTRATIO\", \"font\": {\"color\": \"#3c3636\"}, \"showarrow\": false}, {\"xref\": \"x1\", \"yref\": \"y1\", \"text\": \"-0.37\", \"y\": \"LSTAT\", \"x\": \"B\", \"font\": {\"color\": \"#efecee\"}, \"showarrow\": false}, {\"xref\": \"x1\", \"yref\": \"y1\", \"text\": \"1.0\", \"y\": \"LSTAT\", \"x\": \"LSTAT\", \"font\": {\"color\": \"#3c3636\"}, \"showarrow\": false}]}, {\"linkText\": \"Export to plot.ly\", \"showLink\": true})});</script>"
      ]
     },
     "metadata": {},
     "output_type": "display_data"
    }
   ],
   "source": [
    "plot_correlation_matrix( df.corr().round(2) )"
   ]
  }
 ],
 "metadata": {
  "kernelspec": {
   "display_name": "Python 2",
   "language": "python",
   "name": "python2"
  },
  "language_info": {
   "codemirror_mode": {
    "name": "ipython",
    "version": 2
   },
   "file_extension": ".py",
   "mimetype": "text/x-python",
   "name": "python",
   "nbconvert_exporter": "python",
   "pygments_lexer": "ipython2",
   "version": "2.7.13"
  }
 },
 "nbformat": 4,
 "nbformat_minor": 2
}
